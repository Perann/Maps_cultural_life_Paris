{
 "cells": [
  {
   "cell_type": "code",
   "execution_count": 15,
   "metadata": {},
   "outputs": [],
   "source": [
    "import bs4\n",
    "import lxml\n",
    "import pandas as pd\n",
    "import urllib\n",
    "from urllib import request\n",
    "import matplotlib.pyplot as plt\n",
    "import matplotlib.image as mpimg\n",
    "import shutil"
   ]
  },
  {
   "cell_type": "code",
   "execution_count": 2,
   "metadata": {},
   "outputs": [
    {
     "ename": "NameError",
     "evalue": "name 'request' is not defined",
     "output_type": "error",
     "traceback": [
      "\u001b[1;31m---------------------------------------------------------------------------\u001b[0m",
      "\u001b[1;31mNameError\u001b[0m                                 Traceback (most recent call last)",
      "\u001b[1;32mc:\\Users\\LENOVO\\Desktop\\Ou sortir à Paris\\Python_2A\\BarsMusicaux\\test_DataScrap.ipynb Cell 2\u001b[0m line \u001b[0;36m3\n\u001b[0;32m      <a href='vscode-notebook-cell:/c%3A/Users/LENOVO/Desktop/Ou%20sortir%20%C3%A0%20Paris/Python_2A/BarsMusicaux/test_DataScrap.ipynb#W1sZmlsZQ%3D%3D?line=0'>1</a>\u001b[0m \u001b[39m#Le 38 Riv\u001b[39;00m\n\u001b[0;32m      <a href='vscode-notebook-cell:/c%3A/Users/LENOVO/Desktop/Ou%20sortir%20%C3%A0%20Paris/Python_2A/BarsMusicaux/test_DataScrap.ipynb#W1sZmlsZQ%3D%3D?line=1'>2</a>\u001b[0m url \u001b[39m=\u001b[39m \u001b[39m\"\u001b[39m\u001b[39mhttps://www.38riv.com/billetterie-2/\u001b[39m\u001b[39m\"\u001b[39m\n\u001b[1;32m----> <a href='vscode-notebook-cell:/c%3A/Users/LENOVO/Desktop/Ou%20sortir%20%C3%A0%20Paris/Python_2A/BarsMusicaux/test_DataScrap.ipynb#W1sZmlsZQ%3D%3D?line=2'>3</a>\u001b[0m request_text \u001b[39m=\u001b[39m request\u001b[39m.\u001b[39murlopen(url)\u001b[39m.\u001b[39mread()\n\u001b[0;32m      <a href='vscode-notebook-cell:/c%3A/Users/LENOVO/Desktop/Ou%20sortir%20%C3%A0%20Paris/Python_2A/BarsMusicaux/test_DataScrap.ipynb#W1sZmlsZQ%3D%3D?line=3'>4</a>\u001b[0m page \u001b[39m=\u001b[39m bs4\u001b[39m.\u001b[39mBeautifulSoup(request_text, \u001b[39m\"\u001b[39m\u001b[39mlxml\u001b[39m\u001b[39m\"\u001b[39m)\n\u001b[0;32m      <a href='vscode-notebook-cell:/c%3A/Users/LENOVO/Desktop/Ou%20sortir%20%C3%A0%20Paris/Python_2A/BarsMusicaux/test_DataScrap.ipynb#W1sZmlsZQ%3D%3D?line=4'>5</a>\u001b[0m link_list \u001b[39m=\u001b[39m page\u001b[39m.\u001b[39mfind_all(\u001b[39m'\u001b[39m\u001b[39ma\u001b[39m\u001b[39m'\u001b[39m, {\u001b[39m\"\u001b[39m\u001b[39mclass\u001b[39m\u001b[39m\"\u001b[39m: \u001b[39m\"\u001b[39m\u001b[39mopen_tickets\u001b[39m\u001b[39m\"\u001b[39m})\n",
      "\u001b[1;31mNameError\u001b[0m: name 'request' is not defined"
     ]
    }
   ],
   "source": [
    "#Le 38 Riv\n",
    "url = \"https://www.38riv.com/billetterie-2/\"\n",
    "request_text = request.urlopen(url).read()\n",
    "page = bs4.BeautifulSoup(request_text, \"lxml\")\n",
    "link_list = page.find_all('a', {\"class\": \"open_tickets\"})\n",
    "print(link_list)"
   ]
  },
  {
   "cell_type": "code",
   "execution_count": 53,
   "metadata": {},
   "outputs": [
    {
     "data": {
      "text/html": [
       "<div>\n",
       "<style scoped>\n",
       "    .dataframe tbody tr th:only-of-type {\n",
       "        vertical-align: middle;\n",
       "    }\n",
       "\n",
       "    .dataframe tbody tr th {\n",
       "        vertical-align: top;\n",
       "    }\n",
       "\n",
       "    .dataframe thead th {\n",
       "        text-align: right;\n",
       "    }\n",
       "</style>\n",
       "<table border=\"1\" class=\"dataframe\">\n",
       "  <thead>\n",
       "    <tr style=\"text-align: right;\">\n",
       "      <th></th>\n",
       "      <th>nom</th>\n",
       "      <th>date</th>\n",
       "      <th>heure</th>\n",
       "      <th>prix</th>\n",
       "      <th>etablissement</th>\n",
       "      <th>adresse</th>\n",
       "      <th>arrondissement</th>\n",
       "    </tr>\n",
       "  </thead>\n",
       "  <tbody>\n",
       "    <tr>\n",
       "      <th>25</th>\n",
       "      <td>unknown</td>\n",
       "      <td>Mardi 12 décembre</td>\n",
       "      <td>20h</td>\n",
       "      <td>8</td>\n",
       "      <td>L'international</td>\n",
       "      <td>5 rue Moret</td>\n",
       "      <td>11</td>\n",
       "    </tr>\n",
       "    <tr>\n",
       "      <th>26</th>\n",
       "      <td>unknown</td>\n",
       "      <td>Mercredi 13 décembre</td>\n",
       "      <td>20h</td>\n",
       "      <td>7</td>\n",
       "      <td>L'international</td>\n",
       "      <td>5 rue Moret</td>\n",
       "      <td>11</td>\n",
       "    </tr>\n",
       "    <tr>\n",
       "      <th>27</th>\n",
       "      <td>unknown</td>\n",
       "      <td>Jeudi 14 décembre</td>\n",
       "      <td>20h</td>\n",
       "      <td>8</td>\n",
       "      <td>L'international</td>\n",
       "      <td>5 rue Moret</td>\n",
       "      <td>11</td>\n",
       "    </tr>\n",
       "    <tr>\n",
       "      <th>28</th>\n",
       "      <td>unknown</td>\n",
       "      <td>Jeudi 14 décembre</td>\n",
       "      <td>00h</td>\n",
       "      <td>5</td>\n",
       "      <td>L'international</td>\n",
       "      <td>5 rue Moret</td>\n",
       "      <td>11</td>\n",
       "    </tr>\n",
       "    <tr>\n",
       "      <th>29</th>\n",
       "      <td>unknown</td>\n",
       "      <td>Vendredi 15 décembre</td>\n",
       "      <td>00h</td>\n",
       "      <td>7</td>\n",
       "      <td>L'international</td>\n",
       "      <td>5 rue Moret</td>\n",
       "      <td>11</td>\n",
       "    </tr>\n",
       "  </tbody>\n",
       "</table>\n",
       "</div>"
      ],
      "text/plain": [
       "        nom                  date heure prix    etablissement      adresse  \\\n",
       "25  unknown     Mardi 12 décembre   20h    8  L'international  5 rue Moret   \n",
       "26  unknown  Mercredi 13 décembre   20h    7  L'international  5 rue Moret   \n",
       "27  unknown     Jeudi 14 décembre   20h    8  L'international  5 rue Moret   \n",
       "28  unknown     Jeudi 14 décembre   00h    5  L'international  5 rue Moret   \n",
       "29  unknown  Vendredi 15 décembre   00h    7  L'international  5 rue Moret   \n",
       "\n",
       "    arrondissement  \n",
       "25              11  \n",
       "26              11  \n",
       "27              11  \n",
       "28              11  \n",
       "29              11  "
      ]
     },
     "execution_count": 53,
     "metadata": {},
     "output_type": "execute_result"
    }
   ],
   "source": [
    "#L'international\n",
    "url_2 = \"https://www.linternational.fr/agenda\"\n",
    "request_text = request.urlopen(url_2).read()\n",
    "page = bs4.BeautifulSoup(request_text, \"lxml\")\n",
    "exhibitions = page.find_all('div', class_ = \"Zz5cHg\")\n",
    "information = ['nom', 'date','heure','prix','etablissement','adresse','arrondissement']\n",
    "D = {key:[] for key in information}\n",
    "for exhibition in exhibitions:\n",
    "    info = exhibition.img.get('alt').split(' - ')\n",
    "    D['date'].append(info[0])\n",
    "    D['heure'].append(info[1])\n",
    "    D['prix'].append(info[2])\n",
    "n = len(D['date'])\n",
    "\n",
    "p = []\n",
    "for prix in D['prix']:\n",
    "    p.append(prix[:-1])\n",
    "D['prix'] = p\n",
    "\n",
    "D['etablissement'] = [\"L'international\"]*n\n",
    "D['nom'] = ['unknown']*n\n",
    "D['adresse'] = [\"5 rue Moret\"]*n\n",
    "D['arrondissement'] = [11]*n\n",
    "\n",
    "data = pd.DataFrame(D)\n",
    "data.tail()\n",
    "#international_csv = data.to_csv('C:\\\\Users\\\\LENOVO\\\\Desktop\\\\data_international.csv', index =False, encoding = 'utf-8')\n",
    "\n"
   ]
  },
  {
   "cell_type": "code",
   "execution_count": 16,
   "metadata": {},
   "outputs": [
    {
     "name": "stdout",
     "output_type": "stream",
     "text": [
      "['https://static.wixstatic.com/media/3f3a7f_d6b32b0656354f06b9132f271c24431c~mv2.jpeg/v1/fill/w_147,h_77,al_c,q_80,usm_0.66_1.00_0.01,blur_2,enc_auto/3f3a7f_d6b32b0656354f06b9132f271c24431c~mv2.jpeg', 'https://static.wixstatic.com/media/3f3a7f_044cb6ea035f403dbbcdf47b07f8a81a~mv2.png/v1/fill/w_49,h_49,al_c,q_85,usm_0.66_1.00_0.01,blur_2,enc_auto/3f3a7f_044cb6ea035f403dbbcdf47b07f8a81a~mv2.png', 'https://static.wixstatic.com/media/3f3a7f_b423d6bd848d42c7be90559302b65e5b~mv2.png/v1/fill/w_49,h_26,al_c,q_85,usm_0.66_1.00_0.01,blur_2,enc_auto/3f3a7f_b423d6bd848d42c7be90559302b65e5b~mv2.png', 'https://static.wixstatic.com/media/3f3a7f_84d7823d333c4fcc9194fb4445dbfae0~mv2.jpeg/v1/fill/w_147,h_77,al_c,q_80,usm_0.66_1.00_0.01,blur_2,enc_auto/3f3a7f_84d7823d333c4fcc9194fb4445dbfae0~mv2.jpeg', 'https://static.wixstatic.com/media/3f3a7f_4f631e99e059424e97566abf6db2b217~mv2.png/v1/fill/w_49,h_26,al_c,q_85,usm_0.66_1.00_0.01,blur_2,enc_auto/3f3a7f_4f631e99e059424e97566abf6db2b217~mv2.png', 'https://static.wixstatic.com/media/3f3a7f_5e40ae36c64e46919bc8725be480684e~mv2.png/v1/fill/w_49,h_26,al_c,q_85,usm_0.66_1.00_0.01,blur_2,enc_auto/3f3a7f_5e40ae36c64e46919bc8725be480684e~mv2.png', 'https://static.wixstatic.com/media/3f3a7f_18eedc1cc8884f4e91dc33935e5537e3~mv2.jpeg/v1/fill/w_130,h_73,al_c,q_80,usm_0.66_1.00_0.01,blur_2,enc_auto/3f3a7f_18eedc1cc8884f4e91dc33935e5537e3~mv2.jpeg', 'https://static.wixstatic.com/media/3f3a7f_10881498eb1045c0abb31e6722ec8f9f~mv2.jpeg/v1/fill/w_147,h_104,al_c,q_80,usm_0.66_1.00_0.01,blur_2,enc_auto/3f3a7f_10881498eb1045c0abb31e6722ec8f9f~mv2.jpeg', 'https://static.wixstatic.com/media/3f3a7f_3a70fa738d7446329406d5f07bfe0e3e~mv2.jpeg/v1/fill/w_147,h_118,al_c,q_80,usm_0.66_1.00_0.01,blur_2,enc_auto/3f3a7f_3a70fa738d7446329406d5f07bfe0e3e~mv2.jpeg', 'https://static.wixstatic.com/media/3f3a7f_58928e61d5384013957849f8d9310bdd~mv2.jpeg/v1/fill/w_147,h_77,al_c,q_80,usm_0.66_1.00_0.01,blur_2,enc_auto/3f3a7f_58928e61d5384013957849f8d9310bdd~mv2.jpeg', 'https://static.wixstatic.com/media/3f3a7f_b963479dad364111b139f5818bd70770~mv2.jpeg/v1/fill/w_147,h_77,al_c,q_80,usm_0.66_1.00_0.01,blur_2,enc_auto/3f3a7f_b963479dad364111b139f5818bd70770~mv2.jpeg', 'https://static.wixstatic.com/media/3f3a7f_321f63194da74b488aff4575b684ebb5~mv2.jpeg/v1/fill/w_147,h_83,al_c,q_80,usm_0.66_1.00_0.01,blur_2,enc_auto/3f3a7f_321f63194da74b488aff4575b684ebb5~mv2.jpeg', 'https://static.wixstatic.com/media/3f3a7f_42ddc2f23de9474db9ef8ea918d4595c~mv2.png/v1/fill/w_49,h_26,al_c,q_85,usm_0.66_1.00_0.01,blur_2,enc_auto/3f3a7f_42ddc2f23de9474db9ef8ea918d4595c~mv2.png', 'https://static.wixstatic.com/media/3f3a7f_eb2e80a1e7394850ae9b49d04e05c53b~mv2.jpeg/v1/fill/w_147,h_77,al_c,q_80,usm_0.66_1.00_0.01,blur_2,enc_auto/3f3a7f_eb2e80a1e7394850ae9b49d04e05c53b~mv2.jpeg', 'https://static.wixstatic.com/media/3f3a7f_87e8903bd3ba41cbaff242c9d37adf45~mv2.png/v1/fill/w_49,h_26,al_c,q_85,usm_0.66_1.00_0.01,blur_2,enc_auto/3f3a7f_87e8903bd3ba41cbaff242c9d37adf45~mv2.png', 'https://static.wixstatic.com/media/3f3a7f_c8af6cca1e4f458da0460562304b49dc~mv2.png/v1/fill/w_49,h_26,al_c,q_85,usm_0.66_1.00_0.01,blur_2,enc_auto/3f3a7f_c8af6cca1e4f458da0460562304b49dc~mv2.png', 'https://static.wixstatic.com/media/3f3a7f_0ebc799f80aa483ca38b03c7948e7d1a~mv2.jpg/v1/fill/w_147,h_106,al_c,q_80,usm_0.66_1.00_0.01,blur_2,enc_auto/3f3a7f_0ebc799f80aa483ca38b03c7948e7d1a~mv2.jpg', 'https://static.wixstatic.com/media/3f3a7f_2f5ee242dafe4346971f1600e3d496ab~mv2.png/v1/fill/w_49,h_26,al_c,q_85,usm_0.66_1.00_0.01,blur_2,enc_auto/3f3a7f_2f5ee242dafe4346971f1600e3d496ab~mv2.png', 'https://static.wixstatic.com/media/3f3a7f_edcab198cd1847159c28a408f07a5caf~mv2.jpeg/v1/fill/w_147,h_83,al_c,q_80,usm_0.66_1.00_0.01,blur_2,enc_auto/3f3a7f_edcab198cd1847159c28a408f07a5caf~mv2.jpeg', 'https://static.wixstatic.com/media/3f3a7f_a07b521a5e724303b872136ebc0dd6a8~mv2.png/v1/fill/w_49,h_26,al_c,q_85,usm_0.66_1.00_0.01,blur_2,enc_auto/3f3a7f_a07b521a5e724303b872136ebc0dd6a8~mv2.png', 'https://static.wixstatic.com/media/3f3a7f_4cef1fdab4fe405ebfbdf7ab63446c39~mv2.jpeg/v1/fill/w_147,h_77,al_c,q_80,usm_0.66_1.00_0.01,blur_2,enc_auto/3f3a7f_4cef1fdab4fe405ebfbdf7ab63446c39~mv2.jpeg', 'https://static.wixstatic.com/media/3f3a7f_d9cf2dc15bfe473593b2a2ed42fad578~mv2.jpeg/v1/fill/w_147,h_77,al_c,q_80,usm_0.66_1.00_0.01,blur_2,enc_auto/3f3a7f_d9cf2dc15bfe473593b2a2ed42fad578~mv2.jpeg', 'https://static.wixstatic.com/media/3f3a7f_7a38946fa4f14a68aad95656dd120af7~mv2.jpeg/v1/fill/w_147,h_86,al_c,q_80,usm_0.66_1.00_0.01,blur_2,enc_auto/3f3a7f_7a38946fa4f14a68aad95656dd120af7~mv2.jpeg', 'https://static.wixstatic.com/media/3f3a7f_02dc3008deb14af489bf9d82cd2f5ce0~mv2.jpeg/v1/fill/w_147,h_77,al_c,q_80,usm_0.66_1.00_0.01,blur_2,enc_auto/3f3a7f_02dc3008deb14af489bf9d82cd2f5ce0~mv2.jpeg', 'https://static.wixstatic.com/media/3f3a7f_d1f7646484c64c7abcab450f3cc4aa1d~mv2.png/v1/fill/w_49,h_26,al_c,q_85,usm_0.66_1.00_0.01,blur_2,enc_auto/3f3a7f_d1f7646484c64c7abcab450f3cc4aa1d~mv2.png', 'https://static.wixstatic.com/media/3f3a7f_890c4b7005204d86b4de287c02525247~mv2.png/v1/fill/w_49,h_26,al_c,q_85,usm_0.66_1.00_0.01,blur_2,enc_auto/3f3a7f_890c4b7005204d86b4de287c02525247~mv2.png', 'https://static.wixstatic.com/media/3f3a7f_2f24fe042c164365a8c0fbdaa16f0a54~mv2.png/v1/fill/w_49,h_26,al_c,q_85,usm_0.66_1.00_0.01,blur_2,enc_auto/3f3a7f_2f24fe042c164365a8c0fbdaa16f0a54~mv2.png', 'https://static.wixstatic.com/media/3f3a7f_01f4646c774b419cbf9b9f80ddb5d09a~mv2.jpeg/v1/fill/w_147,h_77,al_c,q_80,usm_0.66_1.00_0.01,blur_2,enc_auto/3f3a7f_01f4646c774b419cbf9b9f80ddb5d09a~mv2.jpeg', 'https://static.wixstatic.com/media/3f3a7f_c2119036bcdc48a39292f1934572abd9~mv2.jpeg/v1/fill/w_147,h_77,al_c,q_80,usm_0.66_1.00_0.01,blur_2,enc_auto/3f3a7f_c2119036bcdc48a39292f1934572abd9~mv2.jpeg', 'https://static.wixstatic.com/media/3f3a7f_7dc7a50f22f34aaf8bf76c59fd965f3a~mv2.jpeg/v1/fill/w_147,h_77,al_c,q_80,usm_0.66_1.00_0.01,blur_2,enc_auto/3f3a7f_7dc7a50f22f34aaf8bf76c59fd965f3a~mv2.jpeg']\n"
     ]
    },
    {
     "ename": "TypeError",
     "evalue": "'module' object is not callable",
     "output_type": "error",
     "traceback": [
      "\u001b[1;31m---------------------------------------------------------------------------\u001b[0m",
      "\u001b[1;31mTypeError\u001b[0m                                 Traceback (most recent call last)",
      "\u001b[1;32mc:\\Users\\LENOVO\\Desktop\\Ou sortir à Paris\\Python_2A\\BarsMusicaux\\test_DataScrap.ipynb Cell 4\u001b[0m line \u001b[0;36m1\n\u001b[0;32m      <a href='vscode-notebook-cell:/c%3A/Users/LENOVO/Desktop/Ou%20sortir%20%C3%A0%20Paris/Python_2A/BarsMusicaux/test_DataScrap.ipynb#W4sZmlsZQ%3D%3D?line=7'>8</a>\u001b[0m     L\u001b[39m.\u001b[39mappend(exhibition\u001b[39m.\u001b[39mimg\u001b[39m.\u001b[39mget(\u001b[39m'\u001b[39m\u001b[39msrc\u001b[39m\u001b[39m'\u001b[39m))\n\u001b[0;32m      <a href='vscode-notebook-cell:/c%3A/Users/LENOVO/Desktop/Ou%20sortir%20%C3%A0%20Paris/Python_2A/BarsMusicaux/test_DataScrap.ipynb#W4sZmlsZQ%3D%3D?line=8'>9</a>\u001b[0m \u001b[39mprint\u001b[39m(L)\n\u001b[1;32m---> <a href='vscode-notebook-cell:/c%3A/Users/LENOVO/Desktop/Ou%20sortir%20%C3%A0%20Paris/Python_2A/BarsMusicaux/test_DataScrap.ipynb#W4sZmlsZQ%3D%3D?line=10'>11</a>\u001b[0m r \u001b[39m=\u001b[39m request(L[\u001b[39m0\u001b[39;49m], stream \u001b[39m=\u001b[39;49m \u001b[39mTrue\u001b[39;49;00m)\n\u001b[0;32m     <a href='vscode-notebook-cell:/c%3A/Users/LENOVO/Desktop/Ou%20sortir%20%C3%A0%20Paris/Python_2A/BarsMusicaux/test_DataScrap.ipynb#W4sZmlsZQ%3D%3D?line=11'>12</a>\u001b[0m \u001b[39mif\u001b[39;00m r\u001b[39m.\u001b[39mstatus_code \u001b[39m==\u001b[39m \u001b[39m200\u001b[39m:                     \u001b[39m#200 status code = OK\u001b[39;00m\n\u001b[0;32m     <a href='vscode-notebook-cell:/c%3A/Users/LENOVO/Desktop/Ou%20sortir%20%C3%A0%20Paris/Python_2A/BarsMusicaux/test_DataScrap.ipynb#W4sZmlsZQ%3D%3D?line=12'>13</a>\u001b[0m    \u001b[39mwith\u001b[39;00m \u001b[39mopen\u001b[39m(\u001b[39m\"\u001b[39m\u001b[39mimages/book1.jpg\u001b[39m\u001b[39m\"\u001b[39m, \u001b[39m'\u001b[39m\u001b[39mwb\u001b[39m\u001b[39m'\u001b[39m) \u001b[39mas\u001b[39;00m f: \n",
      "\u001b[1;31mTypeError\u001b[0m: 'module' object is not callable"
     ]
    }
   ],
   "source": [
    "#Tentative de recup des covers\n",
    "url_3 = \"https://www.linternational.fr/agenda\"\n",
    "request_text = request.urlopen(url_3).read()\n",
    "page = bs4.BeautifulSoup(request_text, \"lxml\")\n",
    "exhibitions = page.find_all('div', class_ = \"Zz5cHg\")\n",
    "L =[]\n",
    "for exhibition in exhibitions:\n",
    "    L.append(exhibition.img.get('src'))\n",
    "print(L)\n",
    "\n",
    "r = request(L[0], stream = True)\n",
    "if r.status_code == 200:                     #200 status code = OK\n",
    "   with open(\"images/book1.jpg\", 'wb') as f: \n",
    "      r.raw.decode_content = True\n",
    "      shutil.copyfileobj(r.raw, f)\n",
    "\n",
    "img = mpimg.imread('images/book1.jpg')\n",
    "imgplot = plt.imshow(img)\n",
    "plt.show()"
   ]
  },
  {
   "cell_type": "markdown",
   "metadata": {},
   "source": []
  }
 ],
 "metadata": {
  "kernelspec": {
   "display_name": "Python 3",
   "language": "python",
   "name": "python3"
  },
  "language_info": {
   "codemirror_mode": {
    "name": "ipython",
    "version": 3
   },
   "file_extension": ".py",
   "mimetype": "text/x-python",
   "name": "python",
   "nbconvert_exporter": "python",
   "pygments_lexer": "ipython3",
   "version": "3.11.5"
  }
 },
 "nbformat": 4,
 "nbformat_minor": 2
}
