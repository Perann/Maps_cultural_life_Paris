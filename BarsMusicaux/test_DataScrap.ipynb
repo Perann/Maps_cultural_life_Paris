{
 "cells": [
  {
   "cell_type": "code",
   "execution_count": 35,
   "metadata": {},
   "outputs": [],
   "source": [
    "import bs4\n",
    "import lxml\n",
    "import pandas as pd\n",
    "import urllib\n",
    "from urllib import request"
   ]
  },
  {
   "cell_type": "code",
   "execution_count": 20,
   "metadata": {},
   "outputs": [
    {
     "name": "stdout",
     "output_type": "stream",
     "text": [
      "[]\n"
     ]
    }
   ],
   "source": [
    "#Le 38 Riv\n",
    "url = \"https://www.38riv.com/billetterie-2/\"\n",
    "request_text = request.urlopen(url).read()\n",
    "page = bs4.BeautifulSoup(request_text, \"lxml\")\n",
    "link_list = page.find_all('a', {\"class\": \"open_tickets\"})\n",
    "print(link_list)"
   ]
  },
  {
   "cell_type": "code",
   "execution_count": 53,
   "metadata": {},
   "outputs": [
    {
     "data": {
      "text/html": [
       "<div>\n",
       "<style scoped>\n",
       "    .dataframe tbody tr th:only-of-type {\n",
       "        vertical-align: middle;\n",
       "    }\n",
       "\n",
       "    .dataframe tbody tr th {\n",
       "        vertical-align: top;\n",
       "    }\n",
       "\n",
       "    .dataframe thead th {\n",
       "        text-align: right;\n",
       "    }\n",
       "</style>\n",
       "<table border=\"1\" class=\"dataframe\">\n",
       "  <thead>\n",
       "    <tr style=\"text-align: right;\">\n",
       "      <th></th>\n",
       "      <th>nom</th>\n",
       "      <th>date</th>\n",
       "      <th>heure</th>\n",
       "      <th>prix</th>\n",
       "      <th>etablissement</th>\n",
       "      <th>adresse</th>\n",
       "      <th>arrondissement</th>\n",
       "    </tr>\n",
       "  </thead>\n",
       "  <tbody>\n",
       "    <tr>\n",
       "      <th>25</th>\n",
       "      <td>unknown</td>\n",
       "      <td>Mardi 12 décembre</td>\n",
       "      <td>20h</td>\n",
       "      <td>8</td>\n",
       "      <td>L'international</td>\n",
       "      <td>5 rue Moret</td>\n",
       "      <td>11</td>\n",
       "    </tr>\n",
       "    <tr>\n",
       "      <th>26</th>\n",
       "      <td>unknown</td>\n",
       "      <td>Mercredi 13 décembre</td>\n",
       "      <td>20h</td>\n",
       "      <td>7</td>\n",
       "      <td>L'international</td>\n",
       "      <td>5 rue Moret</td>\n",
       "      <td>11</td>\n",
       "    </tr>\n",
       "    <tr>\n",
       "      <th>27</th>\n",
       "      <td>unknown</td>\n",
       "      <td>Jeudi 14 décembre</td>\n",
       "      <td>20h</td>\n",
       "      <td>8</td>\n",
       "      <td>L'international</td>\n",
       "      <td>5 rue Moret</td>\n",
       "      <td>11</td>\n",
       "    </tr>\n",
       "    <tr>\n",
       "      <th>28</th>\n",
       "      <td>unknown</td>\n",
       "      <td>Jeudi 14 décembre</td>\n",
       "      <td>00h</td>\n",
       "      <td>5</td>\n",
       "      <td>L'international</td>\n",
       "      <td>5 rue Moret</td>\n",
       "      <td>11</td>\n",
       "    </tr>\n",
       "    <tr>\n",
       "      <th>29</th>\n",
       "      <td>unknown</td>\n",
       "      <td>Vendredi 15 décembre</td>\n",
       "      <td>00h</td>\n",
       "      <td>7</td>\n",
       "      <td>L'international</td>\n",
       "      <td>5 rue Moret</td>\n",
       "      <td>11</td>\n",
       "    </tr>\n",
       "  </tbody>\n",
       "</table>\n",
       "</div>"
      ],
      "text/plain": [
       "        nom                  date heure prix    etablissement      adresse  \\\n",
       "25  unknown     Mardi 12 décembre   20h    8  L'international  5 rue Moret   \n",
       "26  unknown  Mercredi 13 décembre   20h    7  L'international  5 rue Moret   \n",
       "27  unknown     Jeudi 14 décembre   20h    8  L'international  5 rue Moret   \n",
       "28  unknown     Jeudi 14 décembre   00h    5  L'international  5 rue Moret   \n",
       "29  unknown  Vendredi 15 décembre   00h    7  L'international  5 rue Moret   \n",
       "\n",
       "    arrondissement  \n",
       "25              11  \n",
       "26              11  \n",
       "27              11  \n",
       "28              11  \n",
       "29              11  "
      ]
     },
     "execution_count": 53,
     "metadata": {},
     "output_type": "execute_result"
    }
   ],
   "source": [
    "#L'international\n",
    "url_2 = \"https://www.linternational.fr/agenda\"\n",
    "request_text = request.urlopen(url_2).read()\n",
    "page = bs4.BeautifulSoup(request_text, \"lxml\")\n",
    "exhibitions = page.find_all('div', class_ = \"Zz5cHg\")\n",
    "information = ['nom', 'date','heure','prix','etablissement','adresse','arrondissement']\n",
    "D = {key:[] for key in information}\n",
    "for exhibition in exhibitions:\n",
    "    info = exhibition.img.get('alt').split(' - ')\n",
    "    D['date'].append(info[0])\n",
    "    D['heure'].append(info[1])\n",
    "    D['prix'].append(info[2])\n",
    "n = len(D['date'])\n",
    "\n",
    "p = []\n",
    "for prix in D['prix']:\n",
    "    p.append(prix[:-1])\n",
    "D['prix'] = p\n",
    "\n",
    "D['etablissement'] = [\"L'international\"]*n\n",
    "D['nom'] = ['unknown']*n\n",
    "D['adresse'] = [\"5 rue Moret\"]*n\n",
    "D['arrondissement'] = [11]*n\n",
    "\n",
    "data = pd.DataFrame(D)\n",
    "data.tail()\n",
    "#international_csv = data.to_csv('C:\\\\Users\\\\LENOVO\\\\Desktop\\\\data_international.csv', index =False, encoding = 'utf-8')\n",
    "\n"
   ]
  },
  {
   "cell_type": "markdown",
   "metadata": {},
   "source": []
  }
 ],
 "metadata": {
  "kernelspec": {
   "display_name": "Python 3",
   "language": "python",
   "name": "python3"
  },
  "language_info": {
   "codemirror_mode": {
    "name": "ipython",
    "version": 3
   },
   "file_extension": ".py",
   "mimetype": "text/x-python",
   "name": "python",
   "nbconvert_exporter": "python",
   "pygments_lexer": "ipython3",
   "version": "3.11.5"
  }
 },
 "nbformat": 4,
 "nbformat_minor": 2
}
