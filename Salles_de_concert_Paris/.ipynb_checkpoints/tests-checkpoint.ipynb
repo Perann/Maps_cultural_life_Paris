{
 "cells": [
  {
   "cell_type": "code",
   "execution_count": 1,
   "id": "2a20b765-2a73-4162-8877-ac65c534869a",
   "metadata": {},
   "outputs": [],
   "source": [
    "import pandas as pd"
   ]
  },
  {
   "cell_type": "code",
   "execution_count": 3,
   "id": "fd0c4516-e8a3-41c4-929e-ea2545aedb41",
   "metadata": {},
   "outputs": [],
   "source": [
    "df = pd.read_csv('DataMusiqueClassique.csv')"
   ]
  },
  {
   "cell_type": "code",
   "execution_count": 4,
   "id": "9f1f328f-4629-4e59-8d5e-468530f93f49",
   "metadata": {},
   "outputs": [
    {
     "data": {
      "text/html": [
       "<div>\n",
       "<style scoped>\n",
       "    .dataframe tbody tr th:only-of-type {\n",
       "        vertical-align: middle;\n",
       "    }\n",
       "\n",
       "    .dataframe tbody tr th {\n",
       "        vertical-align: top;\n",
       "    }\n",
       "\n",
       "    .dataframe thead th {\n",
       "        text-align: right;\n",
       "    }\n",
       "</style>\n",
       "<table border=\"1\" class=\"dataframe\">\n",
       "  <thead>\n",
       "    <tr style=\"text-align: right;\">\n",
       "      <th></th>\n",
       "      <th>Unnamed: 0</th>\n",
       "      <th>nom</th>\n",
       "      <th>etablissement</th>\n",
       "      <th>Date</th>\n",
       "      <th>adresse</th>\n",
       "      <th>commune</th>\n",
       "      <th>prix</th>\n",
       "    </tr>\n",
       "  </thead>\n",
       "  <tbody>\n",
       "    <tr>\n",
       "      <th>0</th>\n",
       "      <td>0</td>\n",
       "      <td>Orchestre Classik Ensemble et David Braccini</td>\n",
       "      <td>Sainte-Chapelle - Palais de la Cité</td>\n",
       "      <td>Mercredi 27 Décembre : 18h00</td>\n",
       "      <td>8 boulevard du Palais</td>\n",
       "      <td>Paris 1er</td>\n",
       "      <td>unknown</td>\n",
       "    </tr>\n",
       "    <tr>\n",
       "      <th>1</th>\n",
       "      <td>1</td>\n",
       "      <td>Ensemble royal de Paris</td>\n",
       "      <td>Église Saint-Julien-le-Pauvre</td>\n",
       "      <td>Mercredi 27 Décembre : 19h00, Vendredi 29 Déce...</td>\n",
       "      <td>1 rue Saint-Julien-le-Pauvre</td>\n",
       "      <td>Paris 5e</td>\n",
       "      <td>21-43 €</td>\n",
       "    </tr>\n",
       "    <tr>\n",
       "      <th>2</th>\n",
       "      <td>2</td>\n",
       "      <td>L'Art d'être bête</td>\n",
       "      <td>Théâtre de Poche-Montparnasse</td>\n",
       "      <td>Mercredi 27 Décembre : 19h00, Jeudi 28 Décembr...</td>\n",
       "      <td>75 boulevard du Montparnasse</td>\n",
       "      <td>Paris 6e</td>\n",
       "      <td>24 €</td>\n",
       "    </tr>\n",
       "    <tr>\n",
       "      <th>3</th>\n",
       "      <td>3</td>\n",
       "      <td>Orchestre Les Violons de France et Cécile Besnard</td>\n",
       "      <td>Église de la Madeleine</td>\n",
       "      <td>Mercredi 27 Décembre : 20h00, Dimanche 31 Déce...</td>\n",
       "      <td>Place de la Madeleine</td>\n",
       "      <td>Paris 8e</td>\n",
       "      <td>22-33 €</td>\n",
       "    </tr>\n",
       "    <tr>\n",
       "      <th>4</th>\n",
       "      <td>4</td>\n",
       "      <td>Orchestre Hélios et Glen Rouxel</td>\n",
       "      <td>Église Saint-Germain-des-Prés</td>\n",
       "      <td>Mercredi 27 Décembre : 20h45, Samedi 30 Décemb...</td>\n",
       "      <td>Place Saint-Germain des Prés</td>\n",
       "      <td>Paris 6e</td>\n",
       "      <td>22-44 €</td>\n",
       "    </tr>\n",
       "  </tbody>\n",
       "</table>\n",
       "</div>"
      ],
      "text/plain": [
       "   Unnamed: 0                                                nom  \\\n",
       "0           0       Orchestre Classik Ensemble et David Braccini   \n",
       "1           1                            Ensemble royal de Paris   \n",
       "2           2                                  L'Art d'être bête   \n",
       "3           3  Orchestre Les Violons de France et Cécile Besnard   \n",
       "4           4                    Orchestre Hélios et Glen Rouxel   \n",
       "\n",
       "                         etablissement  \\\n",
       "0  Sainte-Chapelle - Palais de la Cité   \n",
       "1        Église Saint-Julien-le-Pauvre   \n",
       "2        Théâtre de Poche-Montparnasse   \n",
       "3               Église de la Madeleine   \n",
       "4        Église Saint-Germain-des-Prés   \n",
       "\n",
       "                                                Date  \\\n",
       "0                       Mercredi 27 Décembre : 18h00   \n",
       "1  Mercredi 27 Décembre : 19h00, Vendredi 29 Déce...   \n",
       "2  Mercredi 27 Décembre : 19h00, Jeudi 28 Décembr...   \n",
       "3  Mercredi 27 Décembre : 20h00, Dimanche 31 Déce...   \n",
       "4  Mercredi 27 Décembre : 20h45, Samedi 30 Décemb...   \n",
       "\n",
       "                        adresse    commune     prix  \n",
       "0         8 boulevard du Palais  Paris 1er  unknown  \n",
       "1  1 rue Saint-Julien-le-Pauvre   Paris 5e  21-43 €  \n",
       "2  75 boulevard du Montparnasse   Paris 6e     24 €  \n",
       "3         Place de la Madeleine   Paris 8e  22-33 €  \n",
       "4  Place Saint-Germain des Prés   Paris 6e  22-44 €  "
      ]
     },
     "execution_count": 4,
     "metadata": {},
     "output_type": "execute_result"
    }
   ],
   "source": [
    "df.head()"
   ]
  },
  {
   "cell_type": "code",
   "execution_count": 5,
   "id": "028b7835-e619-4f63-aeda-204dfa2424d8",
   "metadata": {},
   "outputs": [],
   "source": [
    "import Fonctions as fct"
   ]
  },
  {
   "cell_type": "code",
   "execution_count": 7,
   "id": "ae6eccbe-85ff-4286-8ac0-e3e7c8b4b00b",
   "metadata": {},
   "outputs": [
    {
     "name": "stdout",
     "output_type": "stream",
     "text": [
      "Erreur lors de la requête : 504\n",
      "Erreur lors de la requête : 504\n",
      "Erreur lors de la requête : 504\n",
      "Erreur lors de la requête : 504\n"
     ]
    }
   ],
   "source": [
    "df['adresse'] = df['adresse'] + 'Paris, France'\n",
    "df['coordonnees'] = df['adresse'].apply(fct.obtenir_coordonnees_adresse) \n",
    "\n",
    "df = df.dropna(subset=['coordonnees']).reset_index(drop=True)\n",
    "\n",
    "df.to_csv('DataMusiqueClassique_v2.csv')"
   ]
  },
  {
   "cell_type": "code",
   "execution_count": null,
   "id": "4866e98a-85f1-4bcb-8051-3d67303bad87",
   "metadata": {},
   "outputs": [],
   "source": []
  }
 ],
 "metadata": {
  "kernelspec": {
   "display_name": "Python 3 (ipykernel)",
   "language": "python",
   "name": "python3"
  },
  "language_info": {
   "codemirror_mode": {
    "name": "ipython",
    "version": 3
   },
   "file_extension": ".py",
   "mimetype": "text/x-python",
   "name": "python",
   "nbconvert_exporter": "python",
   "pygments_lexer": "ipython3",
   "version": "3.10.13"
  }
 },
 "nbformat": 4,
 "nbformat_minor": 5
}
