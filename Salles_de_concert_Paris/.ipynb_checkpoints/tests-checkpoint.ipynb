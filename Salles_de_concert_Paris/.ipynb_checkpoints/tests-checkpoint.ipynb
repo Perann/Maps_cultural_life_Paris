{
 "cells": [
  {
   "cell_type": "code",
   "execution_count": 1,
   "id": "2a20b765-2a73-4162-8877-ac65c534869a",
   "metadata": {},
   "outputs": [],
   "source": [
    "import pandas as pd"
   ]
  },
  {
   "cell_type": "code",
   "execution_count": 3,
   "id": "fd0c4516-e8a3-41c4-929e-ea2545aedb41",
   "metadata": {},
   "outputs": [],
   "source": [
    "df = pd.read_csv('DataMusiqueClassique.csv')"
   ]
  },
  {
   "cell_type": "code",
   "execution_count": 4,
   "id": "9f1f328f-4629-4e59-8d5e-468530f93f49",
   "metadata": {},
   "outputs": [
    {
     "data": {
      "text/html": [
       "<div>\n",
       "<style scoped>\n",
       "    .dataframe tbody tr th:only-of-type {\n",
       "        vertical-align: middle;\n",
       "    }\n",
       "\n",
       "    .dataframe tbody tr th {\n",
       "        vertical-align: top;\n",
       "    }\n",
       "\n",
       "    .dataframe thead th {\n",
       "        text-align: right;\n",
       "    }\n",
       "</style>\n",
       "<table border=\"1\" class=\"dataframe\">\n",
       "  <thead>\n",
       "    <tr style=\"text-align: right;\">\n",
       "      <th></th>\n",
       "      <th>Unnamed: 0</th>\n",
       "      <th>nom</th>\n",
       "      <th>etablissement</th>\n",
       "      <th>Date</th>\n",
       "      <th>adresse</th>\n",
       "      <th>commune</th>\n",
       "      <th>prix</th>\n",
       "    </tr>\n",
       "  </thead>\n",
       "  <tbody>\n",
       "    <tr>\n",
       "      <th>0</th>\n",
       "      <td>0</td>\n",
       "      <td>Orchestre Classik Ensemble et David Braccini</td>\n",
       "      <td>Sainte-Chapelle - Palais de la Cité</td>\n",
       "      <td>Mercredi 27 Décembre : 18h00</td>\n",
       "      <td>8 boulevard du Palais</td>\n",
       "      <td>Paris 1er</td>\n",
       "      <td>unknown</td>\n",
       "    </tr>\n",
       "    <tr>\n",
       "      <th>1</th>\n",
       "      <td>1</td>\n",
       "      <td>Ensemble royal de Paris</td>\n",
       "      <td>Église Saint-Julien-le-Pauvre</td>\n",
       "      <td>Mercredi 27 Décembre : 19h00, Vendredi 29 Déce...</td>\n",
       "      <td>1 rue Saint-Julien-le-Pauvre</td>\n",
       "      <td>Paris 5e</td>\n",
       "      <td>21-43 €</td>\n",
       "    </tr>\n",
       "    <tr>\n",
       "      <th>2</th>\n",
       "      <td>2</td>\n",
       "      <td>L'Art d'être bête</td>\n",
       "      <td>Théâtre de Poche-Montparnasse</td>\n",
       "      <td>Mercredi 27 Décembre : 19h00, Jeudi 28 Décembr...</td>\n",
       "      <td>75 boulevard du Montparnasse</td>\n",
       "      <td>Paris 6e</td>\n",
       "      <td>24 €</td>\n",
       "    </tr>\n",
       "    <tr>\n",
       "      <th>3</th>\n",
       "      <td>3</td>\n",
       "      <td>Orchestre Les Violons de France et Cécile Besnard</td>\n",
       "      <td>Église de la Madeleine</td>\n",
       "      <td>Mercredi 27 Décembre : 20h00, Dimanche 31 Déce...</td>\n",
       "      <td>Place de la Madeleine</td>\n",
       "      <td>Paris 8e</td>\n",
       "      <td>22-33 €</td>\n",
       "    </tr>\n",
       "    <tr>\n",
       "      <th>4</th>\n",
       "      <td>4</td>\n",
       "      <td>Orchestre Hélios et Glen Rouxel</td>\n",
       "      <td>Église Saint-Germain-des-Prés</td>\n",
       "      <td>Mercredi 27 Décembre : 20h45, Samedi 30 Décemb...</td>\n",
       "      <td>Place Saint-Germain des Prés</td>\n",
       "      <td>Paris 6e</td>\n",
       "      <td>22-44 €</td>\n",
       "    </tr>\n",
       "  </tbody>\n",
       "</table>\n",
       "</div>"
      ],
      "text/plain": [
       "   Unnamed: 0                                                nom  \\\n",
       "0           0       Orchestre Classik Ensemble et David Braccini   \n",
       "1           1                            Ensemble royal de Paris   \n",
       "2           2                                  L'Art d'être bête   \n",
       "3           3  Orchestre Les Violons de France et Cécile Besnard   \n",
       "4           4                    Orchestre Hélios et Glen Rouxel   \n",
       "\n",
       "                         etablissement  \\\n",
       "0  Sainte-Chapelle - Palais de la Cité   \n",
       "1        Église Saint-Julien-le-Pauvre   \n",
       "2        Théâtre de Poche-Montparnasse   \n",
       "3               Église de la Madeleine   \n",
       "4        Église Saint-Germain-des-Prés   \n",
       "\n",
       "                                                Date  \\\n",
       "0                       Mercredi 27 Décembre : 18h00   \n",
       "1  Mercredi 27 Décembre : 19h00, Vendredi 29 Déce...   \n",
       "2  Mercredi 27 Décembre : 19h00, Jeudi 28 Décembr...   \n",
       "3  Mercredi 27 Décembre : 20h00, Dimanche 31 Déce...   \n",
       "4  Mercredi 27 Décembre : 20h45, Samedi 30 Décemb...   \n",
       "\n",
       "                        adresse    commune     prix  \n",
       "0         8 boulevard du Palais  Paris 1er  unknown  \n",
       "1  1 rue Saint-Julien-le-Pauvre   Paris 5e  21-43 €  \n",
       "2  75 boulevard du Montparnasse   Paris 6e     24 €  \n",
       "3         Place de la Madeleine   Paris 8e  22-33 €  \n",
       "4  Place Saint-Germain des Prés   Paris 6e  22-44 €  "
      ]
     },
     "execution_count": 4,
     "metadata": {},
     "output_type": "execute_result"
    }
   ],
   "source": [
    "df.head()"
   ]
  },
  {
   "cell_type": "code",
   "execution_count": 5,
   "id": "028b7835-e619-4f63-aeda-204dfa2424d8",
   "metadata": {},
   "outputs": [],
   "source": [
    "import Fonctions as fct"
   ]
  },
  {
   "cell_type": "code",
   "execution_count": 7,
   "id": "ae6eccbe-85ff-4286-8ac0-e3e7c8b4b00b",
   "metadata": {},
   "outputs": [
    {
     "name": "stdout",
     "output_type": "stream",
     "text": [
      "Erreur lors de la requête : 504\n",
      "Erreur lors de la requête : 504\n",
      "Erreur lors de la requête : 504\n",
      "Erreur lors de la requête : 504\n"
     ]
    }
   ],
   "source": [
    "df['adresse'] = df['adresse'] + 'Paris, France'\n",
    "df['coordonnees'] = df['adresse'].apply(fct.obtenir_coordonnees_adresse) \n",
    "\n",
    "df = df.dropna(subset=['coordonnees']).reset_index(drop=True)\n",
    "\n",
    "df.to_csv('DataMusiqueClassique_v2.csv')"
   ]
  },
  {
   "cell_type": "code",
   "execution_count": 8,
   "id": "4866e98a-85f1-4bcb-8051-3d67303bad87",
   "metadata": {},
   "outputs": [],
   "source": [
    "df = pd.read_csv('DataMusiqueClassique.csv')"
   ]
  },
  {
   "cell_type": "code",
   "execution_count": 13,
   "id": "5ba865da-13d1-417e-9f9c-62b954841eda",
   "metadata": {},
   "outputs": [
    {
     "data": {
      "text/plain": [
       "234"
      ]
     },
     "execution_count": 13,
     "metadata": {},
     "output_type": "execute_result"
    }
   ],
   "source": [
    "len(df['prix'])-df['prix'].value_counts().get('unknown')"
   ]
  },
  {
   "cell_type": "code",
   "execution_count": 14,
   "id": "816888b4-b306-4a7c-8b83-93536fea0cfb",
   "metadata": {},
   "outputs": [
    {
     "data": {
      "text/plain": [
       "615"
      ]
     },
     "execution_count": 14,
     "metadata": {},
     "output_type": "execute_result"
    }
   ],
   "source": [
    "len(df['prix'])"
   ]
  },
  {
   "cell_type": "code",
   "execution_count": 20,
   "id": "cd86d0e3-ce1e-449b-b153-ff5cdbe3da25",
   "metadata": {},
   "outputs": [],
   "source": [
    "import os "
   ]
  },
  {
   "cell_type": "code",
   "execution_count": 21,
   "id": "391ea7f8-178c-48ce-92f3-82ea969352f6",
   "metadata": {},
   "outputs": [
    {
     "data": {
      "text/plain": [
       "'/home/onyxia/work/Maps_cultural_life_Paris/Salles_de_concert_Paris'"
      ]
     },
     "execution_count": 21,
     "metadata": {},
     "output_type": "execute_result"
    }
   ],
   "source": [
    "os.getcwd()"
   ]
  },
  {
   "cell_type": "code",
   "execution_count": 25,
   "id": "c1978514-b551-4158-8b81-c00be361fa18",
   "metadata": {},
   "outputs": [],
   "source": [
    "Datatest = pd.DataFrame({1: [1, 2, 3], 2: [1, 2, 3]})"
   ]
  },
  {
   "cell_type": "code",
   "execution_count": 32,
   "id": "83d08dba-44b5-4435-869f-5ac455cf581f",
   "metadata": {},
   "outputs": [],
   "source": [
    "Datatest.to_csv(os.getcwd()+'/test.csv')"
   ]
  },
  {
   "cell_type": "code",
   "execution_count": 31,
   "id": "efad5e45-8424-434a-836c-1f7910ed2bcc",
   "metadata": {},
   "outputs": [
    {
     "data": {
      "text/plain": [
       "'/home/onyxia/work/Maps_cultural_life_Paris/Salles_de_concert_Paris/test'"
      ]
     },
     "execution_count": 31,
     "metadata": {},
     "output_type": "execute_result"
    }
   ],
   "source": [
    "os.getcwd()+'/test'"
   ]
  },
  {
   "cell_type": "code",
   "execution_count": 33,
   "id": "5f7d3ae3-fa11-4915-a090-1a41e3dd31f7",
   "metadata": {},
   "outputs": [],
   "source": [
    "data = pd.read_csv('/home/onyxia/work/Maps_cultural_life_Paris/Outputs/DataSets/DataMusiqueClassique_v2.csv')"
   ]
  },
  {
   "cell_type": "code",
   "execution_count": 34,
   "id": "4684d66a-1936-4d76-b5c8-1599b385cb33",
   "metadata": {},
   "outputs": [
    {
     "data": {
      "text/html": [
       "<div>\n",
       "<style scoped>\n",
       "    .dataframe tbody tr th:only-of-type {\n",
       "        vertical-align: middle;\n",
       "    }\n",
       "\n",
       "    .dataframe tbody tr th {\n",
       "        vertical-align: top;\n",
       "    }\n",
       "\n",
       "    .dataframe thead th {\n",
       "        text-align: right;\n",
       "    }\n",
       "</style>\n",
       "<table border=\"1\" class=\"dataframe\">\n",
       "  <thead>\n",
       "    <tr style=\"text-align: right;\">\n",
       "      <th></th>\n",
       "      <th>Unnamed: 0.1</th>\n",
       "      <th>Unnamed: 0</th>\n",
       "      <th>nom</th>\n",
       "      <th>etablissement</th>\n",
       "      <th>Date</th>\n",
       "      <th>adresse</th>\n",
       "      <th>commune</th>\n",
       "      <th>prix</th>\n",
       "      <th>coordonnees</th>\n",
       "    </tr>\n",
       "  </thead>\n",
       "  <tbody>\n",
       "    <tr>\n",
       "      <th>0</th>\n",
       "      <td>0</td>\n",
       "      <td>0</td>\n",
       "      <td>Orchestre Classik Ensemble et David Braccini</td>\n",
       "      <td>Sainte-Chapelle - Palais de la Cité</td>\n",
       "      <td>Mercredi 27 Décembre : 18h00</td>\n",
       "      <td>8 boulevard du Palais, Paris, France</td>\n",
       "      <td>Paris 1er</td>\n",
       "      <td>unknown</td>\n",
       "      <td>(2.345141, 48.854843)</td>\n",
       "    </tr>\n",
       "    <tr>\n",
       "      <th>1</th>\n",
       "      <td>1</td>\n",
       "      <td>1</td>\n",
       "      <td>Ensemble royal de Paris</td>\n",
       "      <td>Église Saint-Julien-le-Pauvre</td>\n",
       "      <td>Mercredi 27 Décembre : 19h00, Vendredi 29 Déce...</td>\n",
       "      <td>1 rue Saint-Julien-le-Pauvre, Paris, France</td>\n",
       "      <td>Paris 5e</td>\n",
       "      <td>21-43 €</td>\n",
       "      <td>(2.346864, 48.85214)</td>\n",
       "    </tr>\n",
       "    <tr>\n",
       "      <th>2</th>\n",
       "      <td>2</td>\n",
       "      <td>2</td>\n",
       "      <td>L'Art d'être bête</td>\n",
       "      <td>Théâtre de Poche-Montparnasse</td>\n",
       "      <td>Mercredi 27 Décembre : 19h00, Jeudi 28 Décembr...</td>\n",
       "      <td>75 boulevard du Montparnasse, Paris, France</td>\n",
       "      <td>Paris 6e</td>\n",
       "      <td>24 €</td>\n",
       "      <td>(2.324991, 48.843728)</td>\n",
       "    </tr>\n",
       "    <tr>\n",
       "      <th>3</th>\n",
       "      <td>3</td>\n",
       "      <td>3</td>\n",
       "      <td>Orchestre Les Violons de France et Cécile Besnard</td>\n",
       "      <td>Église de la Madeleine</td>\n",
       "      <td>Mercredi 27 Décembre : 20h00, Dimanche 31 Déce...</td>\n",
       "      <td>Place de la Madeleine, Paris, France</td>\n",
       "      <td>Paris 8e</td>\n",
       "      <td>22-33 €</td>\n",
       "      <td>(2.324455, 48.870062)</td>\n",
       "    </tr>\n",
       "    <tr>\n",
       "      <th>4</th>\n",
       "      <td>4</td>\n",
       "      <td>4</td>\n",
       "      <td>Orchestre Hélios et Glen Rouxel</td>\n",
       "      <td>Église Saint-Germain-des-Prés</td>\n",
       "      <td>Mercredi 27 Décembre : 20h45, Samedi 30 Décemb...</td>\n",
       "      <td>Place Saint-Germain des Prés, Paris, France</td>\n",
       "      <td>Paris 6e</td>\n",
       "      <td>22-44 €</td>\n",
       "      <td>(2.333399, 48.854182)</td>\n",
       "    </tr>\n",
       "    <tr>\n",
       "      <th>...</th>\n",
       "      <td>...</td>\n",
       "      <td>...</td>\n",
       "      <td>...</td>\n",
       "      <td>...</td>\n",
       "      <td>...</td>\n",
       "      <td>...</td>\n",
       "      <td>...</td>\n",
       "      <td>...</td>\n",
       "      <td>...</td>\n",
       "    </tr>\n",
       "    <tr>\n",
       "      <th>610</th>\n",
       "      <td>610</td>\n",
       "      <td>610</td>\n",
       "      <td>« Les Boréades » de Rameau</td>\n",
       "      <td>Opéra royal - Château de Versailles</td>\n",
       "      <td>Vendredi 31 Mai : 20h00</td>\n",
       "      <td>Place d'Armes entrée par la Grille d'Honneur, ...</td>\n",
       "      <td>Versailles</td>\n",
       "      <td>83-128 €</td>\n",
       "      <td>(2.352558, 48.881934)</td>\n",
       "    </tr>\n",
       "    <tr>\n",
       "      <th>611</th>\n",
       "      <td>611</td>\n",
       "      <td>611</td>\n",
       "      <td>Ravel : La Valse</td>\n",
       "      <td>Maison de la Radio et de la Musique</td>\n",
       "      <td>Vendredi 31 Mai : 20h00</td>\n",
       "      <td>116 avenue du Président Kennedy, Paris, France</td>\n",
       "      <td>Paris 16e</td>\n",
       "      <td>unknown</td>\n",
       "      <td>(2.279529, 48.852149)</td>\n",
       "    </tr>\n",
       "    <tr>\n",
       "      <th>612</th>\n",
       "      <td>612</td>\n",
       "      <td>612</td>\n",
       "      <td>Verdi : Requiem</td>\n",
       "      <td>Opéra de Massy</td>\n",
       "      <td>Vendredi 31 Mai : 20h00</td>\n",
       "      <td>1 place de France, Paris, France</td>\n",
       "      <td>Massy</td>\n",
       "      <td>unknown</td>\n",
       "      <td>(2.387787, 48.831852)</td>\n",
       "    </tr>\n",
       "    <tr>\n",
       "      <th>613</th>\n",
       "      <td>613</td>\n",
       "      <td>613</td>\n",
       "      <td>Pergolèse : Stabat Mater</td>\n",
       "      <td>Auditorium Patrick Devedjian - La Seine Musicale</td>\n",
       "      <td>Vendredi 31 Mai : 20h30</td>\n",
       "      <td>1 île Seguin, Paris, France</td>\n",
       "      <td>Boulogne-Billancourt</td>\n",
       "      <td>30-60 €</td>\n",
       "      <td>(2.365269, 48.891683)</td>\n",
       "    </tr>\n",
       "    <tr>\n",
       "      <th>614</th>\n",
       "      <td>614</td>\n",
       "      <td>614</td>\n",
       "      <td>Orchestre Hélios et Glen Rouxel</td>\n",
       "      <td>Église Saint-Germain-des-Prés</td>\n",
       "      <td>Vendredi 31 Mai : 20h45</td>\n",
       "      <td>Place Saint-Germain des Prés, Paris, France</td>\n",
       "      <td>Paris 6e</td>\n",
       "      <td>22-44 €</td>\n",
       "      <td>(2.333399, 48.854182)</td>\n",
       "    </tr>\n",
       "  </tbody>\n",
       "</table>\n",
       "<p>615 rows × 9 columns</p>\n",
       "</div>"
      ],
      "text/plain": [
       "     Unnamed: 0.1  Unnamed: 0  \\\n",
       "0               0           0   \n",
       "1               1           1   \n",
       "2               2           2   \n",
       "3               3           3   \n",
       "4               4           4   \n",
       "..            ...         ...   \n",
       "610           610         610   \n",
       "611           611         611   \n",
       "612           612         612   \n",
       "613           613         613   \n",
       "614           614         614   \n",
       "\n",
       "                                                   nom  \\\n",
       "0         Orchestre Classik Ensemble et David Braccini   \n",
       "1                              Ensemble royal de Paris   \n",
       "2                                    L'Art d'être bête   \n",
       "3    Orchestre Les Violons de France et Cécile Besnard   \n",
       "4                      Orchestre Hélios et Glen Rouxel   \n",
       "..                                                 ...   \n",
       "610                         « Les Boréades » de Rameau   \n",
       "611                                   Ravel : La Valse   \n",
       "612                                    Verdi : Requiem   \n",
       "613                           Pergolèse : Stabat Mater   \n",
       "614                    Orchestre Hélios et Glen Rouxel   \n",
       "\n",
       "                                        etablissement  \\\n",
       "0                 Sainte-Chapelle - Palais de la Cité   \n",
       "1                       Église Saint-Julien-le-Pauvre   \n",
       "2                       Théâtre de Poche-Montparnasse   \n",
       "3                              Église de la Madeleine   \n",
       "4                       Église Saint-Germain-des-Prés   \n",
       "..                                                ...   \n",
       "610               Opéra royal - Château de Versailles   \n",
       "611               Maison de la Radio et de la Musique   \n",
       "612                                    Opéra de Massy   \n",
       "613  Auditorium Patrick Devedjian - La Seine Musicale   \n",
       "614                     Église Saint-Germain-des-Prés   \n",
       "\n",
       "                                                  Date  \\\n",
       "0                         Mercredi 27 Décembre : 18h00   \n",
       "1    Mercredi 27 Décembre : 19h00, Vendredi 29 Déce...   \n",
       "2    Mercredi 27 Décembre : 19h00, Jeudi 28 Décembr...   \n",
       "3    Mercredi 27 Décembre : 20h00, Dimanche 31 Déce...   \n",
       "4    Mercredi 27 Décembre : 20h45, Samedi 30 Décemb...   \n",
       "..                                                 ...   \n",
       "610                            Vendredi 31 Mai : 20h00   \n",
       "611                            Vendredi 31 Mai : 20h00   \n",
       "612                            Vendredi 31 Mai : 20h00   \n",
       "613                            Vendredi 31 Mai : 20h30   \n",
       "614                            Vendredi 31 Mai : 20h45   \n",
       "\n",
       "                                               adresse               commune  \\\n",
       "0                 8 boulevard du Palais, Paris, France             Paris 1er   \n",
       "1          1 rue Saint-Julien-le-Pauvre, Paris, France              Paris 5e   \n",
       "2          75 boulevard du Montparnasse, Paris, France              Paris 6e   \n",
       "3                 Place de la Madeleine, Paris, France              Paris 8e   \n",
       "4          Place Saint-Germain des Prés, Paris, France              Paris 6e   \n",
       "..                                                 ...                   ...   \n",
       "610  Place d'Armes entrée par la Grille d'Honneur, ...            Versailles   \n",
       "611     116 avenue du Président Kennedy, Paris, France             Paris 16e   \n",
       "612                   1 place de France, Paris, France                 Massy   \n",
       "613                        1 île Seguin, Paris, France  Boulogne-Billancourt   \n",
       "614        Place Saint-Germain des Prés, Paris, France              Paris 6e   \n",
       "\n",
       "         prix            coordonnees  \n",
       "0     unknown  (2.345141, 48.854843)  \n",
       "1     21-43 €   (2.346864, 48.85214)  \n",
       "2        24 €  (2.324991, 48.843728)  \n",
       "3     22-33 €  (2.324455, 48.870062)  \n",
       "4     22-44 €  (2.333399, 48.854182)  \n",
       "..        ...                    ...  \n",
       "610  83-128 €  (2.352558, 48.881934)  \n",
       "611   unknown  (2.279529, 48.852149)  \n",
       "612   unknown  (2.387787, 48.831852)  \n",
       "613   30-60 €  (2.365269, 48.891683)  \n",
       "614   22-44 €  (2.333399, 48.854182)  \n",
       "\n",
       "[615 rows x 9 columns]"
      ]
     },
     "execution_count": 34,
     "metadata": {},
     "output_type": "execute_result"
    }
   ],
   "source": [
    "data"
   ]
  },
  {
   "cell_type": "code",
   "execution_count": 35,
   "id": "a3cba2a5-7d3a-4659-a87c-cce370c65317",
   "metadata": {},
   "outputs": [],
   "source": [
    "def clean_price(price_string):\n",
    "\n",
    "    cleaned_price = price_string.replace(' ', '').replace('€', '')\n",
    "\n",
    "    cleaned_price = cleaned_price.replace(',', '.')\n",
    "\n",
    "    if '-' in cleaned_price:\n",
    "        min_price, max_price = map(float, cleaned_price.split('-'))\n",
    "        return min_price, max_price, None\n",
    "    else:\n",
    "        try:\n",
    "            price_value = float(cleaned_price)\n",
    "            return None, None, price_value\n",
    "        except ValueError:\n",
    "            return None, None, 'unknown'"
   ]
  },
  {
   "cell_type": "code",
   "execution_count": 36,
   "id": "252fdde2-fe3e-4ab4-a81c-e5c19a175821",
   "metadata": {},
   "outputs": [
    {
     "data": {
      "text/plain": [
       "(21.0, 33.0, None)"
      ]
     },
     "execution_count": 36,
     "metadata": {},
     "output_type": "execute_result"
    }
   ],
   "source": [
    "clean_price('21-33 €')"
   ]
  },
  {
   "cell_type": "code",
   "execution_count": 39,
   "id": "1ab075b0-b1de-4e81-abea-661e5f559a13",
   "metadata": {},
   "outputs": [
    {
     "data": {
      "text/plain": [
       "tuple"
      ]
     },
     "execution_count": 39,
     "metadata": {},
     "output_type": "execute_result"
    }
   ],
   "source": [
    "type(clean_price('unknown'))"
   ]
  },
  {
   "cell_type": "code",
   "execution_count": 55,
   "id": "fa61aff5-a8ee-4dfb-b227-6162e54c74f4",
   "metadata": {},
   "outputs": [],
   "source": [
    "from dateutil import parser\n",
    "from datetime import datetime"
   ]
  },
  {
   "cell_type": "code",
   "execution_count": 103,
   "id": "66913f98-ad80-409a-abcc-ec38f1e92e46",
   "metadata": {},
   "outputs": [
    {
     "name": "stdout",
     "output_type": "stream",
     "text": [
      "(datetime.date(2023, 12, 27), datetime.time(18, 0))\n"
     ]
    }
   ],
   "source": [
    "date_str = df['Date'][0]\n",
    "date_str\n",
    "liste = date_str.split()\n",
    "liste.remove(':')\n",
    "liste\n",
    "\n",
    "from datetime import datetime\n",
    "\n",
    "def convertir_en_datetime(liste):\n",
    "    # Convertir le mois de français à anglais\n",
    "    mois_fr_to_en = {\n",
    "        'Janvier': 'January',\n",
    "        'Février': 'February',\n",
    "        'Mars': 'March',\n",
    "        'Avril': 'April',\n",
    "        'Mai': 'May',\n",
    "        'Juin': 'June',\n",
    "        'Juillet': 'July',\n",
    "        'Août': 'August',\n",
    "        'Septembre': 'September',\n",
    "        'Octobre': 'October',\n",
    "        'Novembre': 'November',\n",
    "        'Décembre': 'December'\n",
    "    }\n",
    "\n",
    "    # Extraire les éléments de la liste\n",
    "    jour, jour_numero, mois_fr, heure = liste\n",
    "\n",
    "    # Convertir le mois en anglais\n",
    "    mois_en = mois_fr_to_en[mois_fr]\n",
    "\n",
    "    # Concaténer la date et l'heure en une seule chaîne\n",
    "    date_str = f'{jour_numero} {mois_en} 2023 {heure}'\n",
    "\n",
    "    # Utiliser la fonction strptime pour convertir la chaîne en objet datetime\n",
    "    date_time_obj = datetime.strptime(date_str, '%d %B %Y %Hh%M')\n",
    "\n",
    "    # Retourner un tuple avec la date et l'heure\n",
    "    return date_time_obj.date(), date_time_obj.time()\n",
    "\n",
    "# Exemple d'utilisation\n",
    "liste_date_heure = ['Mercredi', '27', 'Décembre', '18h00']\n",
    "resultat = convertir_en_datetime(liste_date_heure)\n",
    "print(resultat)\n",
    "\n"
   ]
  },
  {
   "cell_type": "code",
   "execution_count": null,
   "id": "efe7ab80-eb78-42a3-8545-89f8ab8db308",
   "metadata": {},
   "outputs": [],
   "source": []
  }
 ],
 "metadata": {
  "kernelspec": {
   "display_name": "Python 3 (ipykernel)",
   "language": "python",
   "name": "python3"
  },
  "language_info": {
   "codemirror_mode": {
    "name": "ipython",
    "version": 3
   },
   "file_extension": ".py",
   "mimetype": "text/x-python",
   "name": "python",
   "nbconvert_exporter": "python",
   "pygments_lexer": "ipython3",
   "version": "3.10.13"
  }
 },
 "nbformat": 4,
 "nbformat_minor": 5
}
