{
 "cells": [
  {
   "cell_type": "code",
   "execution_count": 7,
   "id": "5e0fa815-04ac-4eb8-b968-97cff2eed30c",
   "metadata": {},
   "outputs": [],
   "source": [
    "### J'ai exécuté le code ici car ça ne marchait pas ailleurs ###"
   ]
  },
  {
   "cell_type": "code",
   "execution_count": 1,
   "id": "3cc71c8a-549b-4d87-b42f-6bfdd52bc530",
   "metadata": {},
   "outputs": [],
   "source": [
    "from urllib import request\n",
    "import bs4\n",
    "import numpy as np\n",
    "import lxml\n",
    "import pandas as pd\n",
    "\n",
    "def ScrapMusiqueOFI(url): \n",
    "    site = request.urlopen(url)\n",
    "    code_page = bs4.BeautifulSoup(site, 'lxml')\n",
    "\n",
    "    ## Création du dictionnaire qui va servir à générer le dataframe\n",
    "\n",
    "    Data = {} \n",
    "    Data['nom'] = []\n",
    "    Data['etablissement'] = []\n",
    "    Data['Date'] = []\n",
    "    Data['adresse'] = []\n",
    "    Data['commune'] = []\n",
    "    Data['prix'] =[]\n",
    "\n",
    "    ## Extraction des dates des évènements (on doit faire 2 boucles) /!\\ on pourrait n'en faire qu'une avec une manip /!\\\n",
    "\n",
    "    InfoDates = code_page.find_all('div', class_ = 'has-padding-left-20 has-padding-right-20 has-padding-bottom-20')\n",
    "    for info in InfoDates:\n",
    "        Data['Date'].append(info.find('b').text.strip()) ### on ajoute à la liste dans le dictionnaire les dates (on trouve la première balise b, on récupère le texte et on retire les espaces plus tard *)\n",
    "        \n",
    "    ## Extraction des autres informations\n",
    "\n",
    "    fiches = code_page.find_all('div', class_ = 'mini-fiche-details d-flex has-padding-20')     \n",
    "    for fiche in fiches:\n",
    "        title = fiche.find('div', class_ = 'event-title').find('span').text ### on extrait le nom de l'évènement\n",
    "        etablissement = fiche.find('div', class_ ='event-place').find('a', class_ = 'text-body')\n",
    "        \n",
    "        span_list = fiche.find('div', class_ = 'tags-container').find_all('span')\n",
    "        figures =[]\n",
    "        for span in span_list:\n",
    "            if any(char.isdigit() for char in span.text):\n",
    "                figures.append(span.text)\n",
    "        \n",
    "        if figures != []:\n",
    "            prix = figures[0]\n",
    "        else:\n",
    "            prix = 'unknown'\n",
    "\n",
    "    \n",
    "        Data['nom'].append(title)\n",
    "        Data['etablissement'].append(etablissement.text.strip()) ### (*) on nne strip qu'ici à cause de la ligne plus bas \n",
    "        Data['prix'].append(prix)\n",
    "\n",
    "        \n",
    "        link = etablissement.get('href') ### on récupère le lien du site web de l'établissement \n",
    "        site_etablissement = request.urlopen(link) \n",
    "        html_etablissement = bs4.BeautifulSoup(site_etablissement, 'lxml')\n",
    "        adresse = html_etablissement.find('div', class_ = 'page-subtitle').text\n",
    "        InfoAdresse = adresse.split(' - ')\n",
    "        Data['adresse'] = InfoAdresse[0]\n",
    "        Data['commune'] = InfoAdresse[1]\n",
    "    \n",
    "    DataPage = pd.DataFrame(Data)\n",
    "    return DataPage\n",
    "\n",
    "\n",
    "\n",
    "if __name__ == '__main__':\n",
    "    url = 'https://www.offi.fr/concerts/programme.html?criterion_sch_ville=75&criterion_SRubrique=classique'\n",
    "    df = ScrapMusiqueOFI(url)\n",
    "    df.to_csv('datatest.csv')\n"
   ]
  },
  {
   "cell_type": "code",
   "execution_count": 9,
   "id": "7ba2d8f4-6929-473f-8017-821ea546a21d",
   "metadata": {
    "scrolled": true
   },
   "outputs": [
    {
     "name": "stdout",
     "output_type": "stream",
     "text": [
      "https://www.offi.fr/concerts/programme.html?npage=36criterion_sch_ville=75&criterion_SRubrique=classique\n",
      "https://www.offi.fr/concerts/programme.html?npage=42criterion_sch_ville=75&criterion_SRubrique=classique\n"
     ]
    }
   ],
   "source": [
    "from urllib import request\n",
    "import re\n",
    "import bs4\n",
    "import numpy as np\n",
    "import lxml\n",
    "import pandas as pd\n",
    "import time\n",
    "\n",
    "## accès à la page web\n",
    "\n",
    "url_OFI_classique_Paris = 'https://www.offi.fr/concerts/programme.html?criterion_sch_ville=75&criterion_SRubrique=classique'\n",
    "request_text = request.urlopen(url_OFI_classique_Paris).read() ### on ouvre la page web avec les concerts de musique classique \n",
    "code_page = bs4.BeautifulSoup(request_text, \"lxml\") ### donne du texte HTML utilisable (type bs4.BeautifulSoup)\n",
    "\n",
    "## récupération des balises utiles \n",
    "\n",
    "beacon_a = code_page.find_all('a', class_ = 'page_numero') ### on trouve toutes les balises 'a' (balise d'hyperlien) avec la classe CCS page_numero \n",
    "start_page, end_page = int(beacon_a[0].get('data-page')), int(beacon_a[-1].get('data-page'))  ### on récupère les pages utiles avec get depuis la liste html on la transforme en int\n",
    "\n",
    "\n",
    "### à ce stade on a une sorte de liste avec les numéros de page présents dans la page cad 1, 2, 3 et 43\n",
    "\n",
    "## création du dictionnaire avec les liens \n",
    "\n",
    "links = {}\n",
    "links[1] = 'https://www.offi.fr/concerts/programme.html?criterion_sch_ville=75&criterion_SRubrique=classique'\n",
    "for p in range(start_page+1, end_page+1):\n",
    "    links[p] = 'https://www.offi.fr/concerts/programme.html?npage='+ str(p) + 'criterion_sch_ville=75&criterion_SRubrique=classique'\n",
    "\n",
    "\n",
    "## scrapping de la page \n",
    "\n",
    "from ScrapMusiqueClassiqueOFI import ScrapMusiqueOFI\n",
    "\n",
    "df_to_merge = []\n",
    "for link in links.values():\n",
    "\n",
    "    try :\n",
    "        df_to_merge.append(ScrapMusiqueOFI(link))\n",
    "        time.sleep(3)\n",
    "\n",
    "    except Exception as e:\n",
    "        print(link)\n",
    "    \n",
    "Data = pd.concat(df_to_merge, ignore_index= True)\n",
    "\n",
    "Data.to_csv('DataMusiqueClassique.csv')"
   ]
  },
  {
   "cell_type": "code",
   "execution_count": 10,
   "id": "dffef194-aaba-476b-b6f9-709007278c94",
   "metadata": {},
   "outputs": [
    {
     "ename": "AttributeError",
     "evalue": "'NoneType' object has no attribute 'find'",
     "output_type": "error",
     "traceback": [
      "\u001b[0;31m---------------------------------------------------------------------------\u001b[0m",
      "\u001b[0;31mAttributeError\u001b[0m                            Traceback (most recent call last)",
      "Cell \u001b[0;32mIn[10], line 1\u001b[0m\n\u001b[0;32m----> 1\u001b[0m \u001b[43mScrapMusiqueOFI\u001b[49m\u001b[43m(\u001b[49m\u001b[38;5;124;43m'\u001b[39;49m\u001b[38;5;124;43mhttps://www.offi.fr/concerts/programme.html?npage=36criterion_sch_ville=75&criterion_SRubrique=classique\u001b[39;49m\u001b[38;5;124;43m'\u001b[39;49m\u001b[43m)\u001b[49m\n",
      "File \u001b[0;32m~/work/Maps_cultural_life_Paris/Salles_de_concert_Paris/ScrapMusiqueClassiqueOFI.py:31\u001b[0m, in \u001b[0;36mScrapMusiqueOFI\u001b[0;34m(url)\u001b[0m\n\u001b[1;32m     29\u001b[0m fiches \u001b[38;5;241m=\u001b[39m code_page\u001b[38;5;241m.\u001b[39mfind_all(\u001b[38;5;124m'\u001b[39m\u001b[38;5;124mdiv\u001b[39m\u001b[38;5;124m'\u001b[39m, class_ \u001b[38;5;241m=\u001b[39m \u001b[38;5;124m'\u001b[39m\u001b[38;5;124mmini-fiche-details d-flex has-padding-20\u001b[39m\u001b[38;5;124m'\u001b[39m)     \n\u001b[1;32m     30\u001b[0m \u001b[38;5;28;01mfor\u001b[39;00m fiche \u001b[38;5;129;01min\u001b[39;00m fiches:\n\u001b[0;32m---> 31\u001b[0m     title \u001b[38;5;241m=\u001b[39m \u001b[43mfiche\u001b[49m\u001b[38;5;241;43m.\u001b[39;49m\u001b[43mfind\u001b[49m\u001b[43m(\u001b[49m\u001b[38;5;124;43m'\u001b[39;49m\u001b[38;5;124;43mdiv\u001b[39;49m\u001b[38;5;124;43m'\u001b[39;49m\u001b[43m,\u001b[49m\u001b[43m \u001b[49m\u001b[43mclass_\u001b[49m\u001b[43m \u001b[49m\u001b[38;5;241;43m=\u001b[39;49m\u001b[43m \u001b[49m\u001b[38;5;124;43m'\u001b[39;49m\u001b[38;5;124;43mevent-title\u001b[39;49m\u001b[38;5;124;43m'\u001b[39;49m\u001b[43m)\u001b[49m\u001b[38;5;241;43m.\u001b[39;49m\u001b[43mfind\u001b[49m(\u001b[38;5;124m'\u001b[39m\u001b[38;5;124mspan\u001b[39m\u001b[38;5;124m'\u001b[39m)\u001b[38;5;241m.\u001b[39mtext \u001b[38;5;66;03m### on extrait le nom de l'évènement\u001b[39;00m\n\u001b[1;32m     32\u001b[0m     etablissement \u001b[38;5;241m=\u001b[39m fiche\u001b[38;5;241m.\u001b[39mfind(\u001b[38;5;124m'\u001b[39m\u001b[38;5;124mdiv\u001b[39m\u001b[38;5;124m'\u001b[39m, class_ \u001b[38;5;241m=\u001b[39m\u001b[38;5;124m'\u001b[39m\u001b[38;5;124mevent-place\u001b[39m\u001b[38;5;124m'\u001b[39m)\u001b[38;5;241m.\u001b[39mfind(\u001b[38;5;124m'\u001b[39m\u001b[38;5;124ma\u001b[39m\u001b[38;5;124m'\u001b[39m, class_ \u001b[38;5;241m=\u001b[39m \u001b[38;5;124m'\u001b[39m\u001b[38;5;124mtext-body\u001b[39m\u001b[38;5;124m'\u001b[39m)\n\u001b[1;32m     34\u001b[0m     span_list \u001b[38;5;241m=\u001b[39m fiche\u001b[38;5;241m.\u001b[39mfind(\u001b[38;5;124m'\u001b[39m\u001b[38;5;124mdiv\u001b[39m\u001b[38;5;124m'\u001b[39m, class_ \u001b[38;5;241m=\u001b[39m \u001b[38;5;124m'\u001b[39m\u001b[38;5;124mtags-container\u001b[39m\u001b[38;5;124m'\u001b[39m)\u001b[38;5;241m.\u001b[39mfind_all(\u001b[38;5;124m'\u001b[39m\u001b[38;5;124mspan\u001b[39m\u001b[38;5;124m'\u001b[39m)\n",
      "\u001b[0;31mAttributeError\u001b[0m: 'NoneType' object has no attribute 'find'"
     ]
    }
   ],
   "source": [
    "ScrapMusiqueOFI('https://www.offi.fr/concerts/programme.html?npage=36criterion_sch_ville=75&criterion_SRubrique=classique')"
   ]
  },
  {
   "cell_type": "code",
   "execution_count": null,
   "id": "2473ac0e-8c1c-4a70-aa43-b9415bb9e03d",
   "metadata": {},
   "outputs": [],
   "source": []
  }
 ],
 "metadata": {
  "kernelspec": {
   "display_name": "Python 3 (ipykernel)",
   "language": "python",
   "name": "python3"
  },
  "language_info": {
   "codemirror_mode": {
    "name": "ipython",
    "version": 3
   },
   "file_extension": ".py",
   "mimetype": "text/x-python",
   "name": "python",
   "nbconvert_exporter": "python",
   "pygments_lexer": "ipython3",
   "version": "3.10.13"
  }
 },
 "nbformat": 4,
 "nbformat_minor": 5
}
