{
 "cells": [
  {
   "cell_type": "code",
   "execution_count": 3,
   "id": "9f693007-a99f-420b-9d45-e7a9eb222307",
   "metadata": {},
   "outputs": [],
   "source": [
    "!pip install -q lxml\n",
    "\n",
    "import bs4\n",
    "import lxml\n",
    "import pandas\n",
    "import urllib\n",
    "\n",
    "from urllib import request"
   ]
  },
  {
   "cell_type": "code",
   "execution_count": 6,
   "id": "34b4830d-73aa-4bde-9db1-e98a8b798543",
   "metadata": {},
   "outputs": [
    {
     "name": "stdout",
     "output_type": "stream",
     "text": [
      "b'<!DOCTYPE html>\\n<html lang=\"fr\">\\n<head>\\n\\t<meta name=\"viewport\" content=\"width=device-width, initial-scale=1, maximum-scale=1, user-scalable=no\">\\n\\t<meta charset=\"iso-8859-1\">\\n<title>Paris : tous les lieux et salles de concerts</title>\\n<meta name=\"description\" Content=\"Paris : avec Concert And Co, consultez la liste de tous les lieux de concerts et de toutes les salles de concerts\"><meta name=\"robot'\n"
     ]
    }
   ],
   "source": [
    "url_salles_de_concert = 'https://www.concertandco.com/lieu/paris/liste-salle-concert-1.htm'\n",
    "request_text = request.urlopen(url_salles_de_concert).read()\n",
    "print(request_text[:400])"
   ]
  },
  {
   "cell_type": "code",
   "execution_count": 18,
   "id": "43aa39fc-ba84-43d9-b0ff-079e1e39a97d",
   "metadata": {
    "scrolled": true
   },
   "outputs": [],
   "source": [
    "page = bs4.BeautifulSoup(request_text, \"lxml\")"
   ]
  },
  {
   "cell_type": "code",
   "execution_count": null,
   "id": "2536ec6d-fbf6-4497-b9d1-aeb7e97196ce",
   "metadata": {},
   "outputs": [],
   "source": []
  }
 ],
 "metadata": {
  "kernelspec": {
   "display_name": "Python 3 (ipykernel)",
   "language": "python",
   "name": "python3"
  },
  "language_info": {
   "codemirror_mode": {
    "name": "ipython",
    "version": 3
   },
   "file_extension": ".py",
   "mimetype": "text/x-python",
   "name": "python",
   "nbconvert_exporter": "python",
   "pygments_lexer": "ipython3",
   "version": "3.10.13"
  }
 },
 "nbformat": 4,
 "nbformat_minor": 5
}
