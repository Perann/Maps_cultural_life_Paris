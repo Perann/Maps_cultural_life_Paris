{
 "cells": [
  {
   "cell_type": "code",
   "execution_count": 1,
   "metadata": {},
   "outputs": [
    {
     "name": "stdout",
     "output_type": "stream",
     "text": [
      "Collecting beautifulsoup4\n",
      "  Downloading beautifulsoup4-4.12.2-py3-none-any.whl (142 kB)\n",
      "     ---------------------------------------- 0.0/143.0 kB ? eta -:--:--\n",
      "     -- ------------------------------------- 10.2/143.0 kB ? eta -:--:--\n",
      "     ---------- -------------------------- 41.0/143.0 kB 393.8 kB/s eta 0:00:01\n",
      "     --------------------------------- -- 133.1/143.0 kB 983.0 kB/s eta 0:00:01\n",
      "     ------------------------------------ 143.0/143.0 kB 948.1 kB/s eta 0:00:00\n",
      "Collecting soupsieve>1.2 (from beautifulsoup4)\n",
      "  Obtaining dependency information for soupsieve>1.2 from https://files.pythonhosted.org/packages/4c/f3/038b302fdfbe3be7da016777069f26ceefe11a681055ea1f7817546508e3/soupsieve-2.5-py3-none-any.whl.metadata\n",
      "  Downloading soupsieve-2.5-py3-none-any.whl.metadata (4.7 kB)\n",
      "Downloading soupsieve-2.5-py3-none-any.whl (36 kB)\n",
      "Installing collected packages: soupsieve, beautifulsoup4\n",
      "Successfully installed beautifulsoup4-4.12.2 soupsieve-2.5\n",
      "Note: you may need to restart the kernel to use updated packages.\n"
     ]
    },
    {
     "name": "stderr",
     "output_type": "stream",
     "text": [
      "\n",
      "[notice] A new release of pip is available: 23.2.1 -> 23.3.1\n",
      "[notice] To update, run: python.exe -m pip install --upgrade pip\n"
     ]
    }
   ],
   "source": [
    "pip install beautifulsoup4"
   ]
  },
  {
   "cell_type": "code",
   "execution_count": 2,
   "metadata": {},
   "outputs": [
    {
     "name": "stdout",
     "output_type": "stream",
     "text": [
      "Requirement already satisfied: pip in c:\\users\\nicola\\appdata\\local\\programs\\python\\python311\\lib\\site-packages (23.2.1)\n",
      "Collecting pip\n",
      "  Obtaining dependency information for pip from https://files.pythonhosted.org/packages/47/6a/453160888fab7c6a432a6e25f8afe6256d0d9f2cbd25971021da6491d899/pip-23.3.1-py3-none-any.whl.metadata\n",
      "  Downloading pip-23.3.1-py3-none-any.whl.metadata (3.5 kB)\n",
      "Downloading pip-23.3.1-py3-none-any.whl (2.1 MB)\n",
      "   ---------------------------------------- 0.0/2.1 MB ? eta -:--:--\n",
      "   ---------------------------------------- 0.0/2.1 MB ? eta -:--:--\n",
      "   -- ------------------------------------- 0.1/2.1 MB 2.1 MB/s eta 0:00:01\n",
      "   ---- ----------------------------------- 0.2/2.1 MB 2.1 MB/s eta 0:00:01\n",
      "   ------ --------------------------------- 0.3/2.1 MB 2.1 MB/s eta 0:00:01\n",
      "   ---------- ----------------------------- 0.5/2.1 MB 2.6 MB/s eta 0:00:01\n",
      "   ------------ --------------------------- 0.7/2.1 MB 2.8 MB/s eta 0:00:01\n",
      "   ---------------- ----------------------- 0.9/2.1 MB 3.0 MB/s eta 0:00:01\n",
      "   ------------------- -------------------- 1.0/2.1 MB 2.9 MB/s eta 0:00:01\n",
      "   ---------------------- ----------------- 1.2/2.1 MB 3.0 MB/s eta 0:00:01\n",
      "   -------------------------- ------------- 1.4/2.1 MB 3.3 MB/s eta 0:00:01\n",
      "   ------------------------------ --------- 1.6/2.1 MB 3.3 MB/s eta 0:00:01\n",
      "   ----------------------------------- ---- 1.9/2.1 MB 3.6 MB/s eta 0:00:01\n",
      "   -------------------------------------- - 2.0/2.1 MB 3.6 MB/s eta 0:00:01\n",
      "   ---------------------------------------  2.1/2.1 MB 3.6 MB/s eta 0:00:01\n",
      "   ---------------------------------------- 2.1/2.1 MB 3.3 MB/s eta 0:00:00\n",
      "Installing collected packages: pip\n",
      "  Attempting uninstall: pip\n",
      "    Found existing installation: pip 23.2.1\n",
      "    Uninstalling pip-23.2.1:\n",
      "      Successfully uninstalled pip-23.2.1\n",
      "Successfully installed pip-23.3.1\n",
      "Note: you may need to restart the kernel to use updated packages.\n"
     ]
    }
   ],
   "source": [
    "pip install --upgrade pip"
   ]
  },
  {
   "cell_type": "code",
   "execution_count": 5,
   "metadata": {},
   "outputs": [
    {
     "name": "stdout",
     "output_type": "stream",
     "text": [
      "Requirement already satisfied: numpy in c:\\users\\nicola\\appdata\\local\\programs\\python\\python311\\lib\\site-packages (1.26.2)\n",
      "Note: you may need to restart the kernel to use updated packages.\n"
     ]
    }
   ],
   "source": [
    "pip install numpy"
   ]
  },
  {
   "cell_type": "code",
   "execution_count": 4,
   "metadata": {},
   "outputs": [
    {
     "name": "stdout",
     "output_type": "stream",
     "text": [
      "Collecting pandas\n",
      "  Downloading pandas-2.1.3-cp311-cp311-win_amd64.whl.metadata (18 kB)\n",
      "Collecting numpy<2,>=1.23.2 (from pandas)\n",
      "  Downloading numpy-1.26.2-cp311-cp311-win_amd64.whl.metadata (61 kB)\n",
      "     ---------------------------------------- 0.0/61.2 kB ? eta -:--:--\n",
      "     -------------------- ------------------- 30.7/61.2 kB 1.4 MB/s eta 0:00:01\n",
      "     ---------------------------------------- 61.2/61.2 kB 1.6 MB/s eta 0:00:00\n",
      "Requirement already satisfied: python-dateutil>=2.8.2 in c:\\users\\nicola\\appdata\\roaming\\python\\python311\\site-packages (from pandas) (2.8.2)\n",
      "Collecting pytz>=2020.1 (from pandas)\n",
      "  Downloading pytz-2023.3.post1-py2.py3-none-any.whl.metadata (22 kB)\n",
      "Collecting tzdata>=2022.1 (from pandas)\n",
      "  Downloading tzdata-2023.3-py2.py3-none-any.whl (341 kB)\n",
      "     ---------------------------------------- 0.0/341.8 kB ? eta -:--:--\n",
      "     ------------------- ------------------ 174.1/341.8 kB 5.3 MB/s eta 0:00:01\n",
      "     ------------------------------- ------ 286.7/341.8 kB 3.5 MB/s eta 0:00:01\n",
      "     -------------------------------------  337.9/341.8 kB 3.5 MB/s eta 0:00:01\n",
      "     -------------------------------------- 341.8/341.8 kB 2.4 MB/s eta 0:00:00\n",
      "Requirement already satisfied: six>=1.5 in c:\\users\\nicola\\appdata\\roaming\\python\\python311\\site-packages (from python-dateutil>=2.8.2->pandas) (1.16.0)\n",
      "Downloading pandas-2.1.3-cp311-cp311-win_amd64.whl (10.6 MB)\n",
      "   ---------------------------------------- 0.0/10.6 MB ? eta -:--:--\n",
      "    --------------------------------------- 0.1/10.6 MB 4.3 MB/s eta 0:00:03\n",
      "   - -------------------------------------- 0.3/10.6 MB 3.4 MB/s eta 0:00:04\n",
      "   - -------------------------------------- 0.4/10.6 MB 3.1 MB/s eta 0:00:04\n",
      "   - -------------------------------------- 0.5/10.6 MB 2.9 MB/s eta 0:00:04\n",
      "   -- ------------------------------------- 0.6/10.6 MB 2.9 MB/s eta 0:00:04\n",
      "   --- ------------------------------------ 0.8/10.6 MB 3.0 MB/s eta 0:00:04\n",
      "   --- ------------------------------------ 1.0/10.6 MB 3.2 MB/s eta 0:00:03\n",
      "   ---- ----------------------------------- 1.2/10.6 MB 3.4 MB/s eta 0:00:03\n",
      "   ----- ---------------------------------- 1.4/10.6 MB 3.6 MB/s eta 0:00:03\n",
      "   ------ --------------------------------- 1.6/10.6 MB 3.7 MB/s eta 0:00:03\n",
      "   ------- -------------------------------- 1.9/10.6 MB 3.9 MB/s eta 0:00:03\n",
      "   -------- ------------------------------- 2.1/10.6 MB 4.0 MB/s eta 0:00:03\n",
      "   -------- ------------------------------- 2.3/10.6 MB 4.0 MB/s eta 0:00:03\n",
      "   --------- ------------------------------ 2.6/10.6 MB 4.2 MB/s eta 0:00:02\n",
      "   ---------- ----------------------------- 2.9/10.6 MB 4.2 MB/s eta 0:00:02\n",
      "   ----------- ---------------------------- 3.1/10.6 MB 4.3 MB/s eta 0:00:02\n",
      "   ------------ --------------------------- 3.4/10.6 MB 4.3 MB/s eta 0:00:02\n",
      "   ------------- -------------------------- 3.5/10.6 MB 4.3 MB/s eta 0:00:02\n",
      "   ------------- -------------------------- 3.7/10.6 MB 4.3 MB/s eta 0:00:02\n",
      "   -------------- ------------------------- 3.9/10.6 MB 4.3 MB/s eta 0:00:02\n",
      "   --------------- ------------------------ 4.1/10.6 MB 4.2 MB/s eta 0:00:02\n",
      "   ---------------- ----------------------- 4.3/10.6 MB 4.3 MB/s eta 0:00:02\n",
      "   ---------------- ----------------------- 4.5/10.6 MB 4.2 MB/s eta 0:00:02\n",
      "   ----------------- ---------------------- 4.6/10.6 MB 4.3 MB/s eta 0:00:02\n",
      "   ----------------- ---------------------- 4.7/10.6 MB 4.1 MB/s eta 0:00:02\n",
      "   ------------------ --------------------- 4.9/10.6 MB 4.1 MB/s eta 0:00:02\n",
      "   ------------------- -------------------- 5.1/10.6 MB 4.1 MB/s eta 0:00:02\n",
      "   -------------------- ------------------- 5.4/10.6 MB 4.2 MB/s eta 0:00:02\n",
      "   -------------------- ------------------- 5.5/10.6 MB 4.1 MB/s eta 0:00:02\n",
      "   --------------------- ------------------ 5.7/10.6 MB 4.1 MB/s eta 0:00:02\n",
      "   ---------------------- ----------------- 5.9/10.6 MB 4.1 MB/s eta 0:00:02\n",
      "   ---------------------- ----------------- 5.9/10.6 MB 4.0 MB/s eta 0:00:02\n",
      "   ---------------------- ----------------- 6.0/10.6 MB 4.0 MB/s eta 0:00:02\n",
      "   ---------------------- ----------------- 6.0/10.6 MB 3.8 MB/s eta 0:00:02\n",
      "   ----------------------- ---------------- 6.1/10.6 MB 3.8 MB/s eta 0:00:02\n",
      "   ------------------------ --------------- 6.4/10.6 MB 3.9 MB/s eta 0:00:02\n",
      "   ------------------------ --------------- 6.6/10.6 MB 3.9 MB/s eta 0:00:02\n",
      "   ------------------------- -------------- 6.8/10.6 MB 3.9 MB/s eta 0:00:01\n",
      "   -------------------------- ------------- 7.0/10.6 MB 3.9 MB/s eta 0:00:01\n",
      "   -------------------------- ------------- 7.1/10.6 MB 3.9 MB/s eta 0:00:01\n",
      "   --------------------------- ------------ 7.2/10.6 MB 3.8 MB/s eta 0:00:01\n",
      "   --------------------------- ------------ 7.4/10.6 MB 3.9 MB/s eta 0:00:01\n",
      "   ---------------------------- ----------- 7.6/10.6 MB 3.8 MB/s eta 0:00:01\n",
      "   ----------------------------- ---------- 7.8/10.6 MB 3.9 MB/s eta 0:00:01\n",
      "   ------------------------------ --------- 8.0/10.6 MB 3.9 MB/s eta 0:00:01\n",
      "   ------------------------------- -------- 8.3/10.6 MB 3.9 MB/s eta 0:00:01\n",
      "   ------------------------------- -------- 8.5/10.6 MB 3.9 MB/s eta 0:00:01\n",
      "   -------------------------------- ------- 8.7/10.6 MB 3.9 MB/s eta 0:00:01\n",
      "   --------------------------------- ------ 8.8/10.6 MB 3.9 MB/s eta 0:00:01\n",
      "   --------------------------------- ------ 9.0/10.6 MB 3.9 MB/s eta 0:00:01\n",
      "   ---------------------------------- ----- 9.2/10.6 MB 3.9 MB/s eta 0:00:01\n",
      "   ----------------------------------- ---- 9.4/10.6 MB 3.9 MB/s eta 0:00:01\n",
      "   ----------------------------------- ---- 9.4/10.6 MB 3.9 MB/s eta 0:00:01\n",
      "   ----------------------------------- ---- 9.4/10.6 MB 3.9 MB/s eta 0:00:01\n",
      "   ------------------------------------ --- 9.6/10.6 MB 3.8 MB/s eta 0:00:01\n",
      "   ------------------------------------ --- 9.7/10.6 MB 3.8 MB/s eta 0:00:01\n",
      "   ------------------------------------ --- 9.7/10.6 MB 3.8 MB/s eta 0:00:01\n",
      "   ------------------------------------- -- 9.8/10.6 MB 3.7 MB/s eta 0:00:01\n",
      "   ------------------------------------- -- 9.9/10.6 MB 3.6 MB/s eta 0:00:01\n",
      "   ------------------------------------- -- 10.0/10.6 MB 3.6 MB/s eta 0:00:01\n",
      "   ------------------------------------- -- 10.0/10.6 MB 3.6 MB/s eta 0:00:01\n",
      "   ------------------------------------- -- 10.0/10.6 MB 3.6 MB/s eta 0:00:01\n",
      "   ------------------------------------- -- 10.0/10.6 MB 3.6 MB/s eta 0:00:01\n",
      "   ------------------------------------- -- 10.0/10.6 MB 3.6 MB/s eta 0:00:01\n",
      "   ------------------------------------- -- 10.0/10.6 MB 3.6 MB/s eta 0:00:01\n",
      "   ------------------------------------- -- 10.0/10.6 MB 3.6 MB/s eta 0:00:01\n",
      "   ------------------------------------- -- 10.0/10.6 MB 3.6 MB/s eta 0:00:01\n",
      "   ------------------------------------- -- 10.1/10.6 MB 3.2 MB/s eta 0:00:01\n",
      "   ------------------------------------- -- 10.1/10.6 MB 3.2 MB/s eta 0:00:01\n",
      "   -------------------------------------- - 10.1/10.6 MB 3.2 MB/s eta 0:00:01\n",
      "   -------------------------------------- - 10.2/10.6 MB 3.1 MB/s eta 0:00:01\n",
      "   -------------------------------------- - 10.3/10.6 MB 3.1 MB/s eta 0:00:01\n",
      "   -------------------------------------- - 10.3/10.6 MB 3.1 MB/s eta 0:00:01\n",
      "   -------------------------------------- - 10.3/10.6 MB 3.1 MB/s eta 0:00:01\n",
      "   ---------------------------------------  10.4/10.6 MB 3.0 MB/s eta 0:00:01\n",
      "   ---------------------------------------  10.4/10.6 MB 3.0 MB/s eta 0:00:01\n",
      "   ---------------------------------------  10.4/10.6 MB 3.0 MB/s eta 0:00:01\n",
      "   ---------------------------------------  10.4/10.6 MB 3.0 MB/s eta 0:00:01\n",
      "   ---------------------------------------  10.4/10.6 MB 3.0 MB/s eta 0:00:01\n",
      "   ---------------------------------------  10.4/10.6 MB 3.0 MB/s eta 0:00:01\n",
      "   ---------------------------------------  10.4/10.6 MB 3.0 MB/s eta 0:00:01\n",
      "   ---------------------------------------  10.4/10.6 MB 3.0 MB/s eta 0:00:01\n",
      "   ---------------------------------------  10.4/10.6 MB 3.0 MB/s eta 0:00:01\n",
      "   ---------------------------------------  10.4/10.6 MB 3.0 MB/s eta 0:00:01\n",
      "   ---------------------------------------  10.4/10.6 MB 3.0 MB/s eta 0:00:01\n",
      "   ---------------------------------------  10.4/10.6 MB 3.0 MB/s eta 0:00:01\n",
      "   ---------------------------------------  10.4/10.6 MB 3.0 MB/s eta 0:00:01\n",
      "   ---------------------------------------  10.4/10.6 MB 3.0 MB/s eta 0:00:01\n",
      "   ---------------------------------------  10.4/10.6 MB 3.0 MB/s eta 0:00:01\n",
      "   ---------------------------------------  10.4/10.6 MB 3.0 MB/s eta 0:00:01\n",
      "   ---------------------------------------  10.4/10.6 MB 3.0 MB/s eta 0:00:01\n",
      "   ---------------------------------------  10.4/10.6 MB 3.0 MB/s eta 0:00:01\n",
      "   ---------------------------------------  10.5/10.6 MB 2.4 MB/s eta 0:00:01\n",
      "   ---------------------------------------  10.5/10.6 MB 2.4 MB/s eta 0:00:01\n",
      "   ---------------------------------------  10.5/10.6 MB 2.4 MB/s eta 0:00:01\n",
      "   ---------------------------------------  10.5/10.6 MB 2.4 MB/s eta 0:00:01\n",
      "   ---------------------------------------  10.5/10.6 MB 2.3 MB/s eta 0:00:01\n",
      "   ---------------------------------------  10.6/10.6 MB 2.3 MB/s eta 0:00:01\n",
      "   ---------------------------------------  10.6/10.6 MB 2.3 MB/s eta 0:00:01\n",
      "   ---------------------------------------  10.6/10.6 MB 2.3 MB/s eta 0:00:01\n",
      "   ---------------------------------------  10.6/10.6 MB 2.3 MB/s eta 0:00:01\n",
      "   ---------------------------------------  10.6/10.6 MB 2.3 MB/s eta 0:00:01\n",
      "   ---------------------------------------  10.6/10.6 MB 2.3 MB/s eta 0:00:01\n",
      "   ---------------------------------------  10.6/10.6 MB 2.3 MB/s eta 0:00:01\n",
      "   ---------------------------------------  10.6/10.6 MB 2.3 MB/s eta 0:00:01\n",
      "   ---------------------------------------  10.6/10.6 MB 2.2 MB/s eta 0:00:01\n",
      "   ---------------------------------------  10.6/10.6 MB 2.2 MB/s eta 0:00:01\n",
      "   ---------------------------------------  10.6/10.6 MB 2.2 MB/s eta 0:00:01\n",
      "   ---------------------------------------  10.6/10.6 MB 2.2 MB/s eta 0:00:01\n",
      "   ---------------------------------------  10.6/10.6 MB 2.2 MB/s eta 0:00:01\n",
      "   ---------------------------------------- 10.6/10.6 MB 2.0 MB/s eta 0:00:00\n",
      "Downloading numpy-1.26.2-cp311-cp311-win_amd64.whl (15.8 MB)\n",
      "   ---------------------------------------- 0.0/15.8 MB ? eta -:--:--\n",
      "   ---------------------------------------- 0.0/15.8 MB ? eta -:--:--\n",
      "   ---------------------------------------- 0.0/15.8 MB ? eta -:--:--\n",
      "   ---------------------------------------- 0.0/15.8 MB 435.7 kB/s eta 0:00:37\n",
      "   ---------------------------------------- 0.1/15.8 MB 651.6 kB/s eta 0:00:25\n",
      "    --------------------------------------- 0.2/15.8 MB 1.5 MB/s eta 0:00:11\n",
      "    --------------------------------------- 0.4/15.8 MB 1.7 MB/s eta 0:00:10\n",
      "   - -------------------------------------- 0.5/15.8 MB 2.0 MB/s eta 0:00:08\n",
      "   - -------------------------------------- 0.6/15.8 MB 2.0 MB/s eta 0:00:08\n",
      "   - -------------------------------------- 0.7/15.8 MB 2.1 MB/s eta 0:00:08\n",
      "   -- ------------------------------------- 0.8/15.8 MB 2.1 MB/s eta 0:00:08\n",
      "   -- ------------------------------------- 0.9/15.8 MB 2.1 MB/s eta 0:00:08\n",
      "   -- ------------------------------------- 1.0/15.8 MB 2.1 MB/s eta 0:00:08\n",
      "   -- ------------------------------------- 1.1/15.8 MB 2.1 MB/s eta 0:00:07\n",
      "   --- ------------------------------------ 1.2/15.8 MB 2.1 MB/s eta 0:00:07\n",
      "   --- ------------------------------------ 1.4/15.8 MB 2.2 MB/s eta 0:00:07\n",
      "   --- ------------------------------------ 1.6/15.8 MB 2.3 MB/s eta 0:00:07\n",
      "   ---- ----------------------------------- 1.7/15.8 MB 2.3 MB/s eta 0:00:07\n",
      "   ---- ----------------------------------- 1.8/15.8 MB 2.3 MB/s eta 0:00:07\n",
      "   ---- ----------------------------------- 1.9/15.8 MB 2.3 MB/s eta 0:00:06\n",
      "   ----- ---------------------------------- 2.1/15.8 MB 2.4 MB/s eta 0:00:06\n",
      "   ----- ---------------------------------- 2.2/15.8 MB 2.4 MB/s eta 0:00:06\n",
      "   ----- ---------------------------------- 2.3/15.8 MB 2.4 MB/s eta 0:00:06\n",
      "   ------ --------------------------------- 2.5/15.8 MB 2.4 MB/s eta 0:00:06\n",
      "   ------ --------------------------------- 2.7/15.8 MB 2.5 MB/s eta 0:00:06\n",
      "   ------- -------------------------------- 2.8/15.8 MB 2.6 MB/s eta 0:00:06\n",
      "   ------- -------------------------------- 2.9/15.8 MB 2.6 MB/s eta 0:00:05\n",
      "   ------- -------------------------------- 3.1/15.8 MB 2.6 MB/s eta 0:00:05\n",
      "   -------- ------------------------------- 3.3/15.8 MB 2.6 MB/s eta 0:00:05\n",
      "   -------- ------------------------------- 3.5/15.8 MB 2.7 MB/s eta 0:00:05\n",
      "   --------- ------------------------------ 3.6/15.8 MB 2.7 MB/s eta 0:00:05\n",
      "   --------- ------------------------------ 3.8/15.8 MB 2.8 MB/s eta 0:00:05\n",
      "   ---------- ----------------------------- 4.0/15.8 MB 2.8 MB/s eta 0:00:05\n",
      "   ---------- ----------------------------- 4.2/15.8 MB 2.8 MB/s eta 0:00:05\n",
      "   ----------- ---------------------------- 4.4/15.8 MB 2.9 MB/s eta 0:00:04\n",
      "   ----------- ---------------------------- 4.6/15.8 MB 3.0 MB/s eta 0:00:04\n",
      "   ------------ --------------------------- 4.8/15.8 MB 3.0 MB/s eta 0:00:04\n",
      "   ------------ --------------------------- 5.0/15.8 MB 3.0 MB/s eta 0:00:04\n",
      "   ------------- -------------------------- 5.2/15.8 MB 3.0 MB/s eta 0:00:04\n",
      "   ------------- -------------------------- 5.4/15.8 MB 3.1 MB/s eta 0:00:04\n",
      "   -------------- ------------------------- 5.6/15.8 MB 3.1 MB/s eta 0:00:04\n",
      "   -------------- ------------------------- 5.8/15.8 MB 3.1 MB/s eta 0:00:04\n",
      "   --------------- ------------------------ 5.9/15.8 MB 3.2 MB/s eta 0:00:04\n",
      "   --------------- ------------------------ 6.1/15.8 MB 3.2 MB/s eta 0:00:04\n",
      "   --------------- ------------------------ 6.3/15.8 MB 3.2 MB/s eta 0:00:03\n",
      "   ---------------- ----------------------- 6.6/15.8 MB 3.2 MB/s eta 0:00:03\n",
      "   ----------------- ---------------------- 6.7/15.8 MB 3.3 MB/s eta 0:00:03\n",
      "   ----------------- ---------------------- 7.0/15.8 MB 3.3 MB/s eta 0:00:03\n",
      "   ------------------ --------------------- 7.2/15.8 MB 3.3 MB/s eta 0:00:03\n",
      "   ------------------ --------------------- 7.4/15.8 MB 3.3 MB/s eta 0:00:03\n",
      "   ------------------- -------------------- 7.6/15.8 MB 3.4 MB/s eta 0:00:03\n",
      "   ------------------- -------------------- 7.7/15.8 MB 3.4 MB/s eta 0:00:03\n",
      "   ------------------- -------------------- 7.8/15.8 MB 3.3 MB/s eta 0:00:03\n",
      "   -------------------- ------------------- 7.9/15.8 MB 3.3 MB/s eta 0:00:03\n",
      "   -------------------- ------------------- 8.2/15.8 MB 3.4 MB/s eta 0:00:03\n",
      "   --------------------- ------------------ 8.3/15.8 MB 3.4 MB/s eta 0:00:03\n",
      "   --------------------- ------------------ 8.5/15.8 MB 3.4 MB/s eta 0:00:03\n",
      "   --------------------- ------------------ 8.6/15.8 MB 3.3 MB/s eta 0:00:03\n",
      "   ---------------------- ----------------- 8.8/15.8 MB 3.4 MB/s eta 0:00:03\n",
      "   ---------------------- ----------------- 8.9/15.8 MB 3.3 MB/s eta 0:00:03\n",
      "   ---------------------- ----------------- 9.1/15.8 MB 3.4 MB/s eta 0:00:02\n",
      "   ----------------------- ---------------- 9.3/15.8 MB 3.4 MB/s eta 0:00:02\n",
      "   ----------------------- ---------------- 9.4/15.8 MB 3.3 MB/s eta 0:00:02\n",
      "   ------------------------ --------------- 9.6/15.8 MB 3.4 MB/s eta 0:00:02\n",
      "   ------------------------ --------------- 9.7/15.8 MB 3.4 MB/s eta 0:00:02\n",
      "   ------------------------ --------------- 9.7/15.8 MB 3.3 MB/s eta 0:00:02\n",
      "   ------------------------ --------------- 9.8/15.8 MB 3.3 MB/s eta 0:00:02\n",
      "   ------------------------- -------------- 9.9/15.8 MB 3.3 MB/s eta 0:00:02\n",
      "   ------------------------- -------------- 10.0/15.8 MB 3.2 MB/s eta 0:00:02\n",
      "   ------------------------- -------------- 10.1/15.8 MB 3.2 MB/s eta 0:00:02\n",
      "   -------------------------- ------------- 10.3/15.8 MB 3.4 MB/s eta 0:00:02\n",
      "   -------------------------- ------------- 10.4/15.8 MB 3.3 MB/s eta 0:00:02\n",
      "   -------------------------- ------------- 10.5/15.8 MB 3.3 MB/s eta 0:00:02\n",
      "   --------------------------- ------------ 10.7/15.8 MB 3.3 MB/s eta 0:00:02\n",
      "   --------------------------- ------------ 10.8/15.8 MB 3.4 MB/s eta 0:00:02\n",
      "   --------------------------- ------------ 11.0/15.8 MB 3.4 MB/s eta 0:00:02\n",
      "   ---------------------------- ----------- 11.2/15.8 MB 3.4 MB/s eta 0:00:02\n",
      "   ---------------------------- ----------- 11.4/15.8 MB 3.5 MB/s eta 0:00:02\n",
      "   ----------------------------- ---------- 11.6/15.8 MB 3.5 MB/s eta 0:00:02\n",
      "   ----------------------------- ---------- 11.8/15.8 MB 3.5 MB/s eta 0:00:02\n",
      "   ----------------------------- ---------- 11.8/15.8 MB 3.5 MB/s eta 0:00:02\n",
      "   ------------------------------ --------- 12.0/15.8 MB 3.5 MB/s eta 0:00:02\n",
      "   ------------------------------ --------- 12.2/15.8 MB 3.6 MB/s eta 0:00:02\n",
      "   ------------------------------- -------- 12.4/15.8 MB 3.6 MB/s eta 0:00:01\n",
      "   -------------------------------- ------- 12.6/15.8 MB 3.7 MB/s eta 0:00:01\n",
      "   -------------------------------- ------- 12.8/15.8 MB 3.6 MB/s eta 0:00:01\n",
      "   -------------------------------- ------- 12.9/15.8 MB 3.6 MB/s eta 0:00:01\n",
      "   --------------------------------- ------ 13.1/15.8 MB 3.6 MB/s eta 0:00:01\n",
      "   --------------------------------- ------ 13.4/15.8 MB 3.7 MB/s eta 0:00:01\n",
      "   ---------------------------------- ----- 13.5/15.8 MB 3.7 MB/s eta 0:00:01\n",
      "   ---------------------------------- ----- 13.7/15.8 MB 3.7 MB/s eta 0:00:01\n",
      "   ----------------------------------- ---- 14.0/15.8 MB 3.7 MB/s eta 0:00:01\n",
      "   ----------------------------------- ---- 14.2/15.8 MB 3.7 MB/s eta 0:00:01\n",
      "   ------------------------------------ --- 14.5/15.8 MB 3.7 MB/s eta 0:00:01\n",
      "   ------------------------------------- -- 14.7/15.8 MB 3.7 MB/s eta 0:00:01\n",
      "   ------------------------------------- -- 14.9/15.8 MB 3.7 MB/s eta 0:00:01\n",
      "   -------------------------------------- - 15.1/15.8 MB 3.7 MB/s eta 0:00:01\n",
      "   -------------------------------------- - 15.3/15.8 MB 3.7 MB/s eta 0:00:01\n",
      "   -------------------------------------- - 15.3/15.8 MB 3.7 MB/s eta 0:00:01\n",
      "   ---------------------------------------  15.5/15.8 MB 3.7 MB/s eta 0:00:01\n",
      "   ---------------------------------------  15.7/15.8 MB 3.7 MB/s eta 0:00:01\n",
      "   ---------------------------------------  15.8/15.8 MB 3.7 MB/s eta 0:00:01\n",
      "   ---------------------------------------  15.8/15.8 MB 3.7 MB/s eta 0:00:01\n",
      "   ---------------------------------------  15.8/15.8 MB 3.7 MB/s eta 0:00:01\n",
      "   ---------------------------------------  15.8/15.8 MB 3.7 MB/s eta 0:00:01\n",
      "   ---------------------------------------- 15.8/15.8 MB 3.4 MB/s eta 0:00:00\n",
      "Downloading pytz-2023.3.post1-py2.py3-none-any.whl (502 kB)\n",
      "   ---------------------------------------- 0.0/502.5 kB ? eta -:--:--\n",
      "   --------------------------------------  501.8/502.5 kB 15.9 MB/s eta 0:00:01\n",
      "   ---------------------------------------- 502.5/502.5 kB 6.3 MB/s eta 0:00:00\n",
      "Installing collected packages: pytz, tzdata, numpy, pandas\n",
      "Successfully installed numpy-1.26.2 pandas-2.1.3 pytz-2023.3.post1 tzdata-2023.3\n",
      "Note: you may need to restart the kernel to use updated packages.\n"
     ]
    }
   ],
   "source": [
    "pip install pandas"
   ]
  },
  {
   "cell_type": "code",
   "execution_count": 64,
   "id": "9f693007-a99f-420b-9d45-e7a9eb222307",
   "metadata": {},
   "outputs": [
    {
     "name": "stdout",
     "output_type": "stream",
     "text": [
      "Note: you may need to restart the kernel to use updated packages.\n"
     ]
    }
   ],
   "source": [
    "%pip install -q lxml\n",
    "\n",
    "\n",
    "import bs4\n",
    "import lxml\n",
    "import pandas as pd\n",
    "import urllib\n",
    "\n",
    "from urllib import request"
   ]
  },
  {
   "cell_type": "code",
   "execution_count": 65,
   "id": "34b4830d-73aa-4bde-9db1-e98a8b798543",
   "metadata": {},
   "outputs": [],
   "source": [
    "url_salles_de_concert = 'https://www.offi.fr/concerts/salles-de-concert-paris.html'  ## URL of the stripped page\n",
    "request_text = request.urlopen(url_salles_de_concert).read()   ## opens the URL"
   ]
  },
  {
   "cell_type": "code",
   "execution_count": 66,
   "id": "43aa39fc-ba84-43d9-b0ff-079e1e39a97d",
   "metadata": {
    "scrolled": true
   },
   "outputs": [],
   "source": [
    "page = bs4.BeautifulSoup(request_text, \"lxml\") ## We get a usable html text"
   ]
  },
  {
   "cell_type": "code",
   "execution_count": 67,
   "id": "2536ec6d-fbf6-4497-b9d1-aeb7e97196ce",
   "metadata": {},
   "outputs": [
    {
     "name": "stdout",
     "output_type": "stream",
     "text": [
      "<title>Salles de concert à Paris • L'Officiel des spectacles</title>\n"
     ]
    }
   ],
   "source": [
    "print(page.find(\"title\"))"
   ]
  },
  {
   "cell_type": "code",
   "execution_count": 68,
   "metadata": {},
   "outputs": [],
   "source": [
    "table_concert_hall = page.find('table',{'class' : 'tableau-liste'}) ## accessing the table we want to scrap"
   ]
  },
  {
   "cell_type": "code",
   "execution_count": 69,
   "metadata": {},
   "outputs": [
    {
     "data": {
      "text/plain": [
       "bs4.element.Tag"
      ]
     },
     "execution_count": 69,
     "metadata": {},
     "output_type": "execute_result"
    }
   ],
   "source": [
    "type(table_concert_hall)"
   ]
  },
  {
   "cell_type": "code",
   "execution_count": 70,
   "metadata": {},
   "outputs": [],
   "source": [
    "table_body = table_concert_hall.find_all('tbody')[1] ## accessing the body of the table (there is another tbody before thee one we want to access hence the find_all)"
   ]
  },
  {
   "cell_type": "code",
   "execution_count": 71,
   "metadata": {},
   "outputs": [
    {
     "data": {
      "text/plain": [
       "bs4.element.Tag"
      ]
     },
     "execution_count": 71,
     "metadata": {},
     "output_type": "execute_result"
    }
   ],
   "source": [
    "type(table_body)"
   ]
  },
  {
   "cell_type": "code",
   "execution_count": 72,
   "metadata": {},
   "outputs": [],
   "source": [
    "table_rows = table_body.find_all('tr')  ## creates a list containing all the lines "
   ]
  },
  {
   "cell_type": "code",
   "execution_count": 73,
   "metadata": {},
   "outputs": [
    {
     "data": {
      "text/plain": [
       "bs4.element.ResultSet"
      ]
     },
     "execution_count": 73,
     "metadata": {},
     "output_type": "execute_result"
    }
   ],
   "source": [
    "type(table_rows)"
   ]
  },
  {
   "cell_type": "code",
   "execution_count": 74,
   "metadata": {},
   "outputs": [],
   "source": [
    "table_col = table_rows[0].findAll('td') ## creates a list with all the cells from the first row"
   ]
  },
  {
   "cell_type": "code",
   "execution_count": null,
   "metadata": {},
   "outputs": [],
   "source": []
  },
  {
   "cell_type": "code",
   "execution_count": 84,
   "metadata": {},
   "outputs": [
    {
     "data": {
      "text/html": [
       "<div>\n",
       "<style scoped>\n",
       "    .dataframe tbody tr th:only-of-type {\n",
       "        vertical-align: middle;\n",
       "    }\n",
       "\n",
       "    .dataframe tbody tr th {\n",
       "        vertical-align: top;\n",
       "    }\n",
       "\n",
       "    .dataframe thead th {\n",
       "        text-align: right;\n",
       "    }\n",
       "</style>\n",
       "<table border=\"1\" class=\"dataframe\">\n",
       "  <thead>\n",
       "    <tr style=\"text-align: right;\">\n",
       "      <th></th>\n",
       "      <th>0</th>\n",
       "      <th>1</th>\n",
       "      <th>2</th>\n",
       "    </tr>\n",
       "  </thead>\n",
       "  <tbody>\n",
       "    <tr>\n",
       "      <th>360 Paris Music Factory</th>\n",
       "      <td>Paris 18e</td>\n",
       "      <td>Musiques du monde, musiques urbaines et actuelles</td>\n",
       "      <td>300</td>\n",
       "    </tr>\n",
       "    <tr>\n",
       "      <th>Accor Arena</th>\n",
       "      <td>Paris 12e</td>\n",
       "      <td>Pop rock, artistes populaires</td>\n",
       "      <td>20 300</td>\n",
       "    </tr>\n",
       "    <tr>\n",
       "      <th>Alhambra</th>\n",
       "      <td>Paris 10e</td>\n",
       "      <td>Musiques actuelles : soul, rock, chanson, élec...</td>\n",
       "      <td>500</td>\n",
       "    </tr>\n",
       "    <tr>\n",
       "      <th>Alimentation Générale</th>\n",
       "      <td>Paris 11e</td>\n",
       "      <td>Musiques actuelles : rock, électro, funk... + ...</td>\n",
       "      <td>500</td>\n",
       "    </tr>\n",
       "    <tr>\n",
       "      <th>Au Limonaire</th>\n",
       "      <td>Paris 9e</td>\n",
       "      <td>Chanson</td>\n",
       "      <td>nc</td>\n",
       "    </tr>\n",
       "  </tbody>\n",
       "</table>\n",
       "</div>"
      ],
      "text/plain": [
       "                                 0  \\\n",
       "360 Paris Music Factory  Paris 18e   \n",
       "Accor Arena              Paris 12e   \n",
       "Alhambra                 Paris 10e   \n",
       "Alimentation Générale    Paris 11e   \n",
       "Au Limonaire              Paris 9e   \n",
       "\n",
       "                                                                         1  \\\n",
       "360 Paris Music Factory  Musiques du monde, musiques urbaines et actuelles   \n",
       "Accor Arena                                  Pop rock, artistes populaires   \n",
       "Alhambra                 Musiques actuelles : soul, rock, chanson, élec...   \n",
       "Alimentation Générale    Musiques actuelles : rock, électro, funk... + ...   \n",
       "Au Limonaire                                                       Chanson   \n",
       "\n",
       "                              2  \n",
       "360 Paris Music Factory     300  \n",
       "Accor Arena              20 300  \n",
       "Alhambra                    500  \n",
       "Alimentation Générale       500  \n",
       "Au Limonaire                 nc  "
      ]
     },
     "execution_count": 84,
     "metadata": {},
     "output_type": "execute_result"
    }
   ],
   "source": [
    "Dict = {}\n",
    "\n",
    "for row in table_rows:\n",
    "    table_col = row.findAll('td')\n",
    "    table_col = [cell.text.strip() for cell in table_col]\n",
    "    Dict[table_col[0]] = table_col[1:]\n",
    "\n",
    "Data_concert_hall = pd.DataFrame.from_dict(Dict,orient='index')\n",
    "Data_concert_hall.head()\n",
    "\n",
    "\n"
   ]
  },
  {
   "cell_type": "code",
   "execution_count": 88,
   "metadata": {},
   "outputs": [
    {
     "data": {
      "text/html": [
       "<div>\n",
       "<style scoped>\n",
       "    .dataframe tbody tr th:only-of-type {\n",
       "        vertical-align: middle;\n",
       "    }\n",
       "\n",
       "    .dataframe tbody tr th {\n",
       "        vertical-align: top;\n",
       "    }\n",
       "\n",
       "    .dataframe thead th {\n",
       "        text-align: right;\n",
       "    }\n",
       "</style>\n",
       "<table border=\"1\" class=\"dataframe\">\n",
       "  <thead>\n",
       "    <tr style=\"text-align: right;\">\n",
       "      <th></th>\n",
       "      <th>0</th>\n",
       "      <th>1</th>\n",
       "      <th>2</th>\n",
       "    </tr>\n",
       "  </thead>\n",
       "  <tbody>\n",
       "    <tr>\n",
       "      <th>360 Paris Music Factory</th>\n",
       "      <td>Paris 18e</td>\n",
       "      <td>Musiques du monde, musiques urbaines et actuelles</td>\n",
       "      <td>300</td>\n",
       "    </tr>\n",
       "    <tr>\n",
       "      <th>Accor Arena</th>\n",
       "      <td>Paris 12e</td>\n",
       "      <td>Pop rock, artistes populaires</td>\n",
       "      <td>20 300</td>\n",
       "    </tr>\n",
       "    <tr>\n",
       "      <th>Alhambra</th>\n",
       "      <td>Paris 10e</td>\n",
       "      <td>Musiques actuelles : soul, rock, chanson, élec...</td>\n",
       "      <td>500</td>\n",
       "    </tr>\n",
       "    <tr>\n",
       "      <th>Alimentation Générale</th>\n",
       "      <td>Paris 11e</td>\n",
       "      <td>Musiques actuelles : rock, électro, funk... + ...</td>\n",
       "      <td>500</td>\n",
       "    </tr>\n",
       "    <tr>\n",
       "      <th>Au Limonaire</th>\n",
       "      <td>Paris 9e</td>\n",
       "      <td>Chanson</td>\n",
       "      <td>nc</td>\n",
       "    </tr>\n",
       "  </tbody>\n",
       "</table>\n",
       "</div>"
      ],
      "text/plain": [
       "                                 0  \\\n",
       "360 Paris Music Factory  Paris 18e   \n",
       "Accor Arena              Paris 12e   \n",
       "Alhambra                 Paris 10e   \n",
       "Alimentation Générale    Paris 11e   \n",
       "Au Limonaire              Paris 9e   \n",
       "\n",
       "                                                                         1  \\\n",
       "360 Paris Music Factory  Musiques du monde, musiques urbaines et actuelles   \n",
       "Accor Arena                                  Pop rock, artistes populaires   \n",
       "Alhambra                 Musiques actuelles : soul, rock, chanson, élec...   \n",
       "Alimentation Générale    Musiques actuelles : rock, électro, funk... + ...   \n",
       "Au Limonaire                                                       Chanson   \n",
       "\n",
       "                              2  \n",
       "360 Paris Music Factory     300  \n",
       "Accor Arena              20 300  \n",
       "Alhambra                    500  \n",
       "Alimentation Générale       500  \n",
       "Au Limonaire                 nc  "
      ]
     },
     "execution_count": 88,
     "metadata": {},
     "output_type": "execute_result"
    }
   ],
   "source": [
    "Data_concert_hall_V2 = pd.DataFrame(Dict)\n",
    "Data_concert_hall_V2 = Data_concert_hall_V2.T\n",
    "Data_concert_hall_V2.head()"
   ]
  },
  {
   "cell_type": "code",
   "execution_count": 101,
   "metadata": {},
   "outputs": [
    {
     "data": {
      "text/plain": [
       "['Salle de concert', 'Lieu', 'Genre musical', 'Jauge']"
      ]
     },
     "execution_count": 101,
     "metadata": {},
     "output_type": "execute_result"
    }
   ],
   "source": [
    "titles = []\n",
    "table_titles = table_concert_hall.find('tbody')\n",
    "cols = table_titles.findAll('th') ## there is only one line here so we access directly to the columns \n",
    "for col in cols:\n",
    "    titles.append(col.text.strip())\n",
    "\n",
    "titles"
   ]
  },
  {
   "cell_type": "code",
   "execution_count": 105,
   "metadata": {},
   "outputs": [
    {
     "data": {
      "text/html": [
       "<div>\n",
       "<style scoped>\n",
       "    .dataframe tbody tr th:only-of-type {\n",
       "        vertical-align: middle;\n",
       "    }\n",
       "\n",
       "    .dataframe tbody tr th {\n",
       "        vertical-align: top;\n",
       "    }\n",
       "\n",
       "    .dataframe thead th {\n",
       "        text-align: right;\n",
       "    }\n",
       "</style>\n",
       "<table border=\"1\" class=\"dataframe\">\n",
       "  <thead>\n",
       "    <tr style=\"text-align: right;\">\n",
       "      <th></th>\n",
       "      <th>Lieu</th>\n",
       "      <th>Genre musical</th>\n",
       "      <th>Jauge</th>\n",
       "    </tr>\n",
       "  </thead>\n",
       "  <tbody>\n",
       "    <tr>\n",
       "      <th>360 Paris Music Factory</th>\n",
       "      <td>Paris 18e</td>\n",
       "      <td>Musiques du monde, musiques urbaines et actuelles</td>\n",
       "      <td>300</td>\n",
       "    </tr>\n",
       "    <tr>\n",
       "      <th>Accor Arena</th>\n",
       "      <td>Paris 12e</td>\n",
       "      <td>Pop rock, artistes populaires</td>\n",
       "      <td>20 300</td>\n",
       "    </tr>\n",
       "    <tr>\n",
       "      <th>Alhambra</th>\n",
       "      <td>Paris 10e</td>\n",
       "      <td>Musiques actuelles : soul, rock, chanson, élec...</td>\n",
       "      <td>500</td>\n",
       "    </tr>\n",
       "    <tr>\n",
       "      <th>Alimentation Générale</th>\n",
       "      <td>Paris 11e</td>\n",
       "      <td>Musiques actuelles : rock, électro, funk... + ...</td>\n",
       "      <td>500</td>\n",
       "    </tr>\n",
       "    <tr>\n",
       "      <th>Au Limonaire</th>\n",
       "      <td>Paris 9e</td>\n",
       "      <td>Chanson</td>\n",
       "      <td>nc</td>\n",
       "    </tr>\n",
       "  </tbody>\n",
       "</table>\n",
       "</div>"
      ],
      "text/plain": [
       "                              Lieu  \\\n",
       "360 Paris Music Factory  Paris 18e   \n",
       "Accor Arena              Paris 12e   \n",
       "Alhambra                 Paris 10e   \n",
       "Alimentation Générale    Paris 11e   \n",
       "Au Limonaire              Paris 9e   \n",
       "\n",
       "                                                             Genre musical  \\\n",
       "360 Paris Music Factory  Musiques du monde, musiques urbaines et actuelles   \n",
       "Accor Arena                                  Pop rock, artistes populaires   \n",
       "Alhambra                 Musiques actuelles : soul, rock, chanson, élec...   \n",
       "Alimentation Générale    Musiques actuelles : rock, électro, funk... + ...   \n",
       "Au Limonaire                                                       Chanson   \n",
       "\n",
       "                          Jauge  \n",
       "360 Paris Music Factory     300  \n",
       "Accor Arena              20 300  \n",
       "Alhambra                    500  \n",
       "Alimentation Générale       500  \n",
       "Au Limonaire                 nc  "
      ]
     },
     "execution_count": 105,
     "metadata": {},
     "output_type": "execute_result"
    }
   ],
   "source": [
    "Data_concert_hall.columns = titles[1:]\n",
    "Data_concert_hall.head()"
   ]
  },
  {
   "cell_type": "code",
   "execution_count": 111,
   "metadata": {},
   "outputs": [
    {
     "ename": "PermissionError",
     "evalue": "[Errno 13] Permission denied: 'C:\\\\Users\\\\Nicola\\\\OneDrive\\\\Bureau\\\\Projets Python'",
     "output_type": "error",
     "traceback": [
      "\u001b[1;31m---------------------------------------------------------------------------\u001b[0m",
      "\u001b[1;31mPermissionError\u001b[0m                           Traceback (most recent call last)",
      "\u001b[1;32mPerann\\Python_2A\\Salles_de_concert_Paris\\Scrap_Salles_de_concert.ipynb Cell 21\u001b[0m line \u001b[0;36m1\n\u001b[1;32m----> <a href='vscode-notebook-cell://github/Perann/Python_2A/Salles_de_concert_Paris/Scrap_Salles_de_concert.ipynb#X41sdnNjb2RlLXZmcw%3D%3D?line=0'>1</a>\u001b[0m Data_concert_hall\u001b[39m.\u001b[39;49mto_csv(\u001b[39mr\u001b[39;49m\u001b[39m\"\u001b[39;49m\u001b[39mC:\u001b[39;49m\u001b[39m\\\u001b[39;49m\u001b[39mUsers\u001b[39;49m\u001b[39m\\\u001b[39;49m\u001b[39mNicola\u001b[39;49m\u001b[39m\\\u001b[39;49m\u001b[39mOneDrive\u001b[39;49m\u001b[39m\\\u001b[39;49m\u001b[39mBureau\u001b[39;49m\u001b[39m\\\u001b[39;49m\u001b[39mProjets Python\u001b[39;49m\u001b[39m\"\u001b[39;49m,index\u001b[39m=\u001b[39;49m\u001b[39mFalse\u001b[39;49;00m)\n",
      "File \u001b[1;32mc:\\Users\\Nicola\\AppData\\Local\\Programs\\Python\\Python311\\Lib\\site-packages\\pandas\\core\\generic.py:3902\u001b[0m, in \u001b[0;36mNDFrame.to_csv\u001b[1;34m(self, path_or_buf, sep, na_rep, float_format, columns, header, index, index_label, mode, encoding, compression, quoting, quotechar, lineterminator, chunksize, date_format, doublequote, escapechar, decimal, errors, storage_options)\u001b[0m\n\u001b[0;32m   3891\u001b[0m df \u001b[39m=\u001b[39m \u001b[39mself\u001b[39m \u001b[39mif\u001b[39;00m \u001b[39misinstance\u001b[39m(\u001b[39mself\u001b[39m, ABCDataFrame) \u001b[39melse\u001b[39;00m \u001b[39mself\u001b[39m\u001b[39m.\u001b[39mto_frame()\n\u001b[0;32m   3893\u001b[0m formatter \u001b[39m=\u001b[39m DataFrameFormatter(\n\u001b[0;32m   3894\u001b[0m     frame\u001b[39m=\u001b[39mdf,\n\u001b[0;32m   3895\u001b[0m     header\u001b[39m=\u001b[39mheader,\n\u001b[1;32m   (...)\u001b[0m\n\u001b[0;32m   3899\u001b[0m     decimal\u001b[39m=\u001b[39mdecimal,\n\u001b[0;32m   3900\u001b[0m )\n\u001b[1;32m-> 3902\u001b[0m \u001b[39mreturn\u001b[39;00m DataFrameRenderer(formatter)\u001b[39m.\u001b[39;49mto_csv(\n\u001b[0;32m   3903\u001b[0m     path_or_buf,\n\u001b[0;32m   3904\u001b[0m     lineterminator\u001b[39m=\u001b[39;49mlineterminator,\n\u001b[0;32m   3905\u001b[0m     sep\u001b[39m=\u001b[39;49msep,\n\u001b[0;32m   3906\u001b[0m     encoding\u001b[39m=\u001b[39;49mencoding,\n\u001b[0;32m   3907\u001b[0m     errors\u001b[39m=\u001b[39;49merrors,\n\u001b[0;32m   3908\u001b[0m     compression\u001b[39m=\u001b[39;49mcompression,\n\u001b[0;32m   3909\u001b[0m     quoting\u001b[39m=\u001b[39;49mquoting,\n\u001b[0;32m   3910\u001b[0m     columns\u001b[39m=\u001b[39;49mcolumns,\n\u001b[0;32m   3911\u001b[0m     index_label\u001b[39m=\u001b[39;49mindex_label,\n\u001b[0;32m   3912\u001b[0m     mode\u001b[39m=\u001b[39;49mmode,\n\u001b[0;32m   3913\u001b[0m     chunksize\u001b[39m=\u001b[39;49mchunksize,\n\u001b[0;32m   3914\u001b[0m     quotechar\u001b[39m=\u001b[39;49mquotechar,\n\u001b[0;32m   3915\u001b[0m     date_format\u001b[39m=\u001b[39;49mdate_format,\n\u001b[0;32m   3916\u001b[0m     doublequote\u001b[39m=\u001b[39;49mdoublequote,\n\u001b[0;32m   3917\u001b[0m     escapechar\u001b[39m=\u001b[39;49mescapechar,\n\u001b[0;32m   3918\u001b[0m     storage_options\u001b[39m=\u001b[39;49mstorage_options,\n\u001b[0;32m   3919\u001b[0m )\n",
      "File \u001b[1;32mc:\\Users\\Nicola\\AppData\\Local\\Programs\\Python\\Python311\\Lib\\site-packages\\pandas\\io\\formats\\format.py:1152\u001b[0m, in \u001b[0;36mDataFrameRenderer.to_csv\u001b[1;34m(self, path_or_buf, encoding, sep, columns, index_label, mode, compression, quoting, quotechar, lineterminator, chunksize, date_format, doublequote, escapechar, errors, storage_options)\u001b[0m\n\u001b[0;32m   1131\u001b[0m     created_buffer \u001b[39m=\u001b[39m \u001b[39mFalse\u001b[39;00m\n\u001b[0;32m   1133\u001b[0m csv_formatter \u001b[39m=\u001b[39m CSVFormatter(\n\u001b[0;32m   1134\u001b[0m     path_or_buf\u001b[39m=\u001b[39mpath_or_buf,\n\u001b[0;32m   1135\u001b[0m     lineterminator\u001b[39m=\u001b[39mlineterminator,\n\u001b[1;32m   (...)\u001b[0m\n\u001b[0;32m   1150\u001b[0m     formatter\u001b[39m=\u001b[39m\u001b[39mself\u001b[39m\u001b[39m.\u001b[39mfmt,\n\u001b[0;32m   1151\u001b[0m )\n\u001b[1;32m-> 1152\u001b[0m csv_formatter\u001b[39m.\u001b[39;49msave()\n\u001b[0;32m   1154\u001b[0m \u001b[39mif\u001b[39;00m created_buffer:\n\u001b[0;32m   1155\u001b[0m     \u001b[39massert\u001b[39;00m \u001b[39misinstance\u001b[39m(path_or_buf, StringIO)\n",
      "File \u001b[1;32mc:\\Users\\Nicola\\AppData\\Local\\Programs\\Python\\Python311\\Lib\\site-packages\\pandas\\io\\formats\\csvs.py:247\u001b[0m, in \u001b[0;36mCSVFormatter.save\u001b[1;34m(self)\u001b[0m\n\u001b[0;32m    243\u001b[0m \u001b[39m\u001b[39m\u001b[39m\"\"\"\u001b[39;00m\n\u001b[0;32m    244\u001b[0m \u001b[39mCreate the writer & save.\u001b[39;00m\n\u001b[0;32m    245\u001b[0m \u001b[39m\"\"\"\u001b[39;00m\n\u001b[0;32m    246\u001b[0m \u001b[39m# apply compression and byte/text conversion\u001b[39;00m\n\u001b[1;32m--> 247\u001b[0m \u001b[39mwith\u001b[39;00m get_handle(\n\u001b[0;32m    248\u001b[0m     \u001b[39mself\u001b[39;49m\u001b[39m.\u001b[39;49mfilepath_or_buffer,\n\u001b[0;32m    249\u001b[0m     \u001b[39mself\u001b[39;49m\u001b[39m.\u001b[39;49mmode,\n\u001b[0;32m    250\u001b[0m     encoding\u001b[39m=\u001b[39;49m\u001b[39mself\u001b[39;49m\u001b[39m.\u001b[39;49mencoding,\n\u001b[0;32m    251\u001b[0m     errors\u001b[39m=\u001b[39;49m\u001b[39mself\u001b[39;49m\u001b[39m.\u001b[39;49merrors,\n\u001b[0;32m    252\u001b[0m     compression\u001b[39m=\u001b[39;49m\u001b[39mself\u001b[39;49m\u001b[39m.\u001b[39;49mcompression,\n\u001b[0;32m    253\u001b[0m     storage_options\u001b[39m=\u001b[39;49m\u001b[39mself\u001b[39;49m\u001b[39m.\u001b[39;49mstorage_options,\n\u001b[0;32m    254\u001b[0m ) \u001b[39mas\u001b[39;00m handles:\n\u001b[0;32m    255\u001b[0m     \u001b[39m# Note: self.encoding is irrelevant here\u001b[39;00m\n\u001b[0;32m    256\u001b[0m     \u001b[39mself\u001b[39m\u001b[39m.\u001b[39mwriter \u001b[39m=\u001b[39m csvlib\u001b[39m.\u001b[39mwriter(\n\u001b[0;32m    257\u001b[0m         handles\u001b[39m.\u001b[39mhandle,\n\u001b[0;32m    258\u001b[0m         lineterminator\u001b[39m=\u001b[39m\u001b[39mself\u001b[39m\u001b[39m.\u001b[39mlineterminator,\n\u001b[1;32m   (...)\u001b[0m\n\u001b[0;32m    263\u001b[0m         quotechar\u001b[39m=\u001b[39m\u001b[39mself\u001b[39m\u001b[39m.\u001b[39mquotechar,\n\u001b[0;32m    264\u001b[0m     )\n\u001b[0;32m    266\u001b[0m     \u001b[39mself\u001b[39m\u001b[39m.\u001b[39m_save()\n",
      "File \u001b[1;32mc:\\Users\\Nicola\\AppData\\Local\\Programs\\Python\\Python311\\Lib\\site-packages\\pandas\\io\\common.py:863\u001b[0m, in \u001b[0;36mget_handle\u001b[1;34m(path_or_buf, mode, encoding, compression, memory_map, is_text, errors, storage_options)\u001b[0m\n\u001b[0;32m    858\u001b[0m \u001b[39melif\u001b[39;00m \u001b[39misinstance\u001b[39m(handle, \u001b[39mstr\u001b[39m):\n\u001b[0;32m    859\u001b[0m     \u001b[39m# Check whether the filename is to be opened in binary mode.\u001b[39;00m\n\u001b[0;32m    860\u001b[0m     \u001b[39m# Binary mode does not support 'encoding' and 'newline'.\u001b[39;00m\n\u001b[0;32m    861\u001b[0m     \u001b[39mif\u001b[39;00m ioargs\u001b[39m.\u001b[39mencoding \u001b[39mand\u001b[39;00m \u001b[39m\"\u001b[39m\u001b[39mb\u001b[39m\u001b[39m\"\u001b[39m \u001b[39mnot\u001b[39;00m \u001b[39min\u001b[39;00m ioargs\u001b[39m.\u001b[39mmode:\n\u001b[0;32m    862\u001b[0m         \u001b[39m# Encoding\u001b[39;00m\n\u001b[1;32m--> 863\u001b[0m         handle \u001b[39m=\u001b[39m \u001b[39mopen\u001b[39;49m(\n\u001b[0;32m    864\u001b[0m             handle,\n\u001b[0;32m    865\u001b[0m             ioargs\u001b[39m.\u001b[39;49mmode,\n\u001b[0;32m    866\u001b[0m             encoding\u001b[39m=\u001b[39;49mioargs\u001b[39m.\u001b[39;49mencoding,\n\u001b[0;32m    867\u001b[0m             errors\u001b[39m=\u001b[39;49merrors,\n\u001b[0;32m    868\u001b[0m             newline\u001b[39m=\u001b[39;49m\u001b[39m\"\u001b[39;49m\u001b[39m\"\u001b[39;49m,\n\u001b[0;32m    869\u001b[0m         )\n\u001b[0;32m    870\u001b[0m     \u001b[39melse\u001b[39;00m:\n\u001b[0;32m    871\u001b[0m         \u001b[39m# Binary mode\u001b[39;00m\n\u001b[0;32m    872\u001b[0m         handle \u001b[39m=\u001b[39m \u001b[39mopen\u001b[39m(handle, ioargs\u001b[39m.\u001b[39mmode)\n",
      "\u001b[1;31mPermissionError\u001b[0m: [Errno 13] Permission denied: 'C:\\\\Users\\\\Nicola\\\\OneDrive\\\\Bureau\\\\Projets Python'"
     ]
    }
   ],
   "source": [
    "Data_concert_hall.to_csv(r\"C:\\Users\\Nicola\\OneDrive\\Bureau\\Projets Python\\Python for datascience 25.11.2023\\Python_2A\\Salles_de_concert_Paris\",index=False)"
   ]
  },
  {
   "cell_type": "code",
   "execution_count": null,
   "metadata": {},
   "outputs": [],
   "source": []
  }
 ],
 "metadata": {
  "kernelspec": {
   "display_name": "Python 3 (ipykernel)",
   "language": "python",
   "name": "python3"
  },
  "language_info": {
   "codemirror_mode": {
    "name": "ipython",
    "version": 3
   },
   "file_extension": ".py",
   "mimetype": "text/x-python",
   "name": "python",
   "nbconvert_exporter": "python",
   "pygments_lexer": "ipython3",
   "version": "3.11.5"
  }
 },
 "nbformat": 4,
 "nbformat_minor": 5
}
