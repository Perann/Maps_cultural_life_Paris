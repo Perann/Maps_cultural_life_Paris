{
 "cells": [
  {
   "cell_type": "code",
   "execution_count": 2,
   "metadata": {},
   "outputs": [
    {
     "name": "stdout",
     "output_type": "stream",
     "text": [
      "Requirement already satisfied: beautifulsoup4 in c:\\users\\nicola\\appdata\\local\\programs\\python\\python311\\lib\\site-packages (4.12.2)\n",
      "Requirement already satisfied: soupsieve>1.2 in c:\\users\\nicola\\appdata\\local\\programs\\python\\python311\\lib\\site-packages (from beautifulsoup4) (2.5)\n",
      "Note: you may need to restart the kernel to use updated packages.\n"
     ]
    }
   ],
   "source": [
    "pip install beautifulsoup4"
   ]
  },
  {
   "cell_type": "code",
   "execution_count": 3,
   "metadata": {},
   "outputs": [
    {
     "name": "stdout",
     "output_type": "stream",
     "text": [
      "Requirement already satisfied: pip in c:\\users\\nicola\\appdata\\local\\programs\\python\\python311\\lib\\site-packages (23.3.1)\n",
      "Note: you may need to restart the kernel to use updated packages.\n"
     ]
    }
   ],
   "source": [
    "pip install --upgrade pip"
   ]
  },
  {
   "cell_type": "code",
   "execution_count": 4,
   "metadata": {},
   "outputs": [
    {
     "name": "stdout",
     "output_type": "stream",
     "text": [
      "Requirement already satisfied: numpy in c:\\users\\nicola\\appdata\\local\\programs\\python\\python311\\lib\\site-packages (1.26.2)\n",
      "Note: you may need to restart the kernel to use updated packages.\n"
     ]
    }
   ],
   "source": [
    "pip install numpy"
   ]
  },
  {
   "cell_type": "code",
   "execution_count": 5,
   "metadata": {},
   "outputs": [
    {
     "name": "stdout",
     "output_type": "stream",
     "text": [
      "Requirement already satisfied: pandas in c:\\users\\nicola\\appdata\\local\\programs\\python\\python311\\lib\\site-packages (2.1.3)\n",
      "Requirement already satisfied: numpy<2,>=1.23.2 in c:\\users\\nicola\\appdata\\local\\programs\\python\\python311\\lib\\site-packages (from pandas) (1.26.2)\n",
      "Requirement already satisfied: python-dateutil>=2.8.2 in c:\\users\\nicola\\appdata\\roaming\\python\\python311\\site-packages (from pandas) (2.8.2)\n",
      "Requirement already satisfied: pytz>=2020.1 in c:\\users\\nicola\\appdata\\local\\programs\\python\\python311\\lib\\site-packages (from pandas) (2023.3.post1)\n",
      "Requirement already satisfied: tzdata>=2022.1 in c:\\users\\nicola\\appdata\\local\\programs\\python\\python311\\lib\\site-packages (from pandas) (2023.3)\n",
      "Requirement already satisfied: six>=1.5 in c:\\users\\nicola\\appdata\\roaming\\python\\python311\\site-packages (from python-dateutil>=2.8.2->pandas) (1.16.0)\n",
      "Note: you may need to restart the kernel to use updated packages.\n"
     ]
    }
   ],
   "source": [
    "pip install pandas"
   ]
  },
  {
   "cell_type": "code",
   "execution_count": 6,
   "id": "9f693007-a99f-420b-9d45-e7a9eb222307",
   "metadata": {},
   "outputs": [
    {
     "name": "stdout",
     "output_type": "stream",
     "text": [
      "Note: you may need to restart the kernel to use updated packages.\n"
     ]
    }
   ],
   "source": [
    "%pip install -q lxml\n",
    "\n",
    "\n",
    "import bs4\n",
    "import lxml\n",
    "import pandas as pd\n",
    "import urllib\n",
    "\n",
    "from urllib import request"
   ]
  },
  {
   "cell_type": "code",
   "execution_count": 7,
   "id": "34b4830d-73aa-4bde-9db1-e98a8b798543",
   "metadata": {},
   "outputs": [],
   "source": [
    "url_salles_de_concert = 'https://www.offi.fr/concerts/salles-de-concert-paris.html'  ## URL of the stripped page\n",
    "request_text = request.urlopen(url_salles_de_concert).read()   ## opens the URL"
   ]
  },
  {
   "cell_type": "code",
   "execution_count": 8,
   "id": "43aa39fc-ba84-43d9-b0ff-079e1e39a97d",
   "metadata": {
    "scrolled": true
   },
   "outputs": [],
   "source": [
    "page = bs4.BeautifulSoup(request_text, \"lxml\") ## We get a usable html text"
   ]
  },
  {
   "cell_type": "code",
   "execution_count": 9,
   "id": "2536ec6d-fbf6-4497-b9d1-aeb7e97196ce",
   "metadata": {},
   "outputs": [
    {
     "name": "stdout",
     "output_type": "stream",
     "text": [
      "<title>Salles de concert à Paris • L'Officiel des spectacles</title>\n"
     ]
    }
   ],
   "source": [
    "print(page.find(\"title\"))"
   ]
  },
  {
   "cell_type": "code",
   "execution_count": 10,
   "metadata": {},
   "outputs": [],
   "source": [
    "table_concert_hall = page.find('table',{'class' : 'tableau-liste'}) ## accessing the table we want to scrap"
   ]
  },
  {
   "cell_type": "code",
   "execution_count": 11,
   "metadata": {},
   "outputs": [
    {
     "data": {
      "text/plain": [
       "bs4.element.Tag"
      ]
     },
     "execution_count": 11,
     "metadata": {},
     "output_type": "execute_result"
    }
   ],
   "source": [
    "type(table_concert_hall)"
   ]
  },
  {
   "cell_type": "code",
   "execution_count": 12,
   "metadata": {},
   "outputs": [],
   "source": [
    "table_body = table_concert_hall.find_all('tbody')[1] ## accessing the body of the table (there is another tbody before thee one we want to access hence the find_all)"
   ]
  },
  {
   "cell_type": "code",
   "execution_count": 13,
   "metadata": {},
   "outputs": [
    {
     "data": {
      "text/plain": [
       "bs4.element.Tag"
      ]
     },
     "execution_count": 13,
     "metadata": {},
     "output_type": "execute_result"
    }
   ],
   "source": [
    "type(table_body)"
   ]
  },
  {
   "cell_type": "code",
   "execution_count": 14,
   "metadata": {},
   "outputs": [],
   "source": [
    "table_rows = table_body.find_all('tr')  ## creates a list containing all the lines "
   ]
  },
  {
   "cell_type": "code",
   "execution_count": 15,
   "metadata": {},
   "outputs": [
    {
     "data": {
      "text/plain": [
       "bs4.element.ResultSet"
      ]
     },
     "execution_count": 15,
     "metadata": {},
     "output_type": "execute_result"
    }
   ],
   "source": [
    "type(table_rows)"
   ]
  },
  {
   "cell_type": "code",
   "execution_count": 16,
   "metadata": {},
   "outputs": [],
   "source": [
    "table_col = table_rows[0].findAll('td') ## creates a list with all the cells from the first row"
   ]
  },
  {
   "cell_type": "code",
   "execution_count": null,
   "metadata": {},
   "outputs": [],
   "source": []
  },
  {
   "cell_type": "code",
   "execution_count": 17,
   "metadata": {},
   "outputs": [
    {
     "data": {
      "text/html": [
       "<div>\n",
       "<style scoped>\n",
       "    .dataframe tbody tr th:only-of-type {\n",
       "        vertical-align: middle;\n",
       "    }\n",
       "\n",
       "    .dataframe tbody tr th {\n",
       "        vertical-align: top;\n",
       "    }\n",
       "\n",
       "    .dataframe thead th {\n",
       "        text-align: right;\n",
       "    }\n",
       "</style>\n",
       "<table border=\"1\" class=\"dataframe\">\n",
       "  <thead>\n",
       "    <tr style=\"text-align: right;\">\n",
       "      <th></th>\n",
       "      <th>0</th>\n",
       "      <th>1</th>\n",
       "      <th>2</th>\n",
       "    </tr>\n",
       "  </thead>\n",
       "  <tbody>\n",
       "    <tr>\n",
       "      <th>360 Paris Music Factory</th>\n",
       "      <td>Paris 18e</td>\n",
       "      <td>Musiques du monde, musiques urbaines et actuelles</td>\n",
       "      <td>300</td>\n",
       "    </tr>\n",
       "    <tr>\n",
       "      <th>Accor Arena</th>\n",
       "      <td>Paris 12e</td>\n",
       "      <td>Pop rock, artistes populaires</td>\n",
       "      <td>20 300</td>\n",
       "    </tr>\n",
       "    <tr>\n",
       "      <th>Alhambra</th>\n",
       "      <td>Paris 10e</td>\n",
       "      <td>Musiques actuelles : soul, rock, chanson, élec...</td>\n",
       "      <td>500</td>\n",
       "    </tr>\n",
       "    <tr>\n",
       "      <th>Alimentation Générale</th>\n",
       "      <td>Paris 11e</td>\n",
       "      <td>Musiques actuelles : rock, électro, funk... + ...</td>\n",
       "      <td>500</td>\n",
       "    </tr>\n",
       "    <tr>\n",
       "      <th>Au Limonaire</th>\n",
       "      <td>Paris 9e</td>\n",
       "      <td>Chanson</td>\n",
       "      <td>nc</td>\n",
       "    </tr>\n",
       "  </tbody>\n",
       "</table>\n",
       "</div>"
      ],
      "text/plain": [
       "                                 0  \\\n",
       "360 Paris Music Factory  Paris 18e   \n",
       "Accor Arena              Paris 12e   \n",
       "Alhambra                 Paris 10e   \n",
       "Alimentation Générale    Paris 11e   \n",
       "Au Limonaire              Paris 9e   \n",
       "\n",
       "                                                                         1  \\\n",
       "360 Paris Music Factory  Musiques du monde, musiques urbaines et actuelles   \n",
       "Accor Arena                                  Pop rock, artistes populaires   \n",
       "Alhambra                 Musiques actuelles : soul, rock, chanson, élec...   \n",
       "Alimentation Générale    Musiques actuelles : rock, électro, funk... + ...   \n",
       "Au Limonaire                                                       Chanson   \n",
       "\n",
       "                              2  \n",
       "360 Paris Music Factory     300  \n",
       "Accor Arena              20 300  \n",
       "Alhambra                    500  \n",
       "Alimentation Générale       500  \n",
       "Au Limonaire                 nc  "
      ]
     },
     "execution_count": 17,
     "metadata": {},
     "output_type": "execute_result"
    }
   ],
   "source": [
    "Dict = {}\n",
    "\n",
    "for row in table_rows:\n",
    "    table_col = row.findAll('td')\n",
    "    table_col = [cell.text.strip() for cell in table_col]\n",
    "    Dict[table_col[0]] = table_col[1:]\n",
    "\n",
    "Data_concert_hall = pd.DataFrame.from_dict(Dict,orient='index')\n",
    "Data_concert_hall.head()\n",
    "\n",
    "\n"
   ]
  },
  {
   "cell_type": "code",
   "execution_count": 29,
   "metadata": {},
   "outputs": [
    {
     "data": {
      "text/html": [
       "<div>\n",
       "<style scoped>\n",
       "    .dataframe tbody tr th:only-of-type {\n",
       "        vertical-align: middle;\n",
       "    }\n",
       "\n",
       "    .dataframe tbody tr th {\n",
       "        vertical-align: top;\n",
       "    }\n",
       "\n",
       "    .dataframe thead th {\n",
       "        text-align: right;\n",
       "    }\n",
       "</style>\n",
       "<table border=\"1\" class=\"dataframe\">\n",
       "  <thead>\n",
       "    <tr style=\"text-align: right;\">\n",
       "      <th></th>\n",
       "      <th>0</th>\n",
       "      <th>1</th>\n",
       "      <th>2</th>\n",
       "    </tr>\n",
       "  </thead>\n",
       "  <tbody>\n",
       "    <tr>\n",
       "      <th>360 Paris Music Factory</th>\n",
       "      <td>Paris 18e</td>\n",
       "      <td>Musiques du monde, musiques urbaines et actuelles</td>\n",
       "      <td>300</td>\n",
       "    </tr>\n",
       "    <tr>\n",
       "      <th>Accor Arena</th>\n",
       "      <td>Paris 12e</td>\n",
       "      <td>Pop rock, artistes populaires</td>\n",
       "      <td>20 300</td>\n",
       "    </tr>\n",
       "    <tr>\n",
       "      <th>Alhambra</th>\n",
       "      <td>Paris 10e</td>\n",
       "      <td>Musiques actuelles : soul, rock, chanson, élec...</td>\n",
       "      <td>500</td>\n",
       "    </tr>\n",
       "    <tr>\n",
       "      <th>Alimentation Générale</th>\n",
       "      <td>Paris 11e</td>\n",
       "      <td>Musiques actuelles : rock, électro, funk... + ...</td>\n",
       "      <td>500</td>\n",
       "    </tr>\n",
       "    <tr>\n",
       "      <th>Au Limonaire</th>\n",
       "      <td>Paris 9e</td>\n",
       "      <td>Chanson</td>\n",
       "      <td>nc</td>\n",
       "    </tr>\n",
       "  </tbody>\n",
       "</table>\n",
       "</div>"
      ],
      "text/plain": [
       "                                 0  \\\n",
       "360 Paris Music Factory  Paris 18e   \n",
       "Accor Arena              Paris 12e   \n",
       "Alhambra                 Paris 10e   \n",
       "Alimentation Générale    Paris 11e   \n",
       "Au Limonaire              Paris 9e   \n",
       "\n",
       "                                                                         1  \\\n",
       "360 Paris Music Factory  Musiques du monde, musiques urbaines et actuelles   \n",
       "Accor Arena                                  Pop rock, artistes populaires   \n",
       "Alhambra                 Musiques actuelles : soul, rock, chanson, élec...   \n",
       "Alimentation Générale    Musiques actuelles : rock, électro, funk... + ...   \n",
       "Au Limonaire                                                       Chanson   \n",
       "\n",
       "                              2  \n",
       "360 Paris Music Factory     300  \n",
       "Accor Arena              20 300  \n",
       "Alhambra                    500  \n",
       "Alimentation Générale       500  \n",
       "Au Limonaire                 nc  "
      ]
     },
     "execution_count": 29,
     "metadata": {},
     "output_type": "execute_result"
    }
   ],
   "source": [
    "Data_concert_hall_V2 = pd.DataFrame(Dict)\n",
    "Data_concert_hall_V2 = Data_concert_hall_V2.T\n",
    "Data_concert_hall_V2.head()"
   ]
  },
  {
   "cell_type": "code",
   "execution_count": 19,
   "metadata": {},
   "outputs": [
    {
     "data": {
      "text/plain": [
       "['Salle de concert', 'Lieu', 'Genre musical', 'Jauge']"
      ]
     },
     "execution_count": 19,
     "metadata": {},
     "output_type": "execute_result"
    }
   ],
   "source": [
    "titles = []\n",
    "table_titles = table_concert_hall.find('tbody')\n",
    "cols = table_titles.findAll('th') ## there is only one line here so we access directly to the columns \n",
    "for col in cols:\n",
    "    titles.append(col.text.strip())\n",
    "\n",
    "titles"
   ]
  },
  {
   "cell_type": "code",
   "execution_count": 20,
   "metadata": {},
   "outputs": [
    {
     "data": {
      "text/html": [
       "<div>\n",
       "<style scoped>\n",
       "    .dataframe tbody tr th:only-of-type {\n",
       "        vertical-align: middle;\n",
       "    }\n",
       "\n",
       "    .dataframe tbody tr th {\n",
       "        vertical-align: top;\n",
       "    }\n",
       "\n",
       "    .dataframe thead th {\n",
       "        text-align: right;\n",
       "    }\n",
       "</style>\n",
       "<table border=\"1\" class=\"dataframe\">\n",
       "  <thead>\n",
       "    <tr style=\"text-align: right;\">\n",
       "      <th></th>\n",
       "      <th>Lieu</th>\n",
       "      <th>Genre musical</th>\n",
       "      <th>Jauge</th>\n",
       "    </tr>\n",
       "  </thead>\n",
       "  <tbody>\n",
       "    <tr>\n",
       "      <th>360 Paris Music Factory</th>\n",
       "      <td>Paris 18e</td>\n",
       "      <td>Musiques du monde, musiques urbaines et actuelles</td>\n",
       "      <td>300</td>\n",
       "    </tr>\n",
       "    <tr>\n",
       "      <th>Accor Arena</th>\n",
       "      <td>Paris 12e</td>\n",
       "      <td>Pop rock, artistes populaires</td>\n",
       "      <td>20 300</td>\n",
       "    </tr>\n",
       "    <tr>\n",
       "      <th>Alhambra</th>\n",
       "      <td>Paris 10e</td>\n",
       "      <td>Musiques actuelles : soul, rock, chanson, élec...</td>\n",
       "      <td>500</td>\n",
       "    </tr>\n",
       "    <tr>\n",
       "      <th>Alimentation Générale</th>\n",
       "      <td>Paris 11e</td>\n",
       "      <td>Musiques actuelles : rock, électro, funk... + ...</td>\n",
       "      <td>500</td>\n",
       "    </tr>\n",
       "    <tr>\n",
       "      <th>Au Limonaire</th>\n",
       "      <td>Paris 9e</td>\n",
       "      <td>Chanson</td>\n",
       "      <td>nc</td>\n",
       "    </tr>\n",
       "  </tbody>\n",
       "</table>\n",
       "</div>"
      ],
      "text/plain": [
       "                              Lieu  \\\n",
       "360 Paris Music Factory  Paris 18e   \n",
       "Accor Arena              Paris 12e   \n",
       "Alhambra                 Paris 10e   \n",
       "Alimentation Générale    Paris 11e   \n",
       "Au Limonaire              Paris 9e   \n",
       "\n",
       "                                                             Genre musical  \\\n",
       "360 Paris Music Factory  Musiques du monde, musiques urbaines et actuelles   \n",
       "Accor Arena                                  Pop rock, artistes populaires   \n",
       "Alhambra                 Musiques actuelles : soul, rock, chanson, élec...   \n",
       "Alimentation Générale    Musiques actuelles : rock, électro, funk... + ...   \n",
       "Au Limonaire                                                       Chanson   \n",
       "\n",
       "                          Jauge  \n",
       "360 Paris Music Factory     300  \n",
       "Accor Arena              20 300  \n",
       "Alhambra                    500  \n",
       "Alimentation Générale       500  \n",
       "Au Limonaire                 nc  "
      ]
     },
     "execution_count": 20,
     "metadata": {},
     "output_type": "execute_result"
    }
   ],
   "source": [
    "Data_concert_hall.columns = titles[1:]\n",
    "Data_concert_hall.head()"
   ]
  },
  {
   "cell_type": "code",
   "execution_count": 26,
   "metadata": {},
   "outputs": [],
   "source": [
    "Data_concert_hall.to_csv(r\"C:\\Users\\Nicola\\OneDrive\\Bureau\\Projets Python\\Python for datascience 25.11.2023\\Python_2A\\Salles_de_concert_Paris\\database_concert_hall.csv\")"
   ]
  },
  {
   "cell_type": "code",
   "execution_count": null,
   "metadata": {},
   "outputs": [],
   "source": [
    "Adresses = []\n"
   ]
  },
  {
   "cell_type": "code",
   "execution_count": null,
   "metadata": {},
   "outputs": [],
   "source": []
  },
  {
   "cell_type": "code",
   "execution_count": null,
   "metadata": {},
   "outputs": [],
   "source": []
  },
  {
   "cell_type": "code",
   "execution_count": null,
   "metadata": {},
   "outputs": [],
   "source": []
  },
  {
   "cell_type": "code",
   "execution_count": null,
   "metadata": {},
   "outputs": [],
   "source": []
  },
  {
   "cell_type": "code",
   "execution_count": null,
   "metadata": {},
   "outputs": [],
   "source": []
  },
  {
   "cell_type": "code",
   "execution_count": null,
   "metadata": {},
   "outputs": [],
   "source": []
  }
 ],
 "metadata": {
  "kernelspec": {
   "display_name": "Python 3 (ipykernel)",
   "language": "python",
   "name": "python3"
  },
  "language_info": {
   "codemirror_mode": {
    "name": "ipython",
    "version": 3
   },
   "file_extension": ".py",
   "mimetype": "text/x-python",
   "name": "python",
   "nbconvert_exporter": "python",
   "pygments_lexer": "ipython3",
   "version": "3.11.5"
  }
 },
 "nbformat": 4,
 "nbformat_minor": 5
}
