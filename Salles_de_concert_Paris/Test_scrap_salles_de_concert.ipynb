{
 "cells": [
  {
   "cell_type": "code",
   "execution_count": 2,
   "metadata": {},
   "outputs": [
    {
     "name": "stdout",
     "output_type": "stream",
     "text": [
      "Requirement already satisfied: beautifulsoup4 in c:\\users\\nicola\\appdata\\local\\programs\\python\\python311\\lib\\site-packages (4.12.2)\n",
      "Requirement already satisfied: soupsieve>1.2 in c:\\users\\nicola\\appdata\\local\\programs\\python\\python311\\lib\\site-packages (from beautifulsoup4) (2.5)\n",
      "Note: you may need to restart the kernel to use updated packages.\n"
     ]
    }
   ],
   "source": [
    "pip install beautifulsoup4"
   ]
  },
  {
   "cell_type": "code",
   "execution_count": 3,
   "metadata": {},
   "outputs": [
    {
     "name": "stdout",
     "output_type": "stream",
     "text": [
      "Requirement already satisfied: pip in c:\\users\\nicola\\appdata\\local\\programs\\python\\python311\\lib\\site-packages (23.3.1)\n",
      "Note: you may need to restart the kernel to use updated packages.\n"
     ]
    }
   ],
   "source": [
    "pip install --upgrade pip"
   ]
  },
  {
   "cell_type": "code",
   "execution_count": 4,
   "metadata": {},
   "outputs": [
    {
     "name": "stdout",
     "output_type": "stream",
     "text": [
      "Requirement already satisfied: numpy in c:\\users\\nicola\\appdata\\local\\programs\\python\\python311\\lib\\site-packages (1.26.2)\n",
      "Note: you may need to restart the kernel to use updated packages.\n"
     ]
    }
   ],
   "source": [
    "pip install numpy"
   ]
  },
  {
   "cell_type": "code",
   "execution_count": 5,
   "metadata": {},
   "outputs": [
    {
     "name": "stdout",
     "output_type": "stream",
     "text": [
      "Requirement already satisfied: pandas in c:\\users\\nicola\\appdata\\local\\programs\\python\\python311\\lib\\site-packages (2.1.3)\n",
      "Requirement already satisfied: numpy<2,>=1.23.2 in c:\\users\\nicola\\appdata\\local\\programs\\python\\python311\\lib\\site-packages (from pandas) (1.26.2)\n",
      "Requirement already satisfied: python-dateutil>=2.8.2 in c:\\users\\nicola\\appdata\\roaming\\python\\python311\\site-packages (from pandas) (2.8.2)\n",
      "Requirement already satisfied: pytz>=2020.1 in c:\\users\\nicola\\appdata\\local\\programs\\python\\python311\\lib\\site-packages (from pandas) (2023.3.post1)\n",
      "Requirement already satisfied: tzdata>=2022.1 in c:\\users\\nicola\\appdata\\local\\programs\\python\\python311\\lib\\site-packages (from pandas) (2023.3)\n",
      "Requirement already satisfied: six>=1.5 in c:\\users\\nicola\\appdata\\roaming\\python\\python311\\site-packages (from python-dateutil>=2.8.2->pandas) (1.16.0)\n",
      "Note: you may need to restart the kernel to use updated packages.\n"
     ]
    }
   ],
   "source": [
    "pip install pandas"
   ]
  },
  {
   "cell_type": "code",
   "execution_count": 1,
   "id": "9f693007-a99f-420b-9d45-e7a9eb222307",
   "metadata": {},
   "outputs": [
    {
     "name": "stdout",
     "output_type": "stream",
     "text": [
      "Note: you may need to restart the kernel to use updated packages.\n"
     ]
    }
   ],
   "source": [
    "%pip install -q lxml\n",
    "\n",
    "\n",
    "import bs4\n",
    "import lxml\n",
    "import pandas as pd\n",
    "import urllib\n",
    "\n",
    "from urllib import request"
   ]
  },
  {
   "cell_type": "code",
   "execution_count": 2,
   "id": "34b4830d-73aa-4bde-9db1-e98a8b798543",
   "metadata": {},
   "outputs": [],
   "source": [
    "url_salles_de_concert = 'https://www.offi.fr/concerts/salles-de-concert-paris.html'  ## URL of the stripped page\n",
    "request_text = request.urlopen(url_salles_de_concert).read()   ## opens the URL"
   ]
  },
  {
   "cell_type": "code",
   "execution_count": 3,
   "id": "43aa39fc-ba84-43d9-b0ff-079e1e39a97d",
   "metadata": {
    "scrolled": true
   },
   "outputs": [],
   "source": [
    "page = bs4.BeautifulSoup(request_text, \"lxml\") ## We get a usable html text"
   ]
  },
  {
   "cell_type": "code",
   "execution_count": 4,
   "id": "2536ec6d-fbf6-4497-b9d1-aeb7e97196ce",
   "metadata": {},
   "outputs": [
    {
     "name": "stdout",
     "output_type": "stream",
     "text": [
      "<title>Salles de concert à Paris • L'Officiel des spectacles</title>\n"
     ]
    }
   ],
   "source": [
    "print(page.find(\"title\"))"
   ]
  },
  {
   "cell_type": "code",
   "execution_count": 5,
   "metadata": {},
   "outputs": [],
   "source": [
    "table_concert_hall = page.find('table',{'class' : 'tableau-liste'}) ## accessing the table we want to scrap"
   ]
  },
  {
   "cell_type": "code",
   "execution_count": 6,
   "metadata": {},
   "outputs": [
    {
     "data": {
      "text/plain": [
       "bs4.element.Tag"
      ]
     },
     "execution_count": 6,
     "metadata": {},
     "output_type": "execute_result"
    }
   ],
   "source": [
    "type(table_concert_hall)"
   ]
  },
  {
   "cell_type": "code",
   "execution_count": 7,
   "metadata": {},
   "outputs": [],
   "source": [
    "table_body = table_concert_hall.find_all('tbody')[1] ## accessing the body of the table (there is another tbody before thee one we want to access hence the find_all)"
   ]
  },
  {
   "cell_type": "code",
   "execution_count": 8,
   "metadata": {},
   "outputs": [
    {
     "data": {
      "text/plain": [
       "bs4.element.Tag"
      ]
     },
     "execution_count": 8,
     "metadata": {},
     "output_type": "execute_result"
    }
   ],
   "source": [
    "type(table_body)"
   ]
  },
  {
   "cell_type": "code",
   "execution_count": 9,
   "metadata": {},
   "outputs": [],
   "source": [
    "table_rows = table_body.find_all('tr')  ## creates a list containing all the lines "
   ]
  },
  {
   "cell_type": "code",
   "execution_count": 10,
   "metadata": {},
   "outputs": [
    {
     "data": {
      "text/plain": [
       "bs4.element.ResultSet"
      ]
     },
     "execution_count": 10,
     "metadata": {},
     "output_type": "execute_result"
    }
   ],
   "source": [
    "type(table_rows)"
   ]
  },
  {
   "cell_type": "code",
   "execution_count": 11,
   "metadata": {},
   "outputs": [],
   "source": [
    "table_col = table_rows[0].findAll('td') ## creates a list with all the cells from the first row"
   ]
  },
  {
   "cell_type": "code",
   "execution_count": null,
   "metadata": {},
   "outputs": [],
   "source": []
  },
  {
   "cell_type": "code",
   "execution_count": 12,
   "metadata": {},
   "outputs": [
    {
     "data": {
      "text/html": [
       "<div>\n",
       "<style scoped>\n",
       "    .dataframe tbody tr th:only-of-type {\n",
       "        vertical-align: middle;\n",
       "    }\n",
       "\n",
       "    .dataframe tbody tr th {\n",
       "        vertical-align: top;\n",
       "    }\n",
       "\n",
       "    .dataframe thead th {\n",
       "        text-align: right;\n",
       "    }\n",
       "</style>\n",
       "<table border=\"1\" class=\"dataframe\">\n",
       "  <thead>\n",
       "    <tr style=\"text-align: right;\">\n",
       "      <th></th>\n",
       "      <th>0</th>\n",
       "      <th>1</th>\n",
       "      <th>2</th>\n",
       "    </tr>\n",
       "  </thead>\n",
       "  <tbody>\n",
       "    <tr>\n",
       "      <th>360 Paris Music Factory</th>\n",
       "      <td>Paris 18e</td>\n",
       "      <td>Musiques du monde, musiques urbaines et actuelles</td>\n",
       "      <td>300</td>\n",
       "    </tr>\n",
       "    <tr>\n",
       "      <th>Accor Arena</th>\n",
       "      <td>Paris 12e</td>\n",
       "      <td>Pop rock, artistes populaires</td>\n",
       "      <td>20 300</td>\n",
       "    </tr>\n",
       "    <tr>\n",
       "      <th>Alhambra</th>\n",
       "      <td>Paris 10e</td>\n",
       "      <td>Musiques actuelles : soul, rock, chanson, élec...</td>\n",
       "      <td>500</td>\n",
       "    </tr>\n",
       "    <tr>\n",
       "      <th>Alimentation Générale</th>\n",
       "      <td>Paris 11e</td>\n",
       "      <td>Musiques actuelles : rock, électro, funk... + ...</td>\n",
       "      <td>500</td>\n",
       "    </tr>\n",
       "    <tr>\n",
       "      <th>Au Limonaire</th>\n",
       "      <td>Paris 9e</td>\n",
       "      <td>Chanson</td>\n",
       "      <td>nc</td>\n",
       "    </tr>\n",
       "  </tbody>\n",
       "</table>\n",
       "</div>"
      ],
      "text/plain": [
       "                                 0  \\\n",
       "360 Paris Music Factory  Paris 18e   \n",
       "Accor Arena              Paris 12e   \n",
       "Alhambra                 Paris 10e   \n",
       "Alimentation Générale    Paris 11e   \n",
       "Au Limonaire              Paris 9e   \n",
       "\n",
       "                                                                         1  \\\n",
       "360 Paris Music Factory  Musiques du monde, musiques urbaines et actuelles   \n",
       "Accor Arena                                  Pop rock, artistes populaires   \n",
       "Alhambra                 Musiques actuelles : soul, rock, chanson, élec...   \n",
       "Alimentation Générale    Musiques actuelles : rock, électro, funk... + ...   \n",
       "Au Limonaire                                                       Chanson   \n",
       "\n",
       "                              2  \n",
       "360 Paris Music Factory     300  \n",
       "Accor Arena              20 300  \n",
       "Alhambra                    500  \n",
       "Alimentation Générale       500  \n",
       "Au Limonaire                 nc  "
      ]
     },
     "execution_count": 12,
     "metadata": {},
     "output_type": "execute_result"
    }
   ],
   "source": [
    "Dict = {}\n",
    "\n",
    "for row in table_rows:\n",
    "    table_col = row.findAll('td')\n",
    "    table_col = [cell.text.strip() for cell in table_col]\n",
    "    Dict[table_col[0]] = table_col[1:]\n",
    "\n",
    "Data_concert_hall = pd.DataFrame.from_dict(Dict,orient='index')\n",
    "Data_concert_hall.head()\n",
    "\n",
    "\n"
   ]
  },
  {
   "cell_type": "code",
   "execution_count": 13,
   "metadata": {},
   "outputs": [
    {
     "data": {
      "text/html": [
       "<div>\n",
       "<style scoped>\n",
       "    .dataframe tbody tr th:only-of-type {\n",
       "        vertical-align: middle;\n",
       "    }\n",
       "\n",
       "    .dataframe tbody tr th {\n",
       "        vertical-align: top;\n",
       "    }\n",
       "\n",
       "    .dataframe thead th {\n",
       "        text-align: right;\n",
       "    }\n",
       "</style>\n",
       "<table border=\"1\" class=\"dataframe\">\n",
       "  <thead>\n",
       "    <tr style=\"text-align: right;\">\n",
       "      <th></th>\n",
       "      <th>0</th>\n",
       "      <th>1</th>\n",
       "      <th>2</th>\n",
       "    </tr>\n",
       "  </thead>\n",
       "  <tbody>\n",
       "    <tr>\n",
       "      <th>360 Paris Music Factory</th>\n",
       "      <td>Paris 18e</td>\n",
       "      <td>Musiques du monde, musiques urbaines et actuelles</td>\n",
       "      <td>300</td>\n",
       "    </tr>\n",
       "    <tr>\n",
       "      <th>Accor Arena</th>\n",
       "      <td>Paris 12e</td>\n",
       "      <td>Pop rock, artistes populaires</td>\n",
       "      <td>20 300</td>\n",
       "    </tr>\n",
       "    <tr>\n",
       "      <th>Alhambra</th>\n",
       "      <td>Paris 10e</td>\n",
       "      <td>Musiques actuelles : soul, rock, chanson, élec...</td>\n",
       "      <td>500</td>\n",
       "    </tr>\n",
       "    <tr>\n",
       "      <th>Alimentation Générale</th>\n",
       "      <td>Paris 11e</td>\n",
       "      <td>Musiques actuelles : rock, électro, funk... + ...</td>\n",
       "      <td>500</td>\n",
       "    </tr>\n",
       "    <tr>\n",
       "      <th>Au Limonaire</th>\n",
       "      <td>Paris 9e</td>\n",
       "      <td>Chanson</td>\n",
       "      <td>nc</td>\n",
       "    </tr>\n",
       "  </tbody>\n",
       "</table>\n",
       "</div>"
      ],
      "text/plain": [
       "                                 0  \\\n",
       "360 Paris Music Factory  Paris 18e   \n",
       "Accor Arena              Paris 12e   \n",
       "Alhambra                 Paris 10e   \n",
       "Alimentation Générale    Paris 11e   \n",
       "Au Limonaire              Paris 9e   \n",
       "\n",
       "                                                                         1  \\\n",
       "360 Paris Music Factory  Musiques du monde, musiques urbaines et actuelles   \n",
       "Accor Arena                                  Pop rock, artistes populaires   \n",
       "Alhambra                 Musiques actuelles : soul, rock, chanson, élec...   \n",
       "Alimentation Générale    Musiques actuelles : rock, électro, funk... + ...   \n",
       "Au Limonaire                                                       Chanson   \n",
       "\n",
       "                              2  \n",
       "360 Paris Music Factory     300  \n",
       "Accor Arena              20 300  \n",
       "Alhambra                    500  \n",
       "Alimentation Générale       500  \n",
       "Au Limonaire                 nc  "
      ]
     },
     "execution_count": 13,
     "metadata": {},
     "output_type": "execute_result"
    }
   ],
   "source": [
    "Data_concert_hall_V2 = pd.DataFrame(Dict)\n",
    "Data_concert_hall_V2 = Data_concert_hall_V2.T\n",
    "Data_concert_hall_V2.head()"
   ]
  },
  {
   "cell_type": "code",
   "execution_count": 14,
   "metadata": {},
   "outputs": [
    {
     "data": {
      "text/plain": [
       "['Salle de concert', 'Lieu', 'Genre musical', 'Jauge']"
      ]
     },
     "execution_count": 14,
     "metadata": {},
     "output_type": "execute_result"
    }
   ],
   "source": [
    "titles = []\n",
    "table_titles = table_concert_hall.find('tbody')\n",
    "cols = table_titles.findAll('th') ## there is only one line here so we access directly to the columns \n",
    "for col in cols:\n",
    "    titles.append(col.text.strip())\n",
    "\n",
    "titles"
   ]
  },
  {
   "cell_type": "code",
   "execution_count": 15,
   "metadata": {},
   "outputs": [
    {
     "data": {
      "text/html": [
       "<div>\n",
       "<style scoped>\n",
       "    .dataframe tbody tr th:only-of-type {\n",
       "        vertical-align: middle;\n",
       "    }\n",
       "\n",
       "    .dataframe tbody tr th {\n",
       "        vertical-align: top;\n",
       "    }\n",
       "\n",
       "    .dataframe thead th {\n",
       "        text-align: right;\n",
       "    }\n",
       "</style>\n",
       "<table border=\"1\" class=\"dataframe\">\n",
       "  <thead>\n",
       "    <tr style=\"text-align: right;\">\n",
       "      <th></th>\n",
       "      <th>Lieu</th>\n",
       "      <th>Genre musical</th>\n",
       "      <th>Jauge</th>\n",
       "    </tr>\n",
       "  </thead>\n",
       "  <tbody>\n",
       "    <tr>\n",
       "      <th>360 Paris Music Factory</th>\n",
       "      <td>Paris 18e</td>\n",
       "      <td>Musiques du monde, musiques urbaines et actuelles</td>\n",
       "      <td>300</td>\n",
       "    </tr>\n",
       "    <tr>\n",
       "      <th>Accor Arena</th>\n",
       "      <td>Paris 12e</td>\n",
       "      <td>Pop rock, artistes populaires</td>\n",
       "      <td>20 300</td>\n",
       "    </tr>\n",
       "    <tr>\n",
       "      <th>Alhambra</th>\n",
       "      <td>Paris 10e</td>\n",
       "      <td>Musiques actuelles : soul, rock, chanson, élec...</td>\n",
       "      <td>500</td>\n",
       "    </tr>\n",
       "    <tr>\n",
       "      <th>Alimentation Générale</th>\n",
       "      <td>Paris 11e</td>\n",
       "      <td>Musiques actuelles : rock, électro, funk... + ...</td>\n",
       "      <td>500</td>\n",
       "    </tr>\n",
       "    <tr>\n",
       "      <th>Au Limonaire</th>\n",
       "      <td>Paris 9e</td>\n",
       "      <td>Chanson</td>\n",
       "      <td>nc</td>\n",
       "    </tr>\n",
       "  </tbody>\n",
       "</table>\n",
       "</div>"
      ],
      "text/plain": [
       "                              Lieu  \\\n",
       "360 Paris Music Factory  Paris 18e   \n",
       "Accor Arena              Paris 12e   \n",
       "Alhambra                 Paris 10e   \n",
       "Alimentation Générale    Paris 11e   \n",
       "Au Limonaire              Paris 9e   \n",
       "\n",
       "                                                             Genre musical  \\\n",
       "360 Paris Music Factory  Musiques du monde, musiques urbaines et actuelles   \n",
       "Accor Arena                                  Pop rock, artistes populaires   \n",
       "Alhambra                 Musiques actuelles : soul, rock, chanson, élec...   \n",
       "Alimentation Générale    Musiques actuelles : rock, électro, funk... + ...   \n",
       "Au Limonaire                                                       Chanson   \n",
       "\n",
       "                          Jauge  \n",
       "360 Paris Music Factory     300  \n",
       "Accor Arena              20 300  \n",
       "Alhambra                    500  \n",
       "Alimentation Générale       500  \n",
       "Au Limonaire                 nc  "
      ]
     },
     "execution_count": 15,
     "metadata": {},
     "output_type": "execute_result"
    }
   ],
   "source": [
    "Data_concert_hall.columns = titles[1:]\n",
    "Data_concert_hall.head()"
   ]
  },
  {
   "cell_type": "code",
   "execution_count": 16,
   "metadata": {},
   "outputs": [],
   "source": [
    "Data_concert_hall.to_csv(r\"C:\\Users\\Nicola\\OneDrive\\Bureau\\Projets Python\\Python for datascience 25.11.2023\\Python_2A\\Salles_de_concert_Paris\\database_concert_hall.csv\")"
   ]
  },
  {
   "cell_type": "code",
   "execution_count": 17,
   "metadata": {},
   "outputs": [],
   "source": [
    "Adresses = []\n",
    "\n"
   ]
  },
  {
   "cell_type": "code",
   "execution_count": 35,
   "metadata": {},
   "outputs": [
    {
     "name": "stdout",
     "output_type": "stream",
     "text": [
      "<a href=\"/concerts/360-paris-music-factory-6878.html\">360 Paris Music Factory</a> <class 'bs4.element.Tag'>\n",
      "https://www.offi.fr/concerts/360-paris-music-factory-6878.html\n",
      "<a href=\"/concerts/palais-omnisports-de-paris-bercy-2913.html\">Accor Arena</a> <class 'bs4.element.Tag'>\n",
      "https://www.offi.fr/concerts/palais-omnisports-de-paris-bercy-2913.html\n",
      "<a href=\"/concerts/alhambra-3584.html\">Alhambra</a> <class 'bs4.element.Tag'>\n",
      "https://www.offi.fr/concerts/alhambra-3584.html\n",
      "<a href=\"/concerts/lalimentation-generale-5292.html\">Alimentation Générale</a> <class 'bs4.element.Tag'>\n",
      "https://www.offi.fr/concerts/lalimentation-generale-5292.html\n",
      "<a href=\"/concerts/au-limonaire-1495.html\">Au Limonaire</a> <class 'bs4.element.Tag'>\n",
      "https://www.offi.fr/concerts/au-limonaire-1495.html\n",
      "<a href=\"/concerts/auditorium-du-louvre-5211.html\">Auditorium du Louvre</a> <class 'bs4.element.Tag'>\n",
      "https://www.offi.fr/concerts/auditorium-du-louvre-5211.html\n",
      "<a href=\"/concerts/bab-ilo-1508.html\">Bab-Ilo</a> <class 'bs4.element.Tag'>\n",
      "https://www.offi.fr/concerts/bab-ilo-1508.html\n",
      "<a href=\"/concerts/badaboum-3169.html\">Badaboum</a> <class 'bs4.element.Tag'>\n",
      "https://www.offi.fr/concerts/badaboum-3169.html\n",
      "<a href=\"/concerts/baiser-sale-1510.html\">Baiser Salé</a> <class 'bs4.element.Tag'>\n",
      "https://www.offi.fr/concerts/baiser-sale-1510.html\n",
      "<a href=\"/concerts/le-bal-blomet-6509.html\">Bal Blomet</a> <class 'bs4.element.Tag'>\n",
      "https://www.offi.fr/concerts/le-bal-blomet-6509.html\n",
      "<a href=\"/concerts/le-bataclan-1526.html\">Bataclan</a> <class 'bs4.element.Tag'>\n",
      "https://www.offi.fr/concerts/le-bataclan-1526.html\n",
      "<a href=\"/concerts/la-bellevilloise-719.html\">Bellevilloise</a> <class 'bs4.element.Tag'>\n",
      "https://www.offi.fr/concerts/la-bellevilloise-719.html\n",
      "<a href=\"/concerts/bizzart-4773.html\">Bizz'Art</a> <class 'bs4.element.Tag'>\n",
      "https://www.offi.fr/concerts/bizzart-4773.html\n",
      "<a href=\"/concerts/la-boule-noire-1566.html\">Boule Noire</a> <class 'bs4.element.Tag'>\n",
      "https://www.offi.fr/concerts/la-boule-noire-1566.html\n",
      "<a href=\"/concerts/le-cabaret-sauvage-1591.html\">Cabaret Sauvage</a> <class 'bs4.element.Tag'>\n",
      "https://www.offi.fr/concerts/le-cabaret-sauvage-1591.html\n",
      "<a href=\"/concerts/cafe-de-la-danse-1598.html\">Café de la Danse</a> <class 'bs4.element.Tag'>\n",
      "https://www.offi.fr/concerts/cafe-de-la-danse-1598.html\n",
      "<a href=\"/concerts/cafe-universel-1608.html\">Café Universel</a> <class 'bs4.element.Tag'>\n",
      "https://www.offi.fr/concerts/cafe-universel-1608.html\n",
      "<a href=\"/concerts/casino-de-paris-1638.html\">Casino de Paris</a> <class 'bs4.element.Tag'>\n",
      "https://www.offi.fr/concerts/casino-de-paris-1638.html\n",
      "<a href=\"/concerts/cave-du-38-riv-4381.html\">Cave du 38 Riv'</a> <class 'bs4.element.Tag'>\n",
      "https://www.offi.fr/concerts/cave-du-38-riv-4381.html\n",
      "<a href=\"/concerts/caveau-de-la-huchette-1654.html\">Caveau de la Huchette</a> <class 'bs4.element.Tag'>\n",
      "https://www.offi.fr/concerts/caveau-de-la-huchette-1654.html\n",
      "<a href=\"/concerts/le-cavern-1658.html\">Cavern</a> <class 'bs4.element.Tag'>\n",
      "https://www.offi.fr/concerts/le-cavern-1658.html\n",
      "<a href=\"/concerts/la-cigale-1805.html\">Cigale</a> <class 'bs4.element.Tag'>\n",
      "https://www.offi.fr/concerts/la-cigale-1805.html\n",
      "<a href=\"/concerts/amphitheatre-6007.html\">Cité de la Musique - Amphithéâtre</a> <class 'bs4.element.Tag'>\n",
      "https://www.offi.fr/concerts/amphitheatre-6007.html\n",
      "<a href=\"/concerts/salle-des-concerts-6006.html\">Cité de la Musique - Salle des concerts</a> <class 'bs4.element.Tag'>\n",
      "https://www.offi.fr/concerts/salle-des-concerts-6006.html\n",
      "<a href=\"/concerts/la-dame-de-canton-3451.html\">Dame de Canton</a> <class 'bs4.element.Tag'>\n",
      "https://www.offi.fr/concerts/la-dame-de-canton-3451.html\n",
      "<a href=\"/concerts/les-disquaires-4783.html\">Disquaires</a> <class 'bs4.element.Tag'>\n",
      "https://www.offi.fr/concerts/les-disquaires-4783.html\n",
      "<a href=\"/theatre/palais-des-sports-2911.html\">Dôme de Paris - Palais des Sports</a> <class 'bs4.element.Tag'>\n",
      "https://www.offi.fr/theatre/palais-des-sports-2911.html\n",
      "<a href=\"/concerts/duc-des-lombards-2009.html\">Duc des Lombards</a> <class 'bs4.element.Tag'>\n",
      "https://www.offi.fr/concerts/duc-des-lombards-2009.html\n",
      "<a href=\"/concerts/elysee-montmartre-2168.html\">Élysée Montmartre</a> <class 'bs4.element.Tag'>\n",
      "https://www.offi.fr/concerts/elysee-montmartre-2168.html\n",
      "<a href=\"concerts/les-etoiles-2298.html\">Étoiles</a> <class 'bs4.element.Tag'>\n",
      "https://www.offi.frconcerts/les-etoiles-2298.html\n",
      "<a href=\"/theatre/leuropeen-2299.html\">Européen</a> <class 'bs4.element.Tag'>\n",
      "https://www.offi.fr/theatre/leuropeen-2299.html\n",
      "<a href=\"/concerts/centre-fleury-goutte-dor-3802.html\">FGO - Barbara</a> <class 'bs4.element.Tag'>\n",
      "https://www.offi.fr/concerts/centre-fleury-goutte-dor-3802.html\n",
      "<a href=\"/concerts/la-fleche-dor-2327.html\">Flèche d'Or</a> <class 'bs4.element.Tag'>\n",
      "https://www.offi.fr/concerts/la-fleche-dor-2327.html\n",
      "<a href=\"/concerts/gaite-lyrique-4682.html\">Gaîté lyrique</a> <class 'bs4.element.Tag'>\n",
      "https://www.offi.fr/concerts/gaite-lyrique-4682.html\n",
      "<a href=\"/concerts/gibus-cafe-6284.html\">Gibus Café</a> <class 'bs4.element.Tag'>\n",
      "https://www.offi.fr/concerts/gibus-cafe-6284.html\n",
      "<a href=\"/concerts/glazart-2397.html\">Glazart</a> <class 'bs4.element.Tag'>\n",
      "https://www.offi.fr/concerts/glazart-2397.html\n",
      "<a href=\"/concerts/guinness-tavern-2430.html\">Guinness Tavern</a> <class 'bs4.element.Tag'>\n",
      "https://www.offi.fr/concerts/guinness-tavern-2430.html\n",
      "<a href=\"/concerts/le-hasard-ludique-6987.html\">Hasard Ludique</a> <class 'bs4.element.Tag'>\n",
      "https://www.offi.fr/concerts/le-hasard-ludique-6987.html\n",
      "<a href=\"/concerts/linternational-4157.html\">International</a> <class 'bs4.element.Tag'>\n",
      "https://www.offi.fr/concerts/linternational-4157.html\n",
      "<a href=\"/concerts/jazz-club-etoile-2482.html\">Jazz Club Étoile</a> <class 'bs4.element.Tag'>\n",
      "https://www.offi.fr/concerts/jazz-club-etoile-2482.html\n",
      "<a href=\"/concerts/au-klub-4125.html\">Klub</a> <class 'bs4.element.Tag'>\n",
      "https://www.offi.fr/concerts/au-klub-4125.html\n",
      "<a href=\"/concerts/la-machine-du-moulin-rouge-4414.html\">Machine du Moulin rouge</a> <class 'bs4.element.Tag'>\n",
      "https://www.offi.fr/concerts/la-machine-du-moulin-rouge-4414.html\n",
      "<a href=\"/expositions-musees/maison-des-musiques-et-arts-interculturels-4916.html\">Maison de Mai</a> <class 'bs4.element.Tag'>\n",
      "https://www.offi.fr/expositions-musees/maison-des-musiques-et-arts-interculturels-4916.html\n",
      "<a href=\"/concerts/maison-de-radio-france-2674.html\">Maison de la radio</a> <class 'bs4.element.Tag'>\n",
      "https://www.offi.fr/concerts/maison-de-radio-france-2674.html\n",
      "<a href=\"/concerts/manufacture-chanson-4078.html\">Manufacture Chanson</a> <class 'bs4.element.Tag'>\n",
      "https://www.offi.fr/concerts/manufacture-chanson-4078.html\n",
      "<a href=\"/concerts/la-maroquinerie-2748.html\">Maroquinerie</a> <class 'bs4.element.Tag'>\n",
      "https://www.offi.fr/concerts/la-maroquinerie-2748.html\n",
      "<a href=\"/concerts/auditorium-saint-germain-des-pres-1501.html\">MPAA Saint-Germain-des-Prés</a> <class 'bs4.element.Tag'>\n",
      "https://www.offi.fr/concerts/auditorium-saint-germain-des-pres-1501.html\n",
      "<a href=\"/concerts/new-morning-2842.html\">New Morning</a> <class 'bs4.element.Tag'>\n",
      "https://www.offi.fr/concerts/new-morning-2842.html\n",
      "<a href=\"/concerts/le-nouveau-casino-2855.html\">Nouveau Casino</a> <class 'bs4.element.Tag'>\n",
      "https://www.offi.fr/concerts/le-nouveau-casino-2855.html\n",
      "<a href=\"/concerts/lolympia-2874.html\">Olympia</a> <class 'bs4.element.Tag'>\n",
      "https://www.offi.fr/concerts/lolympia-2874.html\n",
      "<a href=\"/concerts/lolympic-cafe-2875.html\">Olympic Café</a> <class 'bs4.element.Tag'>\n",
      "https://www.offi.fr/concerts/lolympic-cafe-2875.html\n",
      "<a href=\"/theatre/salle-pan-piper-5736.html\">Pan Piper</a> <class 'bs4.element.Tag'>\n",
      "https://www.offi.fr/theatre/salle-pan-piper-5736.html\n",
      "<a href=\"/expositions-musees/peniche-anako-4321.html\">Péniche Anako</a> <class 'bs4.element.Tag'>\n",
      "https://www.offi.fr/expositions-musees/peniche-anako-4321.html\n",
      "<a href=\"/concerts/peniche-antipode-2979.html\">Péniche Antipode</a> <class 'bs4.element.Tag'>\n",
      "https://www.offi.fr/concerts/peniche-antipode-2979.html\n",
      "<a href=\"/concerts/petit-bain-5136.html\">Petit Bain</a> <class 'bs4.element.Tag'>\n",
      "https://www.offi.fr/concerts/petit-bain-5136.html\n",
      "<a href=\"/concerts/le-petit-journal-saint-michel-2990.html\">Petit Journal Saint-Michel</a> <class 'bs4.element.Tag'>\n",
      "https://www.offi.fr/concerts/le-petit-journal-saint-michel-2990.html\n",
      "<a href=\"/concerts/grande-salle-6005.html\">Philharmonie - Grande Salle Pierre Boulez</a> <class 'bs4.element.Tag'>\n",
      "https://www.offi.fr/concerts/grande-salle-6005.html\n",
      "<a href=\"/concerts/salle-cortot-3122.html\">Salle Cortot</a> <class 'bs4.element.Tag'>\n",
      "https://www.offi.fr/concerts/salle-cortot-3122.html\n",
      "<a href=\"/concerts/salle-gaveau-3136.html\">Salle Gaveau</a> <class 'bs4.element.Tag'>\n",
      "https://www.offi.fr/concerts/salle-gaveau-3136.html\n",
      "<a href=\"/concerts/salle-pleyel-3159.html\">Salle Pleyel</a> <class 'bs4.element.Tag'>\n",
      "https://www.offi.fr/concerts/salle-pleyel-3159.html\n",
      "<a href=\"/concerts/studio-de-lermitage-3207.html\">Studio de l'Ermitage</a> <class 'bs4.element.Tag'>\n",
      "https://www.offi.fr/concerts/studio-de-lermitage-3207.html\n",
      "<a href=\"/concerts/sunside-3225.html\">Sunside</a> <class 'bs4.element.Tag'>\n",
      "https://www.offi.fr/concerts/sunside-3225.html\n",
      "<a href=\"/concerts/sunset-3224.html\">Sunset</a> <class 'bs4.element.Tag'>\n",
      "https://www.offi.fr/concerts/sunset-3224.html\n",
      "<a href=\"/concerts/supersonic-6333.html\">Supersonic</a> <class 'bs4.element.Tag'>\n",
      "https://www.offi.fr/concerts/supersonic-6333.html\n",
      "<a href=\"/concerts/theatre-des-champs-elysees-1756.html\">Théâtre des Champs-Élysées</a> <class 'bs4.element.Tag'>\n",
      "https://www.offi.fr/concerts/theatre-des-champs-elysees-1756.html\n",
      "<a href=\"/concerts/le-trabendo-3288.html\">Trabendo</a> <class 'bs4.element.Tag'>\n",
      "https://www.offi.fr/concerts/le-trabendo-3288.html\n",
      "<a href=\"/concerts/theatre-trianon-3299.html\">Trianon</a> <class 'bs4.element.Tag'>\n",
      "https://www.offi.fr/concerts/theatre-trianon-3299.html\n",
      "<a href=\"/concerts/les-trois-baudets-3783.html\">Trois Baudets</a> <class 'bs4.element.Tag'>\n",
      "https://www.offi.fr/concerts/les-trois-baudets-3783.html\n",
      "<a href=\"/concerts/le-zenith-3401.html\">Zénith</a> <class 'bs4.element.Tag'>\n",
      "https://www.offi.fr/concerts/le-zenith-3401.html\n"
     ]
    }
   ],
   "source": [
    "url_salle_indiv = []\n",
    "for row in table_rows:\n",
    "    hyp_finder = row.find('td').find('a')\n",
    "    print(hyp_finder,type(hyp_finder))\n",
    "    hyperl = hyp_finder['href']\n",
    "    hyperl = 'https://www.offi.fr' + hyperl\n",
    "    print(hyperl)\n",
    "    url_salle_indiv.append(hyperl)"
   ]
  },
  {
   "cell_type": "code",
   "execution_count": 36,
   "metadata": {},
   "outputs": [
    {
     "data": {
      "text/plain": [
       "['https://www.offi.fr/concerts/360-paris-music-factory-6878.html',\n",
       " 'https://www.offi.fr/concerts/palais-omnisports-de-paris-bercy-2913.html',\n",
       " 'https://www.offi.fr/concerts/alhambra-3584.html',\n",
       " 'https://www.offi.fr/concerts/lalimentation-generale-5292.html',\n",
       " 'https://www.offi.fr/concerts/au-limonaire-1495.html',\n",
       " 'https://www.offi.fr/concerts/auditorium-du-louvre-5211.html',\n",
       " 'https://www.offi.fr/concerts/bab-ilo-1508.html',\n",
       " 'https://www.offi.fr/concerts/badaboum-3169.html',\n",
       " 'https://www.offi.fr/concerts/baiser-sale-1510.html',\n",
       " 'https://www.offi.fr/concerts/le-bal-blomet-6509.html',\n",
       " 'https://www.offi.fr/concerts/le-bataclan-1526.html',\n",
       " 'https://www.offi.fr/concerts/la-bellevilloise-719.html',\n",
       " 'https://www.offi.fr/concerts/bizzart-4773.html',\n",
       " 'https://www.offi.fr/concerts/la-boule-noire-1566.html',\n",
       " 'https://www.offi.fr/concerts/le-cabaret-sauvage-1591.html',\n",
       " 'https://www.offi.fr/concerts/cafe-de-la-danse-1598.html',\n",
       " 'https://www.offi.fr/concerts/cafe-universel-1608.html',\n",
       " 'https://www.offi.fr/concerts/casino-de-paris-1638.html',\n",
       " 'https://www.offi.fr/concerts/cave-du-38-riv-4381.html',\n",
       " 'https://www.offi.fr/concerts/caveau-de-la-huchette-1654.html',\n",
       " 'https://www.offi.fr/concerts/le-cavern-1658.html',\n",
       " 'https://www.offi.fr/concerts/la-cigale-1805.html',\n",
       " 'https://www.offi.fr/concerts/amphitheatre-6007.html',\n",
       " 'https://www.offi.fr/concerts/salle-des-concerts-6006.html',\n",
       " 'https://www.offi.fr/concerts/la-dame-de-canton-3451.html',\n",
       " 'https://www.offi.fr/concerts/les-disquaires-4783.html',\n",
       " 'https://www.offi.fr/theatre/palais-des-sports-2911.html',\n",
       " 'https://www.offi.fr/concerts/duc-des-lombards-2009.html',\n",
       " 'https://www.offi.fr/concerts/elysee-montmartre-2168.html',\n",
       " 'https://www.offi.frconcerts/les-etoiles-2298.html',\n",
       " 'https://www.offi.fr/theatre/leuropeen-2299.html',\n",
       " 'https://www.offi.fr/concerts/centre-fleury-goutte-dor-3802.html',\n",
       " 'https://www.offi.fr/concerts/la-fleche-dor-2327.html',\n",
       " 'https://www.offi.fr/concerts/gaite-lyrique-4682.html',\n",
       " 'https://www.offi.fr/concerts/gibus-cafe-6284.html',\n",
       " 'https://www.offi.fr/concerts/glazart-2397.html',\n",
       " 'https://www.offi.fr/concerts/guinness-tavern-2430.html',\n",
       " 'https://www.offi.fr/concerts/le-hasard-ludique-6987.html',\n",
       " 'https://www.offi.fr/concerts/linternational-4157.html',\n",
       " 'https://www.offi.fr/concerts/jazz-club-etoile-2482.html',\n",
       " 'https://www.offi.fr/concerts/au-klub-4125.html',\n",
       " 'https://www.offi.fr/concerts/la-machine-du-moulin-rouge-4414.html',\n",
       " 'https://www.offi.fr/expositions-musees/maison-des-musiques-et-arts-interculturels-4916.html',\n",
       " 'https://www.offi.fr/concerts/maison-de-radio-france-2674.html',\n",
       " 'https://www.offi.fr/concerts/manufacture-chanson-4078.html',\n",
       " 'https://www.offi.fr/concerts/la-maroquinerie-2748.html',\n",
       " 'https://www.offi.fr/concerts/auditorium-saint-germain-des-pres-1501.html',\n",
       " 'https://www.offi.fr/concerts/new-morning-2842.html',\n",
       " 'https://www.offi.fr/concerts/le-nouveau-casino-2855.html',\n",
       " 'https://www.offi.fr/concerts/lolympia-2874.html',\n",
       " 'https://www.offi.fr/concerts/lolympic-cafe-2875.html',\n",
       " 'https://www.offi.fr/theatre/salle-pan-piper-5736.html',\n",
       " 'https://www.offi.fr/expositions-musees/peniche-anako-4321.html',\n",
       " 'https://www.offi.fr/concerts/peniche-antipode-2979.html',\n",
       " 'https://www.offi.fr/concerts/petit-bain-5136.html',\n",
       " 'https://www.offi.fr/concerts/le-petit-journal-saint-michel-2990.html',\n",
       " 'https://www.offi.fr/concerts/grande-salle-6005.html',\n",
       " 'https://www.offi.fr/concerts/salle-cortot-3122.html',\n",
       " 'https://www.offi.fr/concerts/salle-gaveau-3136.html',\n",
       " 'https://www.offi.fr/concerts/salle-pleyel-3159.html',\n",
       " 'https://www.offi.fr/concerts/studio-de-lermitage-3207.html',\n",
       " 'https://www.offi.fr/concerts/sunside-3225.html',\n",
       " 'https://www.offi.fr/concerts/sunset-3224.html',\n",
       " 'https://www.offi.fr/concerts/supersonic-6333.html',\n",
       " 'https://www.offi.fr/concerts/theatre-des-champs-elysees-1756.html',\n",
       " 'https://www.offi.fr/concerts/le-trabendo-3288.html',\n",
       " 'https://www.offi.fr/concerts/theatre-trianon-3299.html',\n",
       " 'https://www.offi.fr/concerts/les-trois-baudets-3783.html',\n",
       " 'https://www.offi.fr/concerts/le-zenith-3401.html']"
      ]
     },
     "execution_count": 36,
     "metadata": {},
     "output_type": "execute_result"
    }
   ],
   "source": [
    "\n",
    "\n",
    "for url in url_salle_indiv:\n",
    "    request_text_salle = request.urlopen(url).read()\n",
    "    page_indiv = bs4.BeautifulSoup(request_text_salle, \"lxml\")\n",
    "    \n",
    "    "
   ]
  },
  {
   "cell_type": "code",
   "execution_count": null,
   "metadata": {},
   "outputs": [],
   "source": []
  },
  {
   "cell_type": "code",
   "execution_count": null,
   "metadata": {},
   "outputs": [],
   "source": []
  },
  {
   "cell_type": "code",
   "execution_count": null,
   "metadata": {},
   "outputs": [],
   "source": []
  },
  {
   "cell_type": "code",
   "execution_count": null,
   "metadata": {},
   "outputs": [],
   "source": []
  }
 ],
 "metadata": {
  "kernelspec": {
   "display_name": "Python 3 (ipykernel)",
   "language": "python",
   "name": "python3"
  },
  "language_info": {
   "codemirror_mode": {
    "name": "ipython",
    "version": 3
   },
   "file_extension": ".py",
   "mimetype": "text/x-python",
   "name": "python",
   "nbconvert_exporter": "python",
   "pygments_lexer": "ipython3",
   "version": "3.11.5"
  }
 },
 "nbformat": 4,
 "nbformat_minor": 5
}
