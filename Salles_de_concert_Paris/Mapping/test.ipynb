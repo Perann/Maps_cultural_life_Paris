{
 "cells": [
  {
   "cell_type": "code",
   "execution_count": 2,
   "id": "e646c64d-027f-409d-a20d-99b8c2d9ad66",
   "metadata": {},
   "outputs": [],
   "source": [
    "### Maps_cultural_life_Paris/Outputs/DataSets/DataMusiqueClassique_v7.csv"
   ]
  },
  {
   "cell_type": "code",
   "execution_count": 1,
   "id": "577439c9-3d95-4e03-85b3-ca54ad5cafc9",
   "metadata": {},
   "outputs": [],
   "source": [
    "import os "
   ]
  },
  {
   "cell_type": "code",
   "execution_count": 2,
   "id": "7ff9003d-6030-4ce7-bc1c-25242bc42f30",
   "metadata": {},
   "outputs": [
    {
     "data": {
      "text/plain": [
       "'/home/onyxia/work/Maps_cultural_life_Paris/Salles_de_concert_Paris'"
      ]
     },
     "execution_count": 2,
     "metadata": {},
     "output_type": "execute_result"
    }
   ],
   "source": [
    "os.getcwd()"
   ]
  },
  {
   "cell_type": "code",
   "execution_count": 69,
   "id": "ef696f91-75fe-4cc2-8ecd-39a11315710b",
   "metadata": {},
   "outputs": [],
   "source": [
    "data = pd.read_csv('/home/onyxia/work/Maps_cultural_life_Paris/Outputs/DataSets/DataMusiqueClassique_v8.csv')"
   ]
  },
  {
   "cell_type": "code",
   "execution_count": 77,
   "id": "9b8cd448-f7f8-4c29-99e2-fad6a2a67731",
   "metadata": {},
   "outputs": [],
   "source": [
    "import pandas as pd\n",
    "from datetime import datetime \n",
    "import folium\n",
    "import webbrowser\n",
    "\n",
    "\n",
    "def ClassicalMap(data:'Pandas DataFrame',date:'YYYY-MM-DD'):\n",
    "\n",
    "    ## on convertit la date de l'utilisateur au format datetime \n",
    "    \n",
    "    user_date = datetime.strptime(date, '%Y-%m-%d')\n",
    "    data['date datetime'] = pd.to_datetime(data['date datetime'])\n",
    "    \n",
    "    data['date datetime'] = data['date datetime'].apply(lambda x: x.replace(hour=0, minute=0, second=0, microsecond=0))\n",
    "    user_date = user_date.replace(hour=0, minute=0, second=0, microsecond=0)\n",
    "\n",
    "\n",
    "    \n",
    "    filtered_data = data[(data['date datetime'] == user_date)]\n",
    "\n",
    "\n",
    "    paris_coordinates = [48.8566, 2.3522]\n",
    "    my_map = folium.Map(location=paris_coordinates, zoom_start=12)\n",
    "\n",
    "    for index, row in filtered_data.iterrows():\n",
    "        establishment_name = row['etablissement']\n",
    "        address = row['adresse']\n",
    "        show_name = row['nom']\n",
    "        average_price = row['prix moyen']\n",
    "        time = row['heure']\n",
    "        \n",
    "        coordinates = [float(coord.strip('()')) for coord in row['coordonnees'].split(',')]\n",
    "\n",
    "        popup_text = f\"<b>{establishment_name}</b><br>Adresse: {address}<br>Concert: {show_name}<br>Heure: {time}<br>Prix moyen: {average_price} €\"\n",
    "        folium.Marker(location=coordinates, popup=popup_text).add_to(my_map)\n",
    "    \n",
    "    my_map.save(\"Outputs\\Maps\\Classicmap.html\")\n",
    "    html_file_path = 'Outputs\\Maps\\Classicmap.html'\n",
    "    webbrowser.open(html_file_path)"
   ]
  },
  {
   "cell_type": "code",
   "execution_count": 78,
   "id": "e96e131c-f989-4695-a278-a1649c31f15d",
   "metadata": {},
   "outputs": [],
   "source": [
    "ClassicalMap(data,'2024-01-14')"
   ]
  },
  {
   "cell_type": "code",
   "execution_count": null,
   "id": "2e9a7f3b-5946-4f75-bb93-a87ea4a02ca8",
   "metadata": {},
   "outputs": [],
   "source": []
  },
  {
   "cell_type": "code",
   "execution_count": null,
   "id": "f1768091-e92e-4de7-abaa-f0294c82ae32",
   "metadata": {},
   "outputs": [],
   "source": []
  }
 ],
 "metadata": {
  "kernelspec": {
   "display_name": "Python 3 (ipykernel)",
   "language": "python",
   "name": "python3"
  },
  "language_info": {
   "codemirror_mode": {
    "name": "ipython",
    "version": 3
   },
   "file_extension": ".py",
   "mimetype": "text/x-python",
   "name": "python",
   "nbconvert_exporter": "python",
   "pygments_lexer": "ipython3",
   "version": "3.10.13"
  }
 },
 "nbformat": 4,
 "nbformat_minor": 5
}
