{
 "cells": [
  {
   "cell_type": "code",
   "execution_count": null,
   "id": "fbd129f0-cbb0-4bee-bb70-63a789e2f34d",
   "metadata": {},
   "outputs": [],
   "source": [
    "import pandas as pd\n",
    "import Fonctions as fct \n",
    "\n",
    "## Ajout des coordonnées ##\n",
    "\n",
    "df = pd.read_csv('DataMusiqueClassique.csv')\n",
    "\n",
    "df['adresse'] = df['adresse'] + ', Paris, France'\n",
    "df['coordonnees'] = df['adresse'].apply(fct.obtenir_coordonnees_adresse) \n",
    "\n",
    "df = df.dropna(subset=['coordonnees']).reset_index(drop=True)\n",
    "\n",
    "df = df.drop('Unnamed: 0', axis=1)\n",
    "\n",
    "\n",
    "## Création d'un prix moyen ##\n",
    "\n",
    "cleaned_prices = df['prix'].apply(fct.clean_price)\n",
    "\n",
    "df[['prix min', 'prix max', 'prix unique']] = pd.DataFrame(cleaned_prices.tolist(), index=df.index)\n",
    "\n",
    "df['prix moyen'] = df.apply(lambda row: (row['prix min'] + row['prix max']) / 2\n",
    "                            if pd.notnull(row['prix min']) and pd.notnull(row['prix max'])\n",
    "                            else row['prix unique'], axis=1)\n",
    "\n",
    "## Sauvegarde de la base de données au format csv\n",
    "\n",
    "df.to_csv('DataMusiqueClassique_v2.csv',index = False)\n",
    "\n",
    "\n",
    "\n",
    "\n"
   ]
  },
  {
   "cell_type": "code",
   "execution_count": null,
   "id": "61b1ddbb-d067-4d5e-b445-5b125d369a42",
   "metadata": {},
   "outputs": [],
   "source": []
  }
 ],
 "metadata": {
  "kernelspec": {
   "display_name": "Python 3 (ipykernel)",
   "language": "python",
   "name": "python3"
  },
  "language_info": {
   "codemirror_mode": {
    "name": "ipython",
    "version": 3
   },
   "file_extension": ".py",
   "mimetype": "text/x-python",
   "name": "python",
   "nbconvert_exporter": "python",
   "pygments_lexer": "ipython3",
   "version": "3.10.13"
  }
 },
 "nbformat": 4,
 "nbformat_minor": 5
}
