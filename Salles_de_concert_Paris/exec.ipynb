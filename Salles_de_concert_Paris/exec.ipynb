{
 "cells": [
  {
   "cell_type": "code",
   "execution_count": 7,
   "id": "fbd129f0-cbb0-4bee-bb70-63a789e2f34d",
   "metadata": {},
   "outputs": [],
   "source": [
    "import pandas as pd\n",
    "import Fonctions as fct \n",
    "\n",
    "\n",
    "\n",
    "df = pd.read_csv('DataMusiqueClassique.csv')\n",
    "\n",
    "df['adresse'] = df['adresse'] + ', Paris, France'\n",
    "df['coordonnees'] = df['adresse'].apply(fct.obtenir_coordonnees_adresse) \n",
    "\n",
    "df = df.dropna(subset=['coordonnees']).reset_index(drop=True)\n",
    "\n",
    "df.to_csv('DataMusiqueClassique_v2.csv')\n",
    "\n",
    "\n",
    "\n"
   ]
  },
  {
   "cell_type": "code",
   "execution_count": null,
   "id": "3f777eef-f8bc-4c82-b461-328e7306d34a",
   "metadata": {},
   "outputs": [],
   "source": []
  }
 ],
 "metadata": {
  "kernelspec": {
   "display_name": "Python 3 (ipykernel)",
   "language": "python",
   "name": "python3"
  },
  "language_info": {
   "codemirror_mode": {
    "name": "ipython",
    "version": 3
   },
   "file_extension": ".py",
   "mimetype": "text/x-python",
   "name": "python",
   "nbconvert_exporter": "python",
   "pygments_lexer": "ipython3",
   "version": "3.10.13"
  }
 },
 "nbformat": 4,
 "nbformat_minor": 5
}
