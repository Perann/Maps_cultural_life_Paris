{
 "cells": [
  {
   "cell_type": "code",
   "execution_count": 1,
   "id": "fbd129f0-cbb0-4bee-bb70-63a789e2f34d",
   "metadata": {
    "scrolled": true
   },
   "outputs": [
    {
     "name": "stdout",
     "output_type": "stream",
     "text": [
      "Erreur lors de la requête : 504\n"
     ]
    }
   ],
   "source": [
    "import pandas as pd\n",
    "import Fonctions as fct \n",
    "\n",
    "## Ajout des coordonnées ##\n",
    "\n",
    "df = pd.read_csv('DataMusiqueClassique.csv')\n",
    "\n",
    "df['adresse'] = df['adresse'] + ', Paris, France'\n",
    "df['coordonnees'] = df['adresse'].apply(fct.obtenir_coordonnees_adresse) \n",
    "\n",
    "df = df.dropna(subset=['coordonnees']).reset_index(drop=True)\n",
    "\n",
    "df = df.drop('Unnamed: 0', axis=1)\n",
    "\n",
    "\n",
    "\n",
    "## Création d'un prix moyen ##\n",
    "\n",
    "cleaned_prices = df['prix'].apply(fct.clean_price)\n",
    "\n",
    "df[['prix min', 'prix max', 'prix unique']] = pd.DataFrame(cleaned_prices.tolist(), index=df.index)\n",
    "\n",
    "df['prix moyen'] = df.apply(lambda row: (row['prix min'] + row['prix max']) / 2\n",
    "                            if pd.notnull(row['prix min']) and pd.notnull(row['prix max'])\n",
    "                            else row['prix unique'], axis=1)\n",
    "\n",
    "## séparation des dates ##\n",
    "\n",
    "df['Date'] = df['Date'].apply(lambda x : x.split(',') if isinstance(x, str) else x)\n",
    "df = df.explode('Date').reset_index(drop=True)\n",
    "df['Date'] = df['Date'].apply(lambda x : str(x[0]) if isinstance(x, list) and len(x) > 0 else x)\n",
    "\n",
    "\n",
    "\n",
    "## Création de dates exploitables ##\n",
    "\n",
    "Dates_usable =  df['Date'].apply(fct.convertir_en_datetime)\n",
    "\n",
    "df[['dates datime', 'heures datetime']] = pd.DataFrame(Dates_usable.tolist(), index=df.index)\n",
    "\n",
    "## Sauvegarde de la base de données au format csv\n",
    "\n",
    "df.to_csv('DataMusiqueClassique_v5.csv',index = False)\n",
    "\n"
   ]
  },
  {
   "cell_type": "code",
   "execution_count": null,
   "id": "61b1ddbb-d067-4d5e-b445-5b125d369a42",
   "metadata": {},
   "outputs": [],
   "source": []
  }
 ],
 "metadata": {
  "kernelspec": {
   "display_name": "Python 3 (ipykernel)",
   "language": "python",
   "name": "python3"
  },
  "language_info": {
   "codemirror_mode": {
    "name": "ipython",
    "version": 3
   },
   "file_extension": ".py",
   "mimetype": "text/x-python",
   "name": "python",
   "nbconvert_exporter": "python",
   "pygments_lexer": "ipython3",
   "version": "3.10.13"
  }
 },
 "nbformat": 4,
 "nbformat_minor": 5
}
