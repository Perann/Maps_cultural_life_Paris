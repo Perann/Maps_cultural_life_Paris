{
 "cells": [
  {
   "cell_type": "code",
   "execution_count": 2,
   "id": "e646c64d-027f-409d-a20d-99b8c2d9ad66",
   "metadata": {},
   "outputs": [],
   "source": [
    "### Maps_cultural_life_Paris/Outputs/DataSets/DataMusiqueClassique_v7.csv"
   ]
  },
  {
   "cell_type": "code",
   "execution_count": 1,
   "id": "577439c9-3d95-4e03-85b3-ca54ad5cafc9",
   "metadata": {},
   "outputs": [],
   "source": [
    "import os "
   ]
  },
  {
   "cell_type": "code",
   "execution_count": 2,
   "id": "7ff9003d-6030-4ce7-bc1c-25242bc42f30",
   "metadata": {},
   "outputs": [
    {
     "data": {
      "text/plain": [
       "'/home/onyxia/work/Maps_cultural_life_Paris/Salles_de_concert_Paris'"
      ]
     },
     "execution_count": 2,
     "metadata": {},
     "output_type": "execute_result"
    }
   ],
   "source": [
    "os.getcwd()"
   ]
  },
  {
   "cell_type": "code",
   "execution_count": 3,
   "id": "ef696f91-75fe-4cc2-8ecd-39a11315710b",
   "metadata": {},
   "outputs": [],
   "source": [
    "data = pd.read_csv('/home/onyxia/work/Maps_cultural_life_Paris/Outputs/DataSets/DataMusiqueClassique_v7.csv')"
   ]
  },
  {
   "cell_type": "code",
   "execution_count": 48,
   "id": "9b8cd448-f7f8-4c29-99e2-fad6a2a67731",
   "metadata": {},
   "outputs": [],
   "source": [
    "import pandas as pd\n",
    "from datetime import datetime \n",
    "import folium\n",
    "import webbrowser\n",
    "\n",
    "\n",
    "def ClassicalMap(data:'Pandas DataFrame',date:'YYYY-MM-DD'):\n",
    "\n",
    "    ## on convertit la date de l'utilisateur au format datetime \n",
    "    \n",
    "    user_date = datetime.strptime(date, '%Y-%m-%d')\n",
    "    data['date datetime'] = pd.to_datetime(data['date datetime'])\n",
    "    \n",
    "    data['date datetime'] = data['date datetime'].apply(lambda x: x.replace(hour=0, minute=0, second=0, microsecond=0))\n",
    "    user_date = user_date.replace(hour=0, minute=0, second=0, microsecond=0)\n",
    "\n",
    "\n",
    "    \n",
    "    filtered_data = data[(data['date datetime'] == user_date)]\n",
    "\n",
    "    print(filtered_data)\n",
    "\n",
    "\n",
    "    paris_coordinates = [48.8566, 2.3522]\n",
    "    my_map = folium.Map(location=paris_coordinates, zoom_start=12)\n",
    "\n",
    "    for index, row in filtered_data.iterrows():\n",
    "        establishment_name = row['etablissement']\n",
    "        address = row['adresse']\n",
    "        show_name = row['nom']\n",
    "        average_price = row['prix moyen']\n",
    "\n",
    "        coordinates = [float(coord.strip('()')) for coord in row['coordonnees'].split(',')]\n",
    "        popup_text = f\"<b>{establishment_name}</b><br>Adresse: {address}<br>Pièce: {show_name}<br>Prix moyen: {average_price} €\"\n",
    "        folium.Marker(location=coordinates, popup=popup_text).add_to(my_map)\n",
    "    \n",
    "    my_map.save(\"Outputs\\Maps\\Classicmap.html\")\n",
    "    html_file_path = 'Outputs\\Maps\\Classicmap.html'\n",
    "    webbrowser.open(html_file_path)"
   ]
  },
  {
   "cell_type": "code",
   "execution_count": 49,
   "id": "e96e131c-f989-4695-a278-a1649c31f15d",
   "metadata": {},
   "outputs": [
    {
     "name": "stdout",
     "output_type": "stream",
     "text": [
      "                       nom                                      etablissement  \\\n",
      "323       Adrien Polycarpe                                Église Saint-Éphrem   \n",
      "335  The Beggar's Ensemble                                     La Scala Paris   \n",
      "336          Beatrice Rana  Grande salle Pierre Boulez - Philharmonie de P...   \n",
      "\n",
      "                         Date                                    adresse  \\\n",
      "323   Mardi 13 Février  19h00           17 rue des Carmes, Paris, France   \n",
      "335   Mardi 13 Février  19h30  13 boulevard de Strasbourg, Paris, France   \n",
      "336   Mardi 13 Février  20h00      221 avenue Jean-Jaurès, Paris, France   \n",
      "\n",
      "       commune     prix            coordonnees  prix min  prix max  \\\n",
      "323   Paris 5e  16-25 €  (2.347335, 48.848424)      16.0      25.0   \n",
      "335  Paris 10e  unknown  (2.354572, 48.870299)       NaN       NaN   \n",
      "336  Paris 19e  unknown  (2.393824, 48.889311)       NaN       NaN   \n",
      "\n",
      "    prix unique prix moyen date datetime  heure  \n",
      "323         NaN       20.5    2024-02-13  19h00  \n",
      "335     unknown    unknown    2024-02-13  19h30  \n",
      "336     unknown    unknown    2024-02-13  20h00  \n"
     ]
    }
   ],
   "source": [
    "ClassicalMap(data,'2024-02-13')"
   ]
  },
  {
   "cell_type": "code",
   "execution_count": 50,
   "id": "8e86c8ee-d4ee-4578-84a7-17a0ba7d22db",
   "metadata": {},
   "outputs": [
    {
     "name": "stdout",
     "output_type": "stream",
     "text": [
      "2024-02-13 00:00:00\n"
     ]
    }
   ],
   "source": []
  },
  {
   "cell_type": "code",
   "execution_count": 52,
   "id": "7b306318-5bae-4a7f-930e-880132cc0e72",
   "metadata": {},
   "outputs": [
    {
     "data": {
      "text/html": [
       "<div>\n",
       "<style scoped>\n",
       "    .dataframe tbody tr th:only-of-type {\n",
       "        vertical-align: middle;\n",
       "    }\n",
       "\n",
       "    .dataframe tbody tr th {\n",
       "        vertical-align: top;\n",
       "    }\n",
       "\n",
       "    .dataframe thead th {\n",
       "        text-align: right;\n",
       "    }\n",
       "</style>\n",
       "<table border=\"1\" class=\"dataframe\">\n",
       "  <thead>\n",
       "    <tr style=\"text-align: right;\">\n",
       "      <th></th>\n",
       "      <th>nom</th>\n",
       "      <th>etablissement</th>\n",
       "      <th>Date</th>\n",
       "      <th>adresse</th>\n",
       "      <th>commune</th>\n",
       "      <th>prix</th>\n",
       "      <th>coordonnees</th>\n",
       "      <th>prix min</th>\n",
       "      <th>prix max</th>\n",
       "      <th>prix unique</th>\n",
       "      <th>prix moyen</th>\n",
       "      <th>date datetime</th>\n",
       "      <th>heure</th>\n",
       "    </tr>\n",
       "  </thead>\n",
       "  <tbody>\n",
       "    <tr>\n",
       "      <th>323</th>\n",
       "      <td>Adrien Polycarpe</td>\n",
       "      <td>Église Saint-Éphrem</td>\n",
       "      <td>Mardi 13 Février  19h00</td>\n",
       "      <td>17 rue des Carmes, Paris, France</td>\n",
       "      <td>Paris 5e</td>\n",
       "      <td>16-25 €</td>\n",
       "      <td>(2.347335, 48.848424)</td>\n",
       "      <td>16.0</td>\n",
       "      <td>25.0</td>\n",
       "      <td>NaN</td>\n",
       "      <td>20.5</td>\n",
       "      <td>2024-02-13</td>\n",
       "      <td>19h00</td>\n",
       "    </tr>\n",
       "    <tr>\n",
       "      <th>335</th>\n",
       "      <td>The Beggar's Ensemble</td>\n",
       "      <td>La Scala Paris</td>\n",
       "      <td>Mardi 13 Février  19h30</td>\n",
       "      <td>13 boulevard de Strasbourg, Paris, France</td>\n",
       "      <td>Paris 10e</td>\n",
       "      <td>unknown</td>\n",
       "      <td>(2.354572, 48.870299)</td>\n",
       "      <td>NaN</td>\n",
       "      <td>NaN</td>\n",
       "      <td>unknown</td>\n",
       "      <td>unknown</td>\n",
       "      <td>2024-02-13</td>\n",
       "      <td>19h30</td>\n",
       "    </tr>\n",
       "    <tr>\n",
       "      <th>336</th>\n",
       "      <td>Beatrice Rana</td>\n",
       "      <td>Grande salle Pierre Boulez - Philharmonie de P...</td>\n",
       "      <td>Mardi 13 Février  20h00</td>\n",
       "      <td>221 avenue Jean-Jaurès, Paris, France</td>\n",
       "      <td>Paris 19e</td>\n",
       "      <td>unknown</td>\n",
       "      <td>(2.393824, 48.889311)</td>\n",
       "      <td>NaN</td>\n",
       "      <td>NaN</td>\n",
       "      <td>unknown</td>\n",
       "      <td>unknown</td>\n",
       "      <td>2024-02-13</td>\n",
       "      <td>20h00</td>\n",
       "    </tr>\n",
       "  </tbody>\n",
       "</table>\n",
       "</div>"
      ],
      "text/plain": [
       "                       nom                                      etablissement  \\\n",
       "323       Adrien Polycarpe                                Église Saint-Éphrem   \n",
       "335  The Beggar's Ensemble                                     La Scala Paris   \n",
       "336          Beatrice Rana  Grande salle Pierre Boulez - Philharmonie de P...   \n",
       "\n",
       "                         Date                                    adresse  \\\n",
       "323   Mardi 13 Février  19h00           17 rue des Carmes, Paris, France   \n",
       "335   Mardi 13 Février  19h30  13 boulevard de Strasbourg, Paris, France   \n",
       "336   Mardi 13 Février  20h00      221 avenue Jean-Jaurès, Paris, France   \n",
       "\n",
       "       commune     prix            coordonnees  prix min  prix max  \\\n",
       "323   Paris 5e  16-25 €  (2.347335, 48.848424)      16.0      25.0   \n",
       "335  Paris 10e  unknown  (2.354572, 48.870299)       NaN       NaN   \n",
       "336  Paris 19e  unknown  (2.393824, 48.889311)       NaN       NaN   \n",
       "\n",
       "    prix unique prix moyen date datetime  heure  \n",
       "323         NaN       20.5    2024-02-13  19h00  \n",
       "335     unknown    unknown    2024-02-13  19h30  \n",
       "336     unknown    unknown    2024-02-13  20h00  "
      ]
     },
     "execution_count": 52,
     "metadata": {},
     "output_type": "execute_result"
    }
   ],
   "source": []
  },
  {
   "cell_type": "code",
   "execution_count": 54,
   "id": "710cbcc4-d241-47f1-94b6-5c7168800ab4",
   "metadata": {},
   "outputs": [],
   "source": []
  },
  {
   "cell_type": "code",
   "execution_count": 55,
   "id": "5f85f5f3-673b-432f-907b-8d006b7ba275",
   "metadata": {},
   "outputs": [
    {
     "ename": "TypeError",
     "evalue": "string indices must be integers",
     "output_type": "error",
     "traceback": [
      "\u001b[0;31m---------------------------------------------------------------------------\u001b[0m",
      "\u001b[0;31mTypeError\u001b[0m                                 Traceback (most recent call last)",
      "Cell \u001b[0;32mIn[55], line 1\u001b[0m\n\u001b[0;32m----> 1\u001b[0m \u001b[43mTheaterMap\u001b[49m\u001b[43m(\u001b[49m\u001b[38;5;124;43m'\u001b[39;49m\u001b[38;5;124;43mDataTheatre_base_finale.csv\u001b[39;49m\u001b[38;5;124;43m'\u001b[39;49m\u001b[43m,\u001b[49m\u001b[38;5;124;43m'\u001b[39;49m\u001b[38;5;124;43m2023-04-17\u001b[39;49m\u001b[38;5;124;43m'\u001b[39;49m\u001b[43m)\u001b[49m\n",
      "Cell \u001b[0;32mIn[54], line 11\u001b[0m, in \u001b[0;36mTheaterMap\u001b[0;34m(data, date)\u001b[0m\n\u001b[1;32m      8\u001b[0m \u001b[38;5;28;01mdef\u001b[39;00m \u001b[38;5;21mTheaterMap\u001b[39m(data:\u001b[38;5;124m'\u001b[39m\u001b[38;5;124mPandas DataFrame\u001b[39m\u001b[38;5;124m'\u001b[39m,date:\u001b[38;5;124m'\u001b[39m\u001b[38;5;124mYYYY-MM-DD\u001b[39m\u001b[38;5;124m'\u001b[39m):\n\u001b[1;32m     10\u001b[0m     user_date \u001b[38;5;241m=\u001b[39m datetime\u001b[38;5;241m.\u001b[39mstrptime(date, \u001b[38;5;124m'\u001b[39m\u001b[38;5;124m%\u001b[39m\u001b[38;5;124mY-\u001b[39m\u001b[38;5;124m%\u001b[39m\u001b[38;5;124mm-\u001b[39m\u001b[38;5;132;01m%d\u001b[39;00m\u001b[38;5;124m'\u001b[39m)\n\u001b[0;32m---> 11\u001b[0m     data[\u001b[38;5;124m'\u001b[39m\u001b[38;5;124mdate début\u001b[39m\u001b[38;5;124m'\u001b[39m] \u001b[38;5;241m=\u001b[39m pd\u001b[38;5;241m.\u001b[39mto_datetime(\u001b[43mdata\u001b[49m\u001b[43m[\u001b[49m\u001b[38;5;124;43m'\u001b[39;49m\u001b[38;5;124;43mdate début\u001b[39;49m\u001b[38;5;124;43m'\u001b[39;49m\u001b[43m]\u001b[49m)\n\u001b[1;32m     12\u001b[0m     data[\u001b[38;5;124m'\u001b[39m\u001b[38;5;124mdate fin\u001b[39m\u001b[38;5;124m'\u001b[39m] \u001b[38;5;241m=\u001b[39m pd\u001b[38;5;241m.\u001b[39mto_datetime(data[\u001b[38;5;124m'\u001b[39m\u001b[38;5;124mdate fin\u001b[39m\u001b[38;5;124m'\u001b[39m])\n\u001b[1;32m     13\u001b[0m     filtered_data \u001b[38;5;241m=\u001b[39m data[(data[\u001b[38;5;124m'\u001b[39m\u001b[38;5;124mdate début\u001b[39m\u001b[38;5;124m'\u001b[39m] \u001b[38;5;241m<\u001b[39m\u001b[38;5;241m=\u001b[39m user_date) \u001b[38;5;241m&\u001b[39m (user_date \u001b[38;5;241m<\u001b[39m\u001b[38;5;241m=\u001b[39m data[\u001b[38;5;124m'\u001b[39m\u001b[38;5;124mdate fin\u001b[39m\u001b[38;5;124m'\u001b[39m])]\n",
      "\u001b[0;31mTypeError\u001b[0m: string indices must be integers"
     ]
    }
   ],
   "source": []
  },
  {
   "cell_type": "code",
   "execution_count": null,
   "id": "1581c454-535d-44c2-abf1-c98194208c2c",
   "metadata": {},
   "outputs": [],
   "source": []
  }
 ],
 "metadata": {
  "kernelspec": {
   "display_name": "Python 3 (ipykernel)",
   "language": "python",
   "name": "python3"
  },
  "language_info": {
   "codemirror_mode": {
    "name": "ipython",
    "version": 3
   },
   "file_extension": ".py",
   "mimetype": "text/x-python",
   "name": "python",
   "nbconvert_exporter": "python",
   "pygments_lexer": "ipython3",
   "version": "3.10.13"
  }
 },
 "nbformat": 4,
 "nbformat_minor": 5
}
