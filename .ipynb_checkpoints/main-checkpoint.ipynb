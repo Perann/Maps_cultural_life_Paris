{
 "cells": [
  {
   "cell_type": "markdown",
   "metadata": {},
   "source": [
    "# **Where to hang out in Paris ?**\n",
    "\n",
    "This notebook will provide the main results we obtained through our work. It allows anyone to use the functions without having to use the Interface.\n",
    "It is divided in 3 subsequence:\n",
    "\n",
    "I- Maps\n",
    "\n",
    "II-Statistics\n",
    "\n",
    "III. Scrapping (Optional)\n"
   ]
  },
  {
   "cell_type": "markdown",
   "metadata": {},
   "source": [
    "## **I. Maps**\n",
    "\n",
    "This section will allow you to create the Maps we create through the interface. Each cell is dedicated to a function and an example is always provided.\n",
    "\n",
    "\n",
    " The functions defined below are very similar to those defined in the mapping files of each folder. The mapping.py files are the functions we use in the interface and are programmed to open directly a window in your webbrowser with the map. The only thing we change in the following functions is that we deleted the order to open a new window with the map created. If you want to open the map, you need to go to Output/Maps and to open them in a webbrowser. JupyterLab does it by itself but some code editor as VSCODE may require an additionnal extension.\n",
    "\n",
    " We first import the main modules we are going to use:"
   ]
  },
  {
   "cell_type": "code",
   "execution_count": null,
   "metadata": {},
   "outputs": [],
   "source": [
    "import folium\n",
    "import pandas as pd \n",
    "from folium.plugins import MarkerCluster\n",
    "from datetime import datetime"
   ]
  },
  {
   "cell_type": "markdown",
   "metadata": {},
   "source": [
    "### Cinema\n",
    "\n",
    "The following sub-section gives you the code to plot the maps of all the movie displayed on a day. This uses the database DataCinema.csv created in the scrapping section. Pay attention that not all the cinemas of Paris are represented on the maps but lots of them are (additional details are provided in the code of the scrapping section). \n",
    "\n",
    "All the more, the database hasn't been uptated since 28 th december 2023, so the movie show on the maps are those streamed this day. If you want to have those of the current day you need to update the database through the codes in the scrapping section.\n"
   ]
  },
  {
   "cell_type": "code",
   "execution_count": null,
   "metadata": {},
   "outputs": [],
   "source": [
    "\n",
    "def HourConversion(string):                  \n",
    "    return datetime.strptime(string, '%H:%M') \n",
    "\n",
    "def MovieMapping(data,MinHour:'HHhMM',MaxHour:'HHhMM'):     \n",
    "    HeureDebut = datetime.strptime(MinHour, \"%Hh%M\")\n",
    "    HeureFin = datetime.strptime(MaxHour, \"%Hh%M\")\n",
    "    \n",
    "    \n",
    "    data['time'] = data['heure'].apply(lambda x: HourConversion(x))\n",
    "    AdjustedData = data[data['time']>= HeureDebut]\n",
    "    AdjustedData = AdjustedData[AdjustedData['time'] <= HeureFin]\n",
    "    \n",
    "    MovieMap = folium.Map(location=[48.8566, 2.3522], zoom_start=12)\n",
    "    GeoVisited = {}\n",
    "\n",
    "    for index, row in AdjustedData.iterrows():\n",
    "        lat = row['geo'].split(',')[0]\n",
    "        lon = row['geo'].split(',')[1]\n",
    "    \n",
    "        content = \"<h4 style='color:black;'>\" + row['nom'] + \"</h4>\" \\\n",
    "                \"<p style='font-size:16px;'>\" + row['etablissement'] + \"</p>\"\\\n",
    "                \"<p style='font-size:16px;'>\" + row['heure'] + \"</p>\"\n",
    "        \n",
    "        if (lat,lon) not in GeoVisited.keys():\n",
    "            GeoVisited[(lat,lon)] = MarkerCluster().add_to(MovieMap)\n",
    "            folium.Marker(location=(lat,lon), popup = content, max_width=500).add_to(GeoVisited[(lat,lon)])\n",
    "        else:\n",
    "            folium.Marker(location=(lat,lon), popup = content, max_width=500).add_to(GeoVisited[(lat,lon)])\n",
    "    MovieMap.save(\"/home/onyxia/work/Maps_cultural_life_Paris/Outputs/Maps/MovieMap.html\")\n"
   ]
  },
  {
   "cell_type": "markdown",
   "metadata": {},
   "source": [
    "#### *Example*\n",
    "We will use the previous function to create a map showing all the movies streamed in Paris on 28th December 2023 whose cinema sessions begins between 5:30 PM (17h30) and 10:00 PM (22h00). \n",
    "\n",
    "To see the final Map, open the file name MovieMap.html in Outputs/Maps though your webbrowser"
   ]
  },
  {
   "cell_type": "code",
   "execution_count": null,
   "metadata": {},
   "outputs": [
    {
     "ename": "NameError",
     "evalue": "name 'pd' is not defined",
     "output_type": "error",
     "traceback": [
      "\u001b[1;31m---------------------------------------------------------------------------\u001b[0m",
      "\u001b[1;31mNameError\u001b[0m                                 Traceback (most recent call last)",
      "Cell \u001b[1;32mIn[1], line 1\u001b[0m\n\u001b[1;32m----> 1\u001b[0m program \u001b[38;5;241m=\u001b[39m \u001b[43mpd\u001b[49m\u001b[38;5;241m.\u001b[39mread_csv(\u001b[38;5;124m'\u001b[39m\u001b[38;5;124m/home/onyxia/work/Maps_cultural_life_Paris/Outputs/DataSets/DataCinema.csv\u001b[39m\u001b[38;5;124m'\u001b[39m)\n\u001b[0;32m      2\u001b[0m MovieMapping(program,\u001b[38;5;124m'\u001b[39m\u001b[38;5;124m17h30\u001b[39m\u001b[38;5;124m'\u001b[39m,\u001b[38;5;124m'\u001b[39m\u001b[38;5;124m22h00\u001b[39m\u001b[38;5;124m'\u001b[39m) \n",
      "\u001b[1;31mNameError\u001b[0m: name 'pd' is not defined"
     ]
    }
   ],
   "source": [
    "program = pd.read_csv('/home/onyxia/work/Maps_cultural_life_Paris/Outputs/DataSets/DataCinema.csv')\n",
    "MovieMapping(program,'17h30','22h00') "
   ]
  },
  {
   "cell_type": "markdown",
   "metadata": {},
   "source": [
    "### Theater\n",
    "\n",
    "The following function creates the map of the theater play played on a given day. You can choose the day as an argument of the function. Pay attention that the database had been lastly updated on 28th December of 2023. If you use the function a longtime after this date, don't hesitate to run webscrapping codes again. "
   ]
  },
  {
   "cell_type": "code",
   "execution_count": null,
   "metadata": {},
   "outputs": [],
   "source": [
    "\n",
    "def TheaterMap(data:'Pandas DataFrame',date:'YYYY-MM-DD'):\n",
    "\n",
    "    user_date = datetime.strptime(date, '%Y-%m-%d')\n",
    "    data['date début'] = pd.to_datetime(data['date début'])\n",
    "    data['date fin'] = pd.to_datetime(data['date fin'])\n",
    "    filtered_data = data[(data['date début'] <= user_date) & (user_date <= data['date fin'])]\n",
    "\n",
    "    paris_coordinates = [48.8566, 2.3522]\n",
    "    my_map = folium.Map(location=paris_coordinates, zoom_start=12)\n",
    "\n",
    "    for index, row in filtered_data.iterrows():\n",
    "        establishment_name = row['etablissement']\n",
    "        address = row['adresse']\n",
    "        show_name = row['nom']\n",
    "        average_price = row['prix moyen']\n",
    "\n",
    "        coordinates = [float(coord.strip('()')) for coord in row['Coordonnees'].split(',')]\n",
    "        popup_text = f\"<b>{establishment_name}</b><br>Adresse: {address}<br>Pièce: {show_name}<br>Prix moyen: {average_price} €\"\n",
    "        folium.Marker(location=coordinates, popup=popup_text).add_to(my_map)\n",
    "    \n",
    "    my_map.save(\"/home/onyxia/work/Maps_cultural_life_Paris/Outputs/Maps/Theatermap.html\")\n"
   ]
  },
  {
   "cell_type": "markdown",
   "metadata": {},
   "source": [
    "#### *Example*\n",
    "We create a Map with all the theaters plays play on 12th January of 2024. If you want to create a map for an other date pay attention to the format of the date that has to be 'YYYY-MM-DD'.\n",
    "To see the map, open TheaterMap.html in the Outputs/Maps section."
   ]
  },
  {
   "cell_type": "code",
   "execution_count": null,
   "metadata": {},
   "outputs": [],
   "source": [
    "DataTheater = pd.read_csv('/home/onyxia/work/Maps_cultural_life_Paris/Outputs/DataSets/DataTheatre_base_finale.csv', sep=';')\n",
    "TheaterMap(DataTheater,'2024-01-12' )"
   ]
  },
  {
   "cell_type": "markdown",
   "metadata": {},
   "source": [
    "### Concerts\n",
    "\n",
    "Hier are provided the functions used to make a map of concerts play on a given day in Paris."
   ]
  },
  {
   "cell_type": "code",
   "execution_count": null,
   "metadata": {},
   "outputs": [],
   "source": [
    "def ConcertMap():\n",
    "    pass"
   ]
  },
  {
   "cell_type": "markdown",
   "metadata": {},
   "source": [
    "#### *Example*\n",
    "\n",
    "We plot a map with all the concert played on..."
   ]
  },
  {
   "cell_type": "code",
   "execution_count": null,
   "metadata": {},
   "outputs": [],
   "source": [
    "#Waiting for le code de Biviano"
   ]
  },
  {
   "cell_type": "markdown",
   "metadata": {},
   "source": [
    "## **II. Statistics** \n",
    "\n",
    "In this section we review the main statistics we realised with the databases we produced in the first section.\n",
    "We will go through various topics such as finding the most relevant place for you to hang out in Paris, according to your tastes.\n"
   ]
  },
  {
   "cell_type": "markdown",
   "metadata": {},
   "source": [
    "### Cinema\n",
    "This section will contain statistics made from the databases we created or found. For the cinemas I will use the Open database from the City of Paris about cinemas of the town. The database issued by webscrapping only contains data about one day so it's hard to make statistics from it. \n",
    "\n",
    "The original file is located in Resources/Data and is named ListeCinema.csv.\n",
    "We first read the file trough pandas and import the necessary modules :\n",
    "\n"
   ]
  },
  {
   "cell_type": "code",
   "execution_count": 6,
   "metadata": {},
   "outputs": [],
   "source": [
    "import pandas as pd\n",
    "import seaborn as sns\n",
    "import matplotlib.pyplot as plt\n",
    "from datetime import datetime\n"
   ]
  },
  {
   "cell_type": "code",
   "execution_count": 7,
   "metadata": {},
   "outputs": [
    {
     "ename": "FileNotFoundError",
     "evalue": "[Errno 2] No such file or directory: '/home/onyxia/work/Maps_cultural_life_Paris/Ressources/Data/ListeCinema.csv'",
     "output_type": "error",
     "traceback": [
      "\u001b[1;31m---------------------------------------------------------------------------\u001b[0m",
      "\u001b[1;31mFileNotFoundError\u001b[0m                         Traceback (most recent call last)",
      "Cell \u001b[1;32mIn[7], line 1\u001b[0m\n\u001b[1;32m----> 1\u001b[0m DataCinemaParis \u001b[38;5;241m=\u001b[39m \u001b[43mpd\u001b[49m\u001b[38;5;241;43m.\u001b[39;49m\u001b[43mread_csv\u001b[49m\u001b[43m(\u001b[49m\u001b[38;5;124;43m'\u001b[39;49m\u001b[38;5;124;43m/home/onyxia/work/Maps_cultural_life_Paris/Ressources/Data/ListeCinema.csv\u001b[39;49m\u001b[38;5;124;43m'\u001b[39;49m\u001b[43m,\u001b[49m\u001b[43m \u001b[49m\u001b[43msep\u001b[49m\u001b[43m \u001b[49m\u001b[38;5;241;43m=\u001b[39;49m\u001b[43m \u001b[49m\u001b[38;5;124;43m'\u001b[39;49m\u001b[38;5;124;43m;\u001b[39;49m\u001b[38;5;124;43m'\u001b[39;49m\u001b[43m)\u001b[49m\n\u001b[0;32m      2\u001b[0m DataCinemaParis \u001b[38;5;241m=\u001b[39m DataCinemaParis[DataCinemaParis[\u001b[38;5;124m'\u001b[39m\u001b[38;5;124mdep\u001b[39m\u001b[38;5;124m'\u001b[39m] \u001b[38;5;241m==\u001b[39m \u001b[38;5;241m75\u001b[39m]\n\u001b[0;32m      3\u001b[0m DataCinemaParis\u001b[38;5;241m.\u001b[39mhead()\n",
      "File \u001b[1;32mc:\\Users\\LENOVO\\AppData\\Local\\Programs\\Python\\Python311\\Lib\\site-packages\\pandas\\io\\parsers\\readers.py:948\u001b[0m, in \u001b[0;36mread_csv\u001b[1;34m(filepath_or_buffer, sep, delimiter, header, names, index_col, usecols, dtype, engine, converters, true_values, false_values, skipinitialspace, skiprows, skipfooter, nrows, na_values, keep_default_na, na_filter, verbose, skip_blank_lines, parse_dates, infer_datetime_format, keep_date_col, date_parser, date_format, dayfirst, cache_dates, iterator, chunksize, compression, thousands, decimal, lineterminator, quotechar, quoting, doublequote, escapechar, comment, encoding, encoding_errors, dialect, on_bad_lines, delim_whitespace, low_memory, memory_map, float_precision, storage_options, dtype_backend)\u001b[0m\n\u001b[0;32m    935\u001b[0m kwds_defaults \u001b[38;5;241m=\u001b[39m _refine_defaults_read(\n\u001b[0;32m    936\u001b[0m     dialect,\n\u001b[0;32m    937\u001b[0m     delimiter,\n\u001b[1;32m   (...)\u001b[0m\n\u001b[0;32m    944\u001b[0m     dtype_backend\u001b[38;5;241m=\u001b[39mdtype_backend,\n\u001b[0;32m    945\u001b[0m )\n\u001b[0;32m    946\u001b[0m kwds\u001b[38;5;241m.\u001b[39mupdate(kwds_defaults)\n\u001b[1;32m--> 948\u001b[0m \u001b[38;5;28;01mreturn\u001b[39;00m \u001b[43m_read\u001b[49m\u001b[43m(\u001b[49m\u001b[43mfilepath_or_buffer\u001b[49m\u001b[43m,\u001b[49m\u001b[43m \u001b[49m\u001b[43mkwds\u001b[49m\u001b[43m)\u001b[49m\n",
      "File \u001b[1;32mc:\\Users\\LENOVO\\AppData\\Local\\Programs\\Python\\Python311\\Lib\\site-packages\\pandas\\io\\parsers\\readers.py:611\u001b[0m, in \u001b[0;36m_read\u001b[1;34m(filepath_or_buffer, kwds)\u001b[0m\n\u001b[0;32m    608\u001b[0m _validate_names(kwds\u001b[38;5;241m.\u001b[39mget(\u001b[38;5;124m\"\u001b[39m\u001b[38;5;124mnames\u001b[39m\u001b[38;5;124m\"\u001b[39m, \u001b[38;5;28;01mNone\u001b[39;00m))\n\u001b[0;32m    610\u001b[0m \u001b[38;5;66;03m# Create the parser.\u001b[39;00m\n\u001b[1;32m--> 611\u001b[0m parser \u001b[38;5;241m=\u001b[39m \u001b[43mTextFileReader\u001b[49m\u001b[43m(\u001b[49m\u001b[43mfilepath_or_buffer\u001b[49m\u001b[43m,\u001b[49m\u001b[43m \u001b[49m\u001b[38;5;241;43m*\u001b[39;49m\u001b[38;5;241;43m*\u001b[39;49m\u001b[43mkwds\u001b[49m\u001b[43m)\u001b[49m\n\u001b[0;32m    613\u001b[0m \u001b[38;5;28;01mif\u001b[39;00m chunksize \u001b[38;5;129;01mor\u001b[39;00m iterator:\n\u001b[0;32m    614\u001b[0m     \u001b[38;5;28;01mreturn\u001b[39;00m parser\n",
      "File \u001b[1;32mc:\\Users\\LENOVO\\AppData\\Local\\Programs\\Python\\Python311\\Lib\\site-packages\\pandas\\io\\parsers\\readers.py:1448\u001b[0m, in \u001b[0;36mTextFileReader.__init__\u001b[1;34m(self, f, engine, **kwds)\u001b[0m\n\u001b[0;32m   1445\u001b[0m     \u001b[38;5;28mself\u001b[39m\u001b[38;5;241m.\u001b[39moptions[\u001b[38;5;124m\"\u001b[39m\u001b[38;5;124mhas_index_names\u001b[39m\u001b[38;5;124m\"\u001b[39m] \u001b[38;5;241m=\u001b[39m kwds[\u001b[38;5;124m\"\u001b[39m\u001b[38;5;124mhas_index_names\u001b[39m\u001b[38;5;124m\"\u001b[39m]\n\u001b[0;32m   1447\u001b[0m \u001b[38;5;28mself\u001b[39m\u001b[38;5;241m.\u001b[39mhandles: IOHandles \u001b[38;5;241m|\u001b[39m \u001b[38;5;28;01mNone\u001b[39;00m \u001b[38;5;241m=\u001b[39m \u001b[38;5;28;01mNone\u001b[39;00m\n\u001b[1;32m-> 1448\u001b[0m \u001b[38;5;28mself\u001b[39m\u001b[38;5;241m.\u001b[39m_engine \u001b[38;5;241m=\u001b[39m \u001b[38;5;28;43mself\u001b[39;49m\u001b[38;5;241;43m.\u001b[39;49m\u001b[43m_make_engine\u001b[49m\u001b[43m(\u001b[49m\u001b[43mf\u001b[49m\u001b[43m,\u001b[49m\u001b[43m \u001b[49m\u001b[38;5;28;43mself\u001b[39;49m\u001b[38;5;241;43m.\u001b[39;49m\u001b[43mengine\u001b[49m\u001b[43m)\u001b[49m\n",
      "File \u001b[1;32mc:\\Users\\LENOVO\\AppData\\Local\\Programs\\Python\\Python311\\Lib\\site-packages\\pandas\\io\\parsers\\readers.py:1705\u001b[0m, in \u001b[0;36mTextFileReader._make_engine\u001b[1;34m(self, f, engine)\u001b[0m\n\u001b[0;32m   1703\u001b[0m     \u001b[38;5;28;01mif\u001b[39;00m \u001b[38;5;124m\"\u001b[39m\u001b[38;5;124mb\u001b[39m\u001b[38;5;124m\"\u001b[39m \u001b[38;5;129;01mnot\u001b[39;00m \u001b[38;5;129;01min\u001b[39;00m mode:\n\u001b[0;32m   1704\u001b[0m         mode \u001b[38;5;241m+\u001b[39m\u001b[38;5;241m=\u001b[39m \u001b[38;5;124m\"\u001b[39m\u001b[38;5;124mb\u001b[39m\u001b[38;5;124m\"\u001b[39m\n\u001b[1;32m-> 1705\u001b[0m \u001b[38;5;28mself\u001b[39m\u001b[38;5;241m.\u001b[39mhandles \u001b[38;5;241m=\u001b[39m \u001b[43mget_handle\u001b[49m\u001b[43m(\u001b[49m\n\u001b[0;32m   1706\u001b[0m \u001b[43m    \u001b[49m\u001b[43mf\u001b[49m\u001b[43m,\u001b[49m\n\u001b[0;32m   1707\u001b[0m \u001b[43m    \u001b[49m\u001b[43mmode\u001b[49m\u001b[43m,\u001b[49m\n\u001b[0;32m   1708\u001b[0m \u001b[43m    \u001b[49m\u001b[43mencoding\u001b[49m\u001b[38;5;241;43m=\u001b[39;49m\u001b[38;5;28;43mself\u001b[39;49m\u001b[38;5;241;43m.\u001b[39;49m\u001b[43moptions\u001b[49m\u001b[38;5;241;43m.\u001b[39;49m\u001b[43mget\u001b[49m\u001b[43m(\u001b[49m\u001b[38;5;124;43m\"\u001b[39;49m\u001b[38;5;124;43mencoding\u001b[39;49m\u001b[38;5;124;43m\"\u001b[39;49m\u001b[43m,\u001b[49m\u001b[43m \u001b[49m\u001b[38;5;28;43;01mNone\u001b[39;49;00m\u001b[43m)\u001b[49m\u001b[43m,\u001b[49m\n\u001b[0;32m   1709\u001b[0m \u001b[43m    \u001b[49m\u001b[43mcompression\u001b[49m\u001b[38;5;241;43m=\u001b[39;49m\u001b[38;5;28;43mself\u001b[39;49m\u001b[38;5;241;43m.\u001b[39;49m\u001b[43moptions\u001b[49m\u001b[38;5;241;43m.\u001b[39;49m\u001b[43mget\u001b[49m\u001b[43m(\u001b[49m\u001b[38;5;124;43m\"\u001b[39;49m\u001b[38;5;124;43mcompression\u001b[39;49m\u001b[38;5;124;43m\"\u001b[39;49m\u001b[43m,\u001b[49m\u001b[43m \u001b[49m\u001b[38;5;28;43;01mNone\u001b[39;49;00m\u001b[43m)\u001b[49m\u001b[43m,\u001b[49m\n\u001b[0;32m   1710\u001b[0m \u001b[43m    \u001b[49m\u001b[43mmemory_map\u001b[49m\u001b[38;5;241;43m=\u001b[39;49m\u001b[38;5;28;43mself\u001b[39;49m\u001b[38;5;241;43m.\u001b[39;49m\u001b[43moptions\u001b[49m\u001b[38;5;241;43m.\u001b[39;49m\u001b[43mget\u001b[49m\u001b[43m(\u001b[49m\u001b[38;5;124;43m\"\u001b[39;49m\u001b[38;5;124;43mmemory_map\u001b[39;49m\u001b[38;5;124;43m\"\u001b[39;49m\u001b[43m,\u001b[49m\u001b[43m \u001b[49m\u001b[38;5;28;43;01mFalse\u001b[39;49;00m\u001b[43m)\u001b[49m\u001b[43m,\u001b[49m\n\u001b[0;32m   1711\u001b[0m \u001b[43m    \u001b[49m\u001b[43mis_text\u001b[49m\u001b[38;5;241;43m=\u001b[39;49m\u001b[43mis_text\u001b[49m\u001b[43m,\u001b[49m\n\u001b[0;32m   1712\u001b[0m \u001b[43m    \u001b[49m\u001b[43merrors\u001b[49m\u001b[38;5;241;43m=\u001b[39;49m\u001b[38;5;28;43mself\u001b[39;49m\u001b[38;5;241;43m.\u001b[39;49m\u001b[43moptions\u001b[49m\u001b[38;5;241;43m.\u001b[39;49m\u001b[43mget\u001b[49m\u001b[43m(\u001b[49m\u001b[38;5;124;43m\"\u001b[39;49m\u001b[38;5;124;43mencoding_errors\u001b[39;49m\u001b[38;5;124;43m\"\u001b[39;49m\u001b[43m,\u001b[49m\u001b[43m \u001b[49m\u001b[38;5;124;43m\"\u001b[39;49m\u001b[38;5;124;43mstrict\u001b[39;49m\u001b[38;5;124;43m\"\u001b[39;49m\u001b[43m)\u001b[49m\u001b[43m,\u001b[49m\n\u001b[0;32m   1713\u001b[0m \u001b[43m    \u001b[49m\u001b[43mstorage_options\u001b[49m\u001b[38;5;241;43m=\u001b[39;49m\u001b[38;5;28;43mself\u001b[39;49m\u001b[38;5;241;43m.\u001b[39;49m\u001b[43moptions\u001b[49m\u001b[38;5;241;43m.\u001b[39;49m\u001b[43mget\u001b[49m\u001b[43m(\u001b[49m\u001b[38;5;124;43m\"\u001b[39;49m\u001b[38;5;124;43mstorage_options\u001b[39;49m\u001b[38;5;124;43m\"\u001b[39;49m\u001b[43m,\u001b[49m\u001b[43m \u001b[49m\u001b[38;5;28;43;01mNone\u001b[39;49;00m\u001b[43m)\u001b[49m\u001b[43m,\u001b[49m\n\u001b[0;32m   1714\u001b[0m \u001b[43m\u001b[49m\u001b[43m)\u001b[49m\n\u001b[0;32m   1715\u001b[0m \u001b[38;5;28;01massert\u001b[39;00m \u001b[38;5;28mself\u001b[39m\u001b[38;5;241m.\u001b[39mhandles \u001b[38;5;129;01mis\u001b[39;00m \u001b[38;5;129;01mnot\u001b[39;00m \u001b[38;5;28;01mNone\u001b[39;00m\n\u001b[0;32m   1716\u001b[0m f \u001b[38;5;241m=\u001b[39m \u001b[38;5;28mself\u001b[39m\u001b[38;5;241m.\u001b[39mhandles\u001b[38;5;241m.\u001b[39mhandle\n",
      "File \u001b[1;32mc:\\Users\\LENOVO\\AppData\\Local\\Programs\\Python\\Python311\\Lib\\site-packages\\pandas\\io\\common.py:863\u001b[0m, in \u001b[0;36mget_handle\u001b[1;34m(path_or_buf, mode, encoding, compression, memory_map, is_text, errors, storage_options)\u001b[0m\n\u001b[0;32m    858\u001b[0m \u001b[38;5;28;01melif\u001b[39;00m \u001b[38;5;28misinstance\u001b[39m(handle, \u001b[38;5;28mstr\u001b[39m):\n\u001b[0;32m    859\u001b[0m     \u001b[38;5;66;03m# Check whether the filename is to be opened in binary mode.\u001b[39;00m\n\u001b[0;32m    860\u001b[0m     \u001b[38;5;66;03m# Binary mode does not support 'encoding' and 'newline'.\u001b[39;00m\n\u001b[0;32m    861\u001b[0m     \u001b[38;5;28;01mif\u001b[39;00m ioargs\u001b[38;5;241m.\u001b[39mencoding \u001b[38;5;129;01mand\u001b[39;00m \u001b[38;5;124m\"\u001b[39m\u001b[38;5;124mb\u001b[39m\u001b[38;5;124m\"\u001b[39m \u001b[38;5;129;01mnot\u001b[39;00m \u001b[38;5;129;01min\u001b[39;00m ioargs\u001b[38;5;241m.\u001b[39mmode:\n\u001b[0;32m    862\u001b[0m         \u001b[38;5;66;03m# Encoding\u001b[39;00m\n\u001b[1;32m--> 863\u001b[0m         handle \u001b[38;5;241m=\u001b[39m \u001b[38;5;28;43mopen\u001b[39;49m\u001b[43m(\u001b[49m\n\u001b[0;32m    864\u001b[0m \u001b[43m            \u001b[49m\u001b[43mhandle\u001b[49m\u001b[43m,\u001b[49m\n\u001b[0;32m    865\u001b[0m \u001b[43m            \u001b[49m\u001b[43mioargs\u001b[49m\u001b[38;5;241;43m.\u001b[39;49m\u001b[43mmode\u001b[49m\u001b[43m,\u001b[49m\n\u001b[0;32m    866\u001b[0m \u001b[43m            \u001b[49m\u001b[43mencoding\u001b[49m\u001b[38;5;241;43m=\u001b[39;49m\u001b[43mioargs\u001b[49m\u001b[38;5;241;43m.\u001b[39;49m\u001b[43mencoding\u001b[49m\u001b[43m,\u001b[49m\n\u001b[0;32m    867\u001b[0m \u001b[43m            \u001b[49m\u001b[43merrors\u001b[49m\u001b[38;5;241;43m=\u001b[39;49m\u001b[43merrors\u001b[49m\u001b[43m,\u001b[49m\n\u001b[0;32m    868\u001b[0m \u001b[43m            \u001b[49m\u001b[43mnewline\u001b[49m\u001b[38;5;241;43m=\u001b[39;49m\u001b[38;5;124;43m\"\u001b[39;49m\u001b[38;5;124;43m\"\u001b[39;49m\u001b[43m,\u001b[49m\n\u001b[0;32m    869\u001b[0m \u001b[43m        \u001b[49m\u001b[43m)\u001b[49m\n\u001b[0;32m    870\u001b[0m     \u001b[38;5;28;01melse\u001b[39;00m:\n\u001b[0;32m    871\u001b[0m         \u001b[38;5;66;03m# Binary mode\u001b[39;00m\n\u001b[0;32m    872\u001b[0m         handle \u001b[38;5;241m=\u001b[39m \u001b[38;5;28mopen\u001b[39m(handle, ioargs\u001b[38;5;241m.\u001b[39mmode)\n",
      "\u001b[1;31mFileNotFoundError\u001b[0m: [Errno 2] No such file or directory: '/home/onyxia/work/Maps_cultural_life_Paris/Ressources/Data/ListeCinema.csv'"
     ]
    }
   ],
   "source": [
    "DataCinemaParis = pd.read_csv('/home/onyxia/work/Maps_cultural_life_Paris/Ressources/Data/ListeCinema.csv', sep = ';')\n",
    "DataCinemaParis = DataCinemaParis[DataCinemaParis['dep'] == 75]\n",
    "DataCinemaParis.head()"
   ]
  },
  {
   "cell_type": "markdown",
   "metadata": {},
   "source": [
    "#### General statistics\n",
    "This section deals with general statistics made on cinemas in Paris."
   ]
  },
  {
   "cell_type": "code",
   "execution_count": null,
   "metadata": {},
   "outputs": [],
   "source": [
    "DataCinemaParis.shape"
   ]
  },
  {
   "cell_type": "code",
   "execution_count": null,
   "metadata": {},
   "outputs": [],
   "source": [
    "print(DataCinemaParis['ecrans'].mean())\n",
    "print(DataCinemaParis['fauteuils'].mean())"
   ]
  },
  {
   "cell_type": "code",
   "execution_count": null,
   "metadata": {},
   "outputs": [],
   "source": [
    "mean_per_disctrict = DataCinemaParis.groupby('commune')['fauteuils'].mean()\n",
    "print(mean_per_disctrict)\n"
   ]
  },
  {
   "cell_type": "markdown",
   "metadata": {},
   "source": [
    "#### Theater"
   ]
  },
  {
   "cell_type": "code",
   "execution_count": null,
   "metadata": {},
   "outputs": [],
   "source": [
    "df = pd.read_csv('/home/onyxia/work/Maps_cultural_life_Paris/Outputs/DataSets/DataTheatre_base_finale.csv', sep=';')"
   ]
  },
  {
   "cell_type": "markdown",
   "metadata": {},
   "source": [
    "We are looking for the number of plays per district\n",
    "\n",
    "This first step helps us understand the cultural activity you will find in each district of Paris\n"
   ]
  },
  {
   "cell_type": "code",
   "execution_count": null,
   "metadata": {},
   "outputs": [],
   "source": [
    "result_df = df.groupby('commune')['etablissement'].count().reset_index()\n",
    "result_df = result_df.rename(columns={'etablissement': 'nombre_de_pieces'})\n",
    "print(result_df)"
   ]
  },
  {
   "cell_type": "code",
   "execution_count": null,
   "metadata": {},
   "outputs": [],
   "source": [
    "result_df['arrondissement'] = result_df['commune'].str.extract('(\\d+)', expand=False).astype(int)\n",
    "df_classe = result_df.sort_values(by='arrondissement')\n",
    "print(df_classe)"
   ]
  },
  {
   "cell_type": "code",
   "execution_count": null,
   "metadata": {},
   "outputs": [],
   "source": [
    "fig, ax = plt.subplots(figsize=(20, max(6, len(result_df) * 0.3)))\n",
    "ax.bar(result_df['commune'], result_df['nombre_de_pieces'], color='blue')\n",
    "ax.set_title('Nombre de pièces par quartier')\n",
    "plt.tight_layout()\n",
    "plt.show()"
   ]
  },
  {
   "cell_type": "markdown",
   "metadata": {},
   "source": [
    "We are looking for the number of plays per theatre.\n",
    "\n",
    "In this second step, we extract the number of different plays each theater will propose from now on until the end of the season (june) "
   ]
  },
  {
   "cell_type": "code",
   "execution_count": null,
   "metadata": {},
   "outputs": [],
   "source": [
    "df_pieces_par_etablissement = df.groupby('etablissement')['nom'].count().reset_index()\n",
    "df_pieces_par_etablissement = df_pieces_par_etablissement.rename(columns={'nom': 'nombre_de_pieces'})\n",
    "print(df_pieces_par_etablissement)"
   ]
  },
  {
   "cell_type": "markdown",
   "metadata": {},
   "source": [
    "We are looking for the mean price per quarter"
   ]
  },
  {
   "cell_type": "code",
   "execution_count": null,
   "metadata": {},
   "outputs": [],
   "source": [
    "\n",
    "df['prix moyen'] = df['prix moyen'].astype(str)\n",
    "df['prix moyen'] = pd.to_numeric(df['prix moyen'].str.extract('(\\d+)')[0], errors='coerce')\n",
    "df['prix moyen'] = df['prix moyen'].round(1)\n",
    "df_prix_moyen = df.groupby('commune')['prix moyen'].mean().reset_index()\n",
    "print(df_prix_moyen)"
   ]
  },
  {
   "cell_type": "code",
   "execution_count": null,
   "metadata": {},
   "outputs": [],
   "source": [
    "df_prix_moyen['arrondissement'] = df_prix_moyen['commune'].str.extract('(\\d+)', expand=False).astype(int)\n",
    "df_ordonne = df_prix_moyen.sort_values(by='arrondissement')\n",
    "print(df_ordonne)"
   ]
  },
  {
   "cell_type": "code",
   "execution_count": null,
   "metadata": {},
   "outputs": [],
   "source": [
    "from sklearn.model_selection import train_test_split\n",
    "from sklearn.linear_model import LinearRegression\n",
    "from sklearn.metrics import mean_squared_error"
   ]
  },
  {
   "cell_type": "markdown",
   "metadata": {},
   "source": [
    "We will have a closer look at Paris's district to test if their level of wealth has a significant impact on the price of theatre's tickets\n",
    "\n",
    "At first sight, it seems logicial that the more wealthy a quarter is, the higher prices will be. But how to measure it effectively ? In fact, it is difficult to measure quarter's wealth. We decided to use a simple indicator: the price of a square meter in every quarter assuming that the higher it is, the higher the purchasing power of its inhabitant will be.\n",
    "\n",
    "First step: we scraped a website with the 2023-data and saved them in the 'Prixm2' csv file"
   ]
  },
  {
   "cell_type": "code",
   "execution_count": null,
   "metadata": {},
   "outputs": [],
   "source": [
    "import bs4\n",
    "import lxml\n",
    "import pandas as pd\n",
    "import urllib\n",
    "from bs4 import BeautifulSoup\n",
    "from urllib import request\n",
    "import numpy as np"
   ]
  },
  {
   "cell_type": "code",
   "execution_count": null,
   "metadata": {},
   "outputs": [],
   "source": [
    "url = 'https://www.journaldunet.com/patrimoine/prix-immobilier/paris/ville-75056'\n",
    "request_text = request.urlopen(url).read()\n",
    "page = bs4.BeautifulSoup(request_text, 'html.parser')"
   ]
  },
  {
   "cell_type": "code",
   "execution_count": null,
   "metadata": {},
   "outputs": [],
   "source": [
    "rows = page.find_all('tr')\n",
    "informations = []\n",
    "\n",
    "for row in rows:\n",
    "    link = row.find('a')\n",
    "    columns = row.find_all('td')\n",
    "    if link and len(columns) > 1:\n",
    "        arrondissement = link.text.strip()\n",
    "        prix = columns[1].text.strip()\n",
    "        informations.append({'arrondissement': arrondissement, 'prix': prix})\n",
    "\n",
    "df2 = pd.DataFrame(informations)\n",
    "\n",
    "df2['prix'] = df2['prix'].str.replace('\\D', '', regex=True).astype(int) #removes all the non-numerical (but keeps the 2 of the m2) \n",
    "df2['prix'] = df2['prix'].astype(str).str[:-1].astype(int) #removes the last figure of our number (here the 2 from 'm2')\n",
    "\n",
    "df2.to_csv('Prixm2.csv', index = False)"
   ]
  },
  {
   "cell_type": "code",
   "execution_count": null,
   "metadata": {},
   "outputs": [],
   "source": [
    "# Regression of the price of the ticket on the price of the square meter\n"
   ]
  },
  {
   "cell_type": "code",
   "execution_count": null,
   "metadata": {},
   "outputs": [],
   "source": [
    "X=df2['prix']\n",
    "y = df_ordonne['prix moyen']\n",
    "X = X.values.reshape(-1, 1)\n",
    "model1 = LinearRegression()\n",
    "model1.fit(X,y)\n",
    "y_pred = model1.predict(X)\n",
    "plt.scatter(X, y)\n",
    "plt.plot(X, y_pred, color='red', linewidth=1.5)\n",
    "plt.xlabel('Prix du m2 dans l arrondissement')\n",
    "plt.ylabel('Prix du billet')\n",
    "plt.show()"
   ]
  },
  {
   "cell_type": "code",
   "execution_count": null,
   "metadata": {},
   "outputs": [],
   "source": [
    "print(\"Pente :\", model1.coef_)\n",
    "print(\"Fixe :\", model1.intercept_)"
   ]
  },
  {
   "cell_type": "markdown",
   "metadata": {},
   "source": [
    "Some conclusions:\n",
    "\n",
    "1- our initial intuition seems to be right: the higher the square meter costs, the higher the ticket price is. \n",
    "\n",
    "2- our "
   ]
  },
  {
   "cell_type": "code",
   "execution_count": null,
   "metadata": {},
   "outputs": [],
   "source": [
    "A = df_classe['nombre_de_pieces']\n",
    "b = df_ordonne['prix moyen']\n",
    "A= A.values.reshape(-1, 1)\n",
    "model2 = LinearRegression()\n",
    "model2.fit(A,b)\n",
    "b_pred = model2.predict(A)\n",
    "plt.scatter(A, b)\n",
    "plt.plot(A, b_pred, color='yellow', linewidth=1.5)\n",
    "plt.xlabel('Nombre de pieces dans le quartier')\n",
    "plt.ylabel('Prix du billet')\n",
    "plt.show()"
   ]
  },
  {
   "cell_type": "code",
   "execution_count": null,
   "metadata": {},
   "outputs": [],
   "source": [
    "print(\"Pente :\", model2.coef_)\n",
    "print(\"Fixe :\", model2.intercept_)"
   ]
  },
  {
   "cell_type": "markdown",
   "metadata": {},
   "source": [
    "### Concerts"
   ]
  },
  {
   "cell_type": "markdown",
   "metadata": {},
   "source": [
    "## **III. Scrapping** \n",
    "\n",
    "We collected most of our Data using webscrapping. We used BeautifulSoup4 to webscrap the most relevant sites for our project. An error may occur while running the algorithm or some cell may take lots of time to run due to long API request. We don't recommend you to run it, except if you want to try to update the Databases that are stored in the Output sections.\n",
    "\n",
    "\n"
   ]
  }
 ],
 "metadata": {
  "kernelspec": {
   "display_name": "base",
   "language": "python",
   "name": "python3"
  },
  "language_info": {
   "codemirror_mode": {
    "name": "ipython",
    "version": 3
   },
   "file_extension": ".py",
   "mimetype": "text/x-python",
   "name": "python",
   "nbconvert_exporter": "python",
   "pygments_lexer": "ipython3",
   "version": "3.11.5"
  }
 },
 "nbformat": 4,
 "nbformat_minor": 2
}
