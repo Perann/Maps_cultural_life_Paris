{
 "cells": [
  {
   "cell_type": "code",
   "execution_count": 50,
   "id": "1de6f7ab-0e19-492c-879d-86409e9f4d43",
   "metadata": {},
   "outputs": [
    {
     "name": "stdin",
     "output_type": "stream",
     "text": [
      "Veuillez entrer une date (format YYYY-MM-DD) :  2024-03-14\n"
     ]
    }
   ],
   "source": [
    "import folium\n",
    "import os\n",
    "import pandas as pd\n",
    "from datetime import datetime\n",
    "\n",
    "data = pd.read_csv('DataTheatre_base_finale.csv', sep=';')\n",
    "\n",
    "user_date_str = input(\"Veuillez entrer une date (format YYYY-MM-DD) : \")\n",
    "\n",
    "user_date = datetime.strptime(user_date_str, '%Y-%m-%d')\n",
    "\n",
    "data['date début'] = pd.to_datetime(data['date début'])\n",
    "data['date fin'] = pd.to_datetime(data['date fin'])\n",
    "\n",
    "filtered_data = data[(data['date début'] <= user_date) & (user_date <= data['date fin'])]\n",
    "\n",
    "paris_coordinates = [48.8566, 2.3522]\n",
    "my_map = folium.Map(location=paris_coordinates, zoom_start=12)\n",
    "\n",
    "for index, row in filtered_data.iterrows():\n",
    "    establishment_name = row['etablissement']\n",
    "    address = row['adresse']\n",
    "    show_name = row['nom']\n",
    "    average_price = row['prix moyen']\n",
    "\n",
    "    coordinates = [float(coord.strip('()')) for coord in row['Coordonnees'].split(',')]\n",
    "\n",
    "    popup_text = f\"<b>{establishment_name}</b><br>Adresse: {address}<br>Pièce: {show_name}<br>Prix moyen: {average_price} €\"\n",
    "\n",
    "    folium.Marker(location=coordinates, popup=popup_text).add_to(my_map)\n",
    "\n",
    "my_map.save(\"Theatre.html\")\n"
   ]
  },
  {
   "cell_type": "code",
   "execution_count": null,
   "id": "b84991ff-df81-4208-a3a1-aee0a7ed5528",
   "metadata": {},
   "outputs": [],
   "source": []
  }
 ],
 "metadata": {
  "kernelspec": {
   "display_name": "Python 3 (ipykernel)",
   "language": "python",
   "name": "python3"
  },
  "language_info": {
   "codemirror_mode": {
    "name": "ipython",
    "version": 3
   },
   "file_extension": ".py",
   "mimetype": "text/x-python",
   "name": "python",
   "nbconvert_exporter": "python",
   "pygments_lexer": "ipython3",
   "version": "3.10.13"
  }
 },
 "nbformat": 4,
 "nbformat_minor": 5
}
