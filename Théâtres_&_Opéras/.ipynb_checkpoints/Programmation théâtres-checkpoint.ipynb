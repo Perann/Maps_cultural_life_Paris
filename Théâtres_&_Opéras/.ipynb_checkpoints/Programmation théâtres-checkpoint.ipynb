{
 "cells": [
  {
   "cell_type": "code",
   "execution_count": null,
   "id": "c7c6a74c-544a-4780-a492-1c9d28cc448f",
   "metadata": {},
   "outputs": [],
   "source": [
    "# Récupération des informations de la page \"pièces de théâtre à Paris"
   ]
  },
  {
   "cell_type": "code",
   "execution_count": null,
   "id": "3c852588-adc1-4734-adbc-f3950eda0c18",
   "metadata": {},
   "outputs": [],
   "source": [
    "!pip install -q lxml\n",
    "\n",
    "import bs4\n",
    "import lxml\n",
    "import pandas as pd\n",
    "import urllib\n",
    "\n",
    "from urllib import request\n",
    "\n",
    "url_liste_etablissements = \""
   ]
  }
 ],
 "metadata": {
  "kernelspec": {
   "display_name": "Python 3 (ipykernel)",
   "language": "python",
   "name": "python3"
  },
  "language_info": {
   "codemirror_mode": {
    "name": "ipython",
    "version": 3
   },
   "file_extension": ".py",
   "mimetype": "text/x-python",
   "name": "python",
   "nbconvert_exporter": "python",
   "pygments_lexer": "ipython3",
   "version": "3.10.13"
  }
 },
 "nbformat": 4,
 "nbformat_minor": 5
}
