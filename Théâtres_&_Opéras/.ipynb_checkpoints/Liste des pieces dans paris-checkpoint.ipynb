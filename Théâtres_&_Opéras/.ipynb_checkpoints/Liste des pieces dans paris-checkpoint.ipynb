{
 "cells": [
  {
   "cell_type": "code",
   "execution_count": 1,
   "id": "56247305-9ff2-4a2d-a3cc-d77e0395c7f6",
   "metadata": {},
   "outputs": [],
   "source": [
    "!pip install -q lxml\n",
    "\n",
    "import bs4\n",
    "import lxml\n",
    "import pandas as pd\n",
    "import urllib\n",
    "\n",
    "from urllib import request\n",
    "\n",
    "url_liste_etablissements = \"https://www.offi.fr/theatre/pieces-de-theatre.html?criterion_sch_ville=75\"\n",
    "    \n",
    "request_text = request.urlopen(url_liste_etablissements).read()\n",
    "type(request_text)\n",
    "\n",
    "page = bs4.BeautifulSoup(request_text, \"lxml\")"
   ]
  },
  {
   "cell_type": "code",
   "execution_count": 8,
   "id": "dc30c700-766a-4fda-b7fa-7065454187e7",
   "metadata": {},
   "outputs": [
    {
     "name": "stdout",
     "output_type": "stream",
     "text": [
      "Du 9 octobre 2023 au 31 mars 2024\n",
      "Du 14 septembre 2023 au 28 janvier 2024\n",
      "Du 6 décembre 2023 au 3 mars 2024\n",
      "Du 7 janvier 2022 au 30 juin 2024\n",
      "Du 19 août 2022 au 31 décembre 2023\n",
      "Du 15 septembre 2023 au 5 mai 2024\n",
      "Du 11 octobre 2023 au 25 février 2024\n",
      "Du 17 août 2023 au 15 juin 2024\n",
      "Du 9 juin 2021 au 18 mai 2024\n",
      "Du 27 septembre 2023 au 31 décembre 2023\n",
      "Du 22 juin 2019 au 2 février 2025\n",
      "Du 12 octobre 2023 au 31 mars 2024\n",
      "Du 1 décembre 2023 au 28 janvier 2024\n",
      "Du 2 décembre 2023 au 31 décembre 2023\n",
      "Du 17 août 2023 au 7 janvier 2024\n"
     ]
    }
   ],
   "source": [
    "divs_with_class = page.find_all('div', class_='has-padding-left-20 has-padding-right-20 has-padding-bottom-20')\n",
    "\n",
    "infos_dates = [div.find('b').text.strip() for div in divs_with_class]\n",
    "\n",
    "for info in infos_dates:\n",
    "    print(info)"
   ]
  },
  {
   "cell_type": "code",
   "execution_count": 9,
   "id": "62c23189-2a1b-4445-a449-d0346b23e5a2",
   "metadata": {},
   "outputs": [
    {
     "name": "stdout",
     "output_type": "stream",
     "text": [
      "Samy et Manon se marient dans 24h et ils ont décidé de fêter leur enterrement de vie de célibataires avec leurs amis. Samy rencontre alors une jolie inconnue…\n",
      "La Maison du loup, c'est le repaire de l'écrivain américain Jack London où il vit avec Charmian, sa partenaire. Le mystérieux Ed, porteur d'un lourd secret, leur rend visite.\n",
      "Cette pièce présente une série de conversations tenues par un groupe d’acteurs russes alors qu’ils sont loin de chez eux et que des dangers politiques et financiers font pression sur eux de tous côtés.\n",
      "Le jour de ses 35 ans, Max se rend compte qu’il est passé à côté de sa vie. Paralysé à l’idée de faire le mauvais choix, il décide de demander conseil auprès de ses amis : le public.\n",
      "Depuis qu’ils ont visité un appartement pour s’installer ensemble, Arnaud a un léger doute : Marion a-t-elle eu un coup de cœur pour l’agent immobilier ? Par pur hasard, il rencontre le sosie de celui-ci…\n",
      "Dolorès est coincée, distinguée et timide mais aujourd'hui c'est décidé, elle veut devenir une « connasse » ! Elle compte bien entendu sur Alex, un ami bourreau des cœurs, pour l'aider.\n",
      "Pierre, Jules et Louise s’adorent et aiment profondément leurs parents. Lorsque ces derniers leur demandent de venir les rejoindre d’urgence, les trois enfants bouleversés se précipitent.\n",
      "Paris, décembre 1897. Edmond Rostand n’a rien écrit depuis deux ans. En désespoir de cause, il propose au grand Constant Coquelin une pièce nouvelle. Seul souci : elle n’est pas encore écrite…\n",
      "Une comédie policière interactive. Un meurtre est commis chaque soir et c’est au public de résoudre l’enquête...\n",
      "Le jour de ses noces, Fadinard voit son cheval manger le chapeau paille d’une dame, en pleine « affaire » avec son amant. Fadinard est alors contraint de se lancer à la recherche d’un chapeau identique.\n",
      "​Les parents d'Alexandre sont fâchés depuis toujours. À l'occasion de ses 30 ans, il souhaite leur demander d'être les témoins de son mariage.\n",
      "Frank est un commerçant un peu roublard qui s’offre une petite parenthèse tranquille d’un week-end. Mais ça ne va pas tout à fait se passer comme prévu.\n",
      "Une soirée entre deux couples richissimes. Tout aurait pu bien se passer, si un coach spirituel, gourou sur les bords, ne les avait pas accompagnés au dîner. Le vernis va finir par craquer...\n",
      "Le 6 mai 1938, alors que Hitler rencontre Mussolini à Rome lors d’un défilé marquant l’entente fasciste de l’Allemagne et l’Italie, une rencontre inattendue a lieu dans un immeuble déserté.\n",
      "Violette est garde-cimetière. Un jour, parce qu’un homme découvre que sa mère veut être enterrée auprès d’un inconnu, tout bascule. Des liens, qui unissent vivants et morts, sont exhumés.\n"
     ]
    }
   ],
   "source": [
    "paragraphes_with_class = page.find_all('p', class_='card-text mb-auto')\n",
    "\n",
    "infos_resume = [paragraphe.text.strip() for paragraphe in paragraphes_with_class]\n",
    "\n",
    "for info in infos_resume:\n",
    "    print(info)"
   ]
  },
  {
   "cell_type": "code",
   "execution_count": 10,
   "id": "43ed9fb7-6062-4e38-81aa-37981a39f697",
   "metadata": {},
   "outputs": [
    {
     "name": "stdout",
     "output_type": "stream",
     "text": [
      "Tout va bien se passer\n",
      "Comédie Saint-Martin\n",
      "La Maison du loup\n",
      "Théâtre Rive Gauche\n",
      "Notre vie dans l'Art\n",
      "Théâtre du Soleil - Cartoucherie\n",
      "L'Embarras du choix\n",
      "Théâtre de la Gaîté-Montparnasse\n",
      "Une idée géniale\n",
      "Théâtre Michel\n",
      "C'est décidé, je deviens une connasse !\n",
      "Comédie Oberkampf\n",
      "Chers parents\n",
      "Théâtre de Paris\n",
      "Edmond\n",
      "Théâtre du Palais-Royal\n",
      "Dernier coup de ciseaux\n",
      "Théâtre des Mathurins\n",
      "Un chapeau de paille d'Italie\n",
      "Théâtre de la Porte Saint-Martin\n",
      "Dîner de famille\n",
      "Café de la Gare\n",
      "Hernie fiscale\n",
      "Comédie Saint-Martin\n",
      "Un chalet à Gstaad\n",
      "Théâtre des Nouveautés\n",
      "Une journée particulière\n",
      "Théâtre de l'Atelier\n",
      "Changer l'eau des fleurs\n",
      "Théâtre de la Renaissance\n"
     ]
    }
   ],
   "source": [
    "name_with_class = page.find_all('a', class_='text-body')\n",
    "\n",
    "infos = [name.text.strip() for name in name_with_class]\n",
    "\n",
    "for info in infos:\n",
    "    print(info)"
   ]
  },
  {
   "cell_type": "code",
   "execution_count": 7,
   "id": "1547fe65-d84c-4ad8-a8d9-329ea9594704",
   "metadata": {},
   "outputs": [
    {
     "name": "stdout",
     "output_type": "stream",
     "text": [
      "Pièces : ['Tout va bien se passer', 'La Maison du loup', \"Notre vie dans l'Art\", \"L'Embarras du choix\", 'Une idée géniale', \"C'est décidé, je deviens une connasse !\", 'Chers parents', 'Edmond', 'Dernier coup de ciseaux', \"Un chapeau de paille d'Italie\", 'Dîner de famille', 'Hernie fiscale', 'Un chalet à Gstaad', 'Une journée particulière', \"Changer l'eau des fleurs\"]\n",
      "Théâtre : ['Comédie Saint-Martin', 'Théâtre Rive Gauche', 'Théâtre du Soleil - Cartoucherie', 'Théâtre de la Gaîté-Montparnasse', 'Théâtre Michel', 'Comédie Oberkampf', 'Théâtre de Paris', 'Théâtre du Palais-Royal', 'Théâtre des Mathurins', 'Théâtre de la Porte Saint-Martin', 'Café de la Gare', 'Comédie Saint-Martin', 'Théâtre des Nouveautés', \"Théâtre de l'Atelier\", 'Théâtre de la Renaissance']\n"
     ]
    }
   ],
   "source": [
    "def separate_even_odd_indices(input_list):\n",
    "    even_indices = []\n",
    "    odd_indices = []\n",
    "\n",
    "    for index, element in enumerate(input_list):\n",
    "        if index % 2 == 0:\n",
    "            even_indices.append(element)\n",
    "        else:\n",
    "            odd_indices.append(element)\n",
    "\n",
    "    return even_indices, odd_indices\n",
    "\n",
    "\n",
    "result_even, result_odd = separate_even_odd_indices(infos)\n",
    "\n",
    "print(\"Pièces :\", result_even)\n",
    "print(\"Théâtre :\", result_odd)\n"
   ]
  },
  {
   "cell_type": "code",
   "execution_count": 14,
   "id": "a813a44a-6b04-4cf3-9582-9f65661976fc",
   "metadata": {},
   "outputs": [
    {
     "name": "stdout",
     "output_type": "stream",
     "text": [
      "                                       Dates  \\\n",
      "0          Du 9 octobre 2023 au 31 mars 2024   \n",
      "1    Du 14 septembre 2023 au 28 janvier 2024   \n",
      "2          Du 6 décembre 2023 au 3 mars 2024   \n",
      "3          Du 7 janvier 2022 au 30 juin 2024   \n",
      "4        Du 19 août 2022 au 31 décembre 2023   \n",
      "5         Du 15 septembre 2023 au 5 mai 2024   \n",
      "6      Du 11 octobre 2023 au 25 février 2024   \n",
      "7            Du 17 août 2023 au 15 juin 2024   \n",
      "8              Du 9 juin 2021 au 18 mai 2024   \n",
      "9   Du 27 septembre 2023 au 31 décembre 2023   \n",
      "10         Du 22 juin 2019 au 2 février 2025   \n",
      "11        Du 12 octobre 2023 au 31 mars 2024   \n",
      "12     Du 1 décembre 2023 au 28 janvier 2024   \n",
      "13    Du 2 décembre 2023 au 31 décembre 2023   \n",
      "14         Du 17 août 2023 au 7 janvier 2024   \n",
      "\n",
      "                                               Résumé  \\\n",
      "0   Samy et Manon se marient dans 24h et ils ont d...   \n",
      "1   La Maison du loup, c'est le repaire de l'écriv...   \n",
      "2   Cette pièce présente une série de conversation...   \n",
      "3   Le jour de ses 35 ans, Max se rend compte qu’i...   \n",
      "4   Depuis qu’ils ont visité un appartement pour s...   \n",
      "5   Dolorès est coincée, distinguée et timide mais...   \n",
      "6   Pierre, Jules et Louise s’adorent et aiment pr...   \n",
      "7   Paris, décembre 1897. Edmond Rostand n’a rien ...   \n",
      "8   Une comédie policière interactive. Un meurtre ...   \n",
      "9   Le jour de ses noces, Fadinard voit son cheval...   \n",
      "10  ​Les parents d'Alexandre sont fâchés depuis to...   \n",
      "11  Frank est un commerçant un peu roublard qui s’...   \n",
      "12  Une soirée entre deux couples richissimes. Tou...   \n",
      "13  Le 6 mai 1938, alors que Hitler rencontre Muss...   \n",
      "14  Violette est garde-cimetière. Un jour, parce q...   \n",
      "\n",
      "                                      Pièce                           Théâtre  \n",
      "0                    Tout va bien se passer              Comédie Saint-Martin  \n",
      "1                         La Maison du loup               Théâtre Rive Gauche  \n",
      "2                      Notre vie dans l'Art  Théâtre du Soleil - Cartoucherie  \n",
      "3                       L'Embarras du choix  Théâtre de la Gaîté-Montparnasse  \n",
      "4                          Une idée géniale                    Théâtre Michel  \n",
      "5   C'est décidé, je deviens une connasse !                 Comédie Oberkampf  \n",
      "6                             Chers parents                  Théâtre de Paris  \n",
      "7                                    Edmond           Théâtre du Palais-Royal  \n",
      "8                   Dernier coup de ciseaux             Théâtre des Mathurins  \n",
      "9             Un chapeau de paille d'Italie  Théâtre de la Porte Saint-Martin  \n",
      "10                         Dîner de famille                   Café de la Gare  \n",
      "11                           Hernie fiscale              Comédie Saint-Martin  \n",
      "12                       Un chalet à Gstaad            Théâtre des Nouveautés  \n",
      "13                 Une journée particulière              Théâtre de l'Atelier  \n",
      "14                 Changer l'eau des fleurs         Théâtre de la Renaissance  \n"
     ]
    }
   ],
   "source": [
    "import pandas as pd\n",
    "\n",
    "df = pd.DataFrame({\n",
    "    'Dates': infos_dates,\n",
    "    'Résumé': infos_resume,\n",
    "    'Pièce': result_even, \n",
    "    'Théâtre': result_odd  \n",
    "})\n",
    "\n",
    "print(df)\n"
   ]
  },
  {
   "cell_type": "code",
   "execution_count": null,
   "id": "63aed925-951c-4cef-886e-850388cc572c",
   "metadata": {},
   "outputs": [],
   "source": []
  }
 ],
 "metadata": {
  "kernelspec": {
   "display_name": "Python 3 (ipykernel)",
   "language": "python",
   "name": "python3"
  },
  "language_info": {
   "codemirror_mode": {
    "name": "ipython",
    "version": 3
   },
   "file_extension": ".py",
   "mimetype": "text/x-python",
   "name": "python",
   "nbconvert_exporter": "python",
   "pygments_lexer": "ipython3",
   "version": "3.10.13"
  }
 },
 "nbformat": 4,
 "nbformat_minor": 5
}
