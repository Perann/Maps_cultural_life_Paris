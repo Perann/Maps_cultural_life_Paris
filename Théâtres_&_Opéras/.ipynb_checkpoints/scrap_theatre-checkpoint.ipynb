{
 "cells": [
  {
   "cell_type": "code",
   "execution_count": null,
   "id": "55d4cbf5-1e73-4942-8ac6-6f7287a6b362",
   "metadata": {},
   "outputs": [],
   "source": [
    "# Recupération de la liste des théâtres et Opéras de paris via Wikipédia"
   ]
  },
  {
   "cell_type": "code",
   "execution_count": 2,
   "id": "e02bfc99-62b3-46fa-bf50-2e652c85686a",
   "metadata": {},
   "outputs": [
    {
     "data": {
      "text/html": [
       "<div>\n",
       "<style scoped>\n",
       "    .dataframe tbody tr th:only-of-type {\n",
       "        vertical-align: middle;\n",
       "    }\n",
       "\n",
       "    .dataframe tbody tr th {\n",
       "        vertical-align: top;\n",
       "    }\n",
       "\n",
       "    .dataframe thead th {\n",
       "        text-align: right;\n",
       "    }\n",
       "</style>\n",
       "<table border=\"1\" class=\"dataframe\">\n",
       "  <thead>\n",
       "    <tr style=\"text-align: right;\">\n",
       "      <th></th>\n",
       "      <th>Adresse</th>\n",
       "      <th>Arr.</th>\n",
       "      <th>Date D'Ouverture</th>\n",
       "      <th>Nombre De Sièges</th>\n",
       "      <th>Notes</th>\n",
       "    </tr>\n",
       "  </thead>\n",
       "  <tbody>\n",
       "    <tr>\n",
       "      <th>Théâtre Adyar</th>\n",
       "      <td>4, square Rapp</td>\n",
       "      <td>7e</td>\n",
       "      <td>1912</td>\n",
       "      <td>381</td>\n",
       "      <td></td>\n",
       "    </tr>\n",
       "    <tr>\n",
       "      <th>Aktéon</th>\n",
       "      <td>11, rue du Général-Blaise</td>\n",
       "      <td>11e</td>\n",
       "      <td>1986</td>\n",
       "      <td>60</td>\n",
       "      <td></td>\n",
       "    </tr>\n",
       "    <tr>\n",
       "      <th>Antre Magique</th>\n",
       "      <td>50, rue Saint-Georges</td>\n",
       "      <td>9e</td>\n",
       "      <td></td>\n",
       "      <td>49</td>\n",
       "      <td></td>\n",
       "    </tr>\n",
       "    <tr>\n",
       "      <th>Artistic Athévains</th>\n",
       "      <td>45 bis, rue Richard-Lenoir</td>\n",
       "      <td>11e</td>\n",
       "      <td>Début XXe siècle</td>\n",
       "      <td>220</td>\n",
       "      <td>Ancien nom : L'Artistic, Folies Artistic, Arti...</td>\n",
       "    </tr>\n",
       "    <tr>\n",
       "      <th>A la Folie Théâtre</th>\n",
       "      <td>6, rue de la Folie-Méricourt</td>\n",
       "      <td>11e</td>\n",
       "      <td>2008</td>\n",
       "      <td>94 et 49</td>\n",
       "      <td>Ancien nom : théâtre de l'Epouventail</td>\n",
       "    </tr>\n",
       "  </tbody>\n",
       "</table>\n",
       "</div>"
      ],
      "text/plain": [
       "                                         Adresse Arr.  Date D'Ouverture  \\\n",
       "Théâtre Adyar                     4, square Rapp   7e              1912   \n",
       "Aktéon                 11, rue du Général-Blaise  11e              1986   \n",
       "Antre Magique              50, rue Saint-Georges   9e                     \n",
       "Artistic Athévains    45 bis, rue Richard-Lenoir  11e  Début XXe siècle   \n",
       "A la Folie Théâtre  6, rue de la Folie-Méricourt  11e              2008   \n",
       "\n",
       "                   Nombre De Sièges  \\\n",
       "Théâtre Adyar                   381   \n",
       "Aktéon                           60   \n",
       "Antre Magique                    49   \n",
       "Artistic Athévains              220   \n",
       "A la Folie Théâtre         94 et 49   \n",
       "\n",
       "                                                                Notes  \n",
       "Théâtre Adyar                                                          \n",
       "Aktéon                                                                 \n",
       "Antre Magique                                                          \n",
       "Artistic Athévains  Ancien nom : L'Artistic, Folies Artistic, Arti...  \n",
       "A la Folie Théâtre              Ancien nom : théâtre de l'Epouventail  "
      ]
     },
     "execution_count": 2,
     "metadata": {},
     "output_type": "execute_result"
    }
   ],
   "source": [
    "!pip install -q lxml\n",
    "\n",
    "import bs4\n",
    "import lxml\n",
    "import pandas as pd\n",
    "import urllib\n",
    "\n",
    "from urllib import request\n",
    "\n",
    "url_liste_etablissements = \"https://fr.wikipedia.org/wiki/Liste_des_th%C3%A9%C3%A2tres_et_op%C3%A9ras_de_Paris\"\n",
    "    \n",
    "request_text = request.urlopen(url_liste_etablissements).read()\n",
    "type(request_text)\n",
    "\n",
    "page = bs4.BeautifulSoup(request_text, \"lxml\")\n",
    "\n",
    "tableau_etablissements = page.find(\"table\", {\"class\":\"wikitable sortable\"})\n",
    "\n",
    "table_body = tableau_etablissements.find(\"tbody\")\n",
    "rows = table_body.find_all(\"tr\")\n",
    "\n",
    "for row in rows:\n",
    "    cols = row.find_all('td')\n",
    "    cols = [ele.text.strip() for ele in cols]\n",
    "\n",
    "\n",
    "dico_etablissements = dict()\n",
    "for row in rows:\n",
    "    cols = row.find_all('td')\n",
    "    cols = [ele.text.strip() for ele in cols]\n",
    "    if len(cols) > 0 : \n",
    "        dico_etablissements[cols[0]] = cols[1:]\n",
    "\n",
    "data_etablissements = pd.DataFrame.from_dict(dico_etablissements,orient='index')\n",
    "data_etablissements.head()\n",
    "\n",
    "for row in rows:\n",
    "    cols = row.find_all('th')\n",
    "    if len(cols) > 0 : \n",
    "        cols = [ele.get_text(separator=' ').strip().title() for ele in cols]\n",
    "        columns_etablissements = cols\n",
    "\n",
    "data_etablissements.columns = columns_etablissements[1:]\n",
    "data_etablissements.head()"
   ]
  },
  {
   "cell_type": "code",
   "execution_count": 17,
   "id": "87fafdfe-7311-4d95-a3d5-311d9c6d949a",
   "metadata": {},
   "outputs": [
    {
     "name": "stdout",
     "output_type": "stream",
     "text": [
      "Collecting geopy\n",
      "  Downloading geopy-2.4.1-py3-none-any.whl.metadata (6.8 kB)\n",
      "Collecting geographiclib<3,>=1.52 (from geopy)\n",
      "  Downloading geographiclib-2.0-py3-none-any.whl (40 kB)\n",
      "\u001b[2K     \u001b[90m━━━━━━━━━━━━━━━━━━━━━━━━━━━━━━━━━━━━━━━━\u001b[0m \u001b[32m40.3/40.3 kB\u001b[0m \u001b[31m1.1 MB/s\u001b[0m eta \u001b[36m0:00:00\u001b[0m\n",
      "\u001b[?25hDownloading geopy-2.4.1-py3-none-any.whl (125 kB)\n",
      "\u001b[2K   \u001b[90m━━━━━━━━━━━━━━━━━━━━━━━━━━━━━━━━━━━━━━━━\u001b[0m \u001b[32m125.4/125.4 kB\u001b[0m \u001b[31m2.8 MB/s\u001b[0m eta \u001b[36m0:00:00\u001b[0m \u001b[36m0:00:01\u001b[0m\n",
      "\u001b[?25hInstalling collected packages: geographiclib, geopy\n",
      "Successfully installed geographiclib-2.0 geopy-2.4.1\n",
      "Note: you may need to restart the kernel to use updated packages.\n"
     ]
    }
   ],
   "source": [
    "pip install geopy"
   ]
  },
  {
   "cell_type": "code",
   "execution_count": 24,
   "id": "4ea88204-bf61-47e6-a5db-01731bf27254",
   "metadata": {},
   "outputs": [
    {
     "ename": "NameError",
     "evalue": "name 'geopy' is not defined",
     "output_type": "error",
     "traceback": [
      "\u001b[0;31m---------------------------------------------------------------------------\u001b[0m",
      "\u001b[0;31mNameError\u001b[0m                                 Traceback (most recent call last)",
      "Cell \u001b[0;32mIn[24], line 2\u001b[0m\n\u001b[1;32m      1\u001b[0m \u001b[38;5;28;01mfrom\u001b[39;00m \u001b[38;5;21;01mgeopy\u001b[39;00m\u001b[38;5;21;01m.\u001b[39;00m\u001b[38;5;21;01mgeocoders\u001b[39;00m \u001b[38;5;28;01mimport\u001b[39;00m Nominatim\n\u001b[0;32m----> 2\u001b[0m geolocator \u001b[38;5;241m=\u001b[39m Nominatim(user_agent \u001b[38;5;241m=\u001b[39m \u001b[43mgeopy\u001b[49m\u001b[38;5;241m.\u001b[39mgeocoders\u001b[38;5;241m.\u001b[39moptions\u001b[38;5;241m.\u001b[39mdefault_user_agent)\n\u001b[1;32m      4\u001b[0m location \u001b[38;5;241m=\u001b[39m geolocator\u001b[38;5;241m.\u001b[39mgeocode(\u001b[38;5;124m\"\u001b[39m\u001b[38;5;124m175 5th Avenue NYC\u001b[39m\u001b[38;5;124m\"\u001b[39m)\n\u001b[1;32m      6\u001b[0m \u001b[38;5;28mprint\u001b[39m(location\u001b[38;5;241m.\u001b[39maddress)\n",
      "\u001b[0;31mNameError\u001b[0m: name 'geopy' is not defined"
     ]
    }
   ],
   "source": [
    "from geopy.geocoders import Nominatim\n",
    "geolocator = Nominatim(user_agent = geopy.geocoders.options.default_user_agent)\n",
    "\n",
    "location = geolocator.geocode(\"175 5th Avenue NYC\")\n",
    "\n",
    "print(location.address)"
   ]
  },
  {
   "cell_type": "code",
   "execution_count": null,
   "id": "f5b82a8c-b125-4fac-8d68-2d761f8f441c",
   "metadata": {},
   "outputs": [],
   "source": []
  }
 ],
 "metadata": {
  "kernelspec": {
   "display_name": "Python 3 (ipykernel)",
   "language": "python",
   "name": "python3"
  },
  "language_info": {
   "codemirror_mode": {
    "name": "ipython",
    "version": 3
   },
   "file_extension": ".py",
   "mimetype": "text/x-python",
   "name": "python",
   "nbconvert_exporter": "python",
   "pygments_lexer": "ipython3",
   "version": "3.10.13"
  }
 },
 "nbformat": 4,
 "nbformat_minor": 5
}
