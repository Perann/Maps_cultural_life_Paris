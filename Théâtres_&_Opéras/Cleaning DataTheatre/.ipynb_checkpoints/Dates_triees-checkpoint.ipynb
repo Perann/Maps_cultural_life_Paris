{
 "cells": [
  {
   "cell_type": "code",
   "execution_count": 31,
   "id": "9e541e83-4a5f-47e2-9bd2-825292da86f1",
   "metadata": {},
   "outputs": [],
   "source": [
    "import pandas as pd\n",
    "import re\n",
    "import dateparser\n",
    "\n",
    "def extract_dates(date_string):\n",
    "    if isinstance(date_string, str):\n",
    "        match = re.search(r'Du (\\d+ \\w+ \\d+) au (\\d+ \\w+ \\d+)', date_string)\n",
    "        if match:\n",
    "            start_date_str, end_date_str = match.groups()\n",
    "\n",
    "            start_date = dateparser.parse(start_date_str)\n",
    "            end_date = dateparser.parse(end_date_str)\n",
    "\n",
    "            return start_date.strftime('%Y-%m-%d'), end_date.strftime('%Y-%m-%d')\n",
    "        else:\n",
    "            matches_single_date = re.findall(r'Le (\\d+ \\w+ \\d+)', date_string)\n",
    "            if matches_single_date:\n",
    "                single_date = dateparser.parse(matches_single_date[0])\n",
    "                return single_date.strftime('%Y-%m-%d'), single_date.strftime('%Y-%m-%d')\n",
    "            else:\n",
    "                return None, None\n",
    "    else:\n",
    "        return None, None\n",
    "\n",
    "df = pd.read_csv('DataTheatre_coordonnees_&_prix.csv')\n",
    "\n",
    "df['date début'], df['date fin'] = zip(*df['Date'].apply(extract_dates))\n",
    "\n",
    "df.to_csv('DataTheatre_coordonnees_&_prix_dates.csv', index=False)\n"
   ]
  },
  {
   "cell_type": "code",
   "execution_count": null,
   "id": "4ecfcc4c-cd15-44bb-834f-48c5b6f79656",
   "metadata": {},
   "outputs": [],
   "source": []
  }
 ],
 "metadata": {
  "kernelspec": {
   "display_name": "Python 3 (ipykernel)",
   "language": "python",
   "name": "python3"
  },
  "language_info": {
   "codemirror_mode": {
    "name": "ipython",
    "version": 3
   },
   "file_extension": ".py",
   "mimetype": "text/x-python",
   "name": "python",
   "nbconvert_exporter": "python",
   "pygments_lexer": "ipython3",
   "version": "3.10.13"
  }
 },
 "nbformat": 4,
 "nbformat_minor": 5
}
