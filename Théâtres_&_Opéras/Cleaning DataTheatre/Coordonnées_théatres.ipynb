{
 "cells": [
  {
   "cell_type": "code",
   "execution_count": 1,
   "id": "8eb8473a-00b5-4914-a82c-d109a927a191",
   "metadata": {},
   "outputs": [],
   "source": [
    "import pandas as pd\n",
    "\n",
    "data_theatre = pd.read_csv('DataTheatre_dates_prix.csv')\n",
    "\n",
    "adresses_uniques = data_theatre['adresse'].unique()"
   ]
  },
  {
   "cell_type": "code",
   "execution_count": 2,
   "id": "e9fb26b3-4832-42da-8cc5-d2a32c46d2b8",
   "metadata": {},
   "outputs": [],
   "source": [
    "adresses_uniques = data_theatre['adresse'].unique()"
   ]
  },
  {
   "cell_type": "code",
   "execution_count": 4,
   "id": "6039b7fa-f1ef-4b8b-809e-2e6d5d56a0ab",
   "metadata": {},
   "outputs": [],
   "source": [
    "import requests\n",
    "\n",
    "def obtenir_coordonnees_adresses(adresses):\n",
    "    coordonnees = {}\n",
    "\n",
    "    for adresse in adresses:\n",
    "        if adresse not in coordonnees:\n",
    "            base_url = \"https://api-adresse.data.gouv.fr/search/\"\n",
    "            params = {\n",
    "                \"q\": adresse + ', Paris, France',\n",
    "                \"limit\": 1\n",
    "            }\n",
    "\n",
    "            response = requests.get(base_url, params=params)\n",
    "\n",
    "            if response.status_code == 200:\n",
    "                data = response.json()\n",
    "                if data.get('features'):\n",
    "                    coordinates = data['features'][0]['geometry']['coordinates']\n",
    "                     \n",
    "                    coordonnees[adresse] = tuple(reversed(coordinates))\n",
    "                else:\n",
    "                    coordonnees[adresse] = None\n",
    "            else:\n",
    "                print(f\"Erreur lors de la requête pour l'adresse {adresse} : {response.status_code}\")\n",
    "                coordonnees[adresse] = None\n",
    "                \n",
    "    return coordonnees\n",
    "\n",
    "\n",
    "coordonnees = obtenir_coordonnees_adresses(adresses_uniques)\n",
    "\n",
    "data_theatre['Coordonnees'] = data_theatre['adresse'].map(coordonnees)\n",
    "\n",
    "data_theatre.to_csv('DataTheatre_base_finale.csv', sep=';', index=False)"
   ]
  },
  {
   "cell_type": "code",
   "execution_count": null,
   "id": "cd330901-5fab-436d-b313-93c8c0af660f",
   "metadata": {},
   "outputs": [],
   "source": []
  }
 ],
 "metadata": {
  "kernelspec": {
   "display_name": "Python 3 (ipykernel)",
   "language": "python",
   "name": "python3"
  },
  "language_info": {
   "codemirror_mode": {
    "name": "ipython",
    "version": 3
   },
   "file_extension": ".py",
   "mimetype": "text/x-python",
   "name": "python",
   "nbconvert_exporter": "python",
   "pygments_lexer": "ipython3",
   "version": "3.10.13"
  }
 },
 "nbformat": 4,
 "nbformat_minor": 5
}
