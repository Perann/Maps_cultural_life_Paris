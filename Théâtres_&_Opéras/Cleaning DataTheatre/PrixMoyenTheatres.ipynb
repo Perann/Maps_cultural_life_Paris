{
 "cells": [
  {
   "cell_type": "code",
   "execution_count": 26,
   "id": "0b1429df-5dec-4230-a094-e415875a5060",
   "metadata": {},
   "outputs": [],
   "source": [
    "import pandas as pd\n",
    "import re\n",
    "\n",
    "def clean_price(price_string):\n",
    "\n",
    "    cleaned_price = price_string.replace(' ', '').replace('€', '')\n",
    "\n",
    "    cleaned_price = cleaned_price.replace(',', '.')\n",
    "\n",
    "    if '-' in cleaned_price:\n",
    "        min_price, max_price = map(float, cleaned_price.split('-'))\n",
    "        return min_price, max_price, None\n",
    "    else:\n",
    "        try:\n",
    "            price_value = float(cleaned_price)\n",
    "            return None, None, price_value\n",
    "        except ValueError:\n",
    "            return None, None, 'unknown'\n",
    "\n",
    "\n",
    "df = pd.read_csv('DataTheatre_dates.csv')\n",
    "\n",
    "cleaned_prices = df['prix'].apply(clean_price)\n",
    "\n",
    "df[['prix min', 'prix max', 'prix unique']] = pd.DataFrame(cleaned_prices.tolist(), index=df.index)\n"
   ]
  },
  {
   "cell_type": "code",
   "execution_count": 27,
   "id": "7f114076-677b-4ea7-b1c7-91c94620e1a6",
   "metadata": {},
   "outputs": [],
   "source": [
    "df['prix moyen'] = df.apply(lambda row: (row['prix min'] + row['prix max']) / 2\n",
    "                            if pd.notnull(row['prix min']) and pd.notnull(row['prix max'])\n",
    "                            else row['prix unique'], axis=1)"
   ]
  },
  {
   "cell_type": "code",
   "execution_count": 28,
   "id": "60848042-58e4-479a-92f0-53231e7c6558",
   "metadata": {},
   "outputs": [],
   "source": [
    "\n",
    "df.to_csv('DataTheatre_dates_prix.csv', index=False)\n"
   ]
  },
  {
   "cell_type": "code",
   "execution_count": null,
   "id": "5fb90475-df1e-4150-8b21-9704f288e999",
   "metadata": {},
   "outputs": [],
   "source": []
  }
 ],
 "metadata": {
  "kernelspec": {
   "display_name": "Python 3 (ipykernel)",
   "language": "python",
   "name": "python3"
  },
  "language_info": {
   "codemirror_mode": {
    "name": "ipython",
    "version": 3
   },
   "file_extension": ".py",
   "mimetype": "text/x-python",
   "name": "python",
   "nbconvert_exporter": "python",
   "pygments_lexer": "ipython3",
   "version": "3.10.13"
  }
 },
 "nbformat": 4,
 "nbformat_minor": 5
}
