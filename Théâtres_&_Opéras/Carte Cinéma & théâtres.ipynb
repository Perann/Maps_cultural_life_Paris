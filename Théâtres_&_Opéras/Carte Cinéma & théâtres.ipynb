{
 "cells": [
  {
   "cell_type": "code",
   "execution_count": 34,
   "id": "d1f73c77-8843-4642-95ba-1b319e61987a",
   "metadata": {},
   "outputs": [],
   "source": [
    "import folium\n",
    "import pandas as pd\n",
    "from folium.plugins import MarkerCluster\n",
    "\n",
    "ListeCinema = pd.read_csv('ListeCinema.csv', sep=';')\n",
    "\n",
    "carte = folium.Map(location=[48.8566, 2.3522], zoom_start=12)\n",
    "\n",
    "marker_cluster = MarkerCluster()\n",
    "\n",
    "for index, row in ListeCinema.iterrows():\n",
    "    if row['geo']:\n",
    "        latitude, longitude = map(float, row['geo'].split(','))\n",
    "    \n",
    "        icon = folium.Icon(color='blue', icon='film', prefix='fa')\n",
    "        \n",
    "        folium.Marker(\n",
    "            location=[latitude, longitude],\n",
    "            popup=f\"Coordonnées : {latitude}, {longitude}\",\n",
    "            icon=icon\n",
    "        ).add_to(marker_cluster)\n",
    "\n",
    "marker_cluster.add_to(carte)\n",
    "\n",
    "# \n",
    "carte.save(\"carte_paris.html\")\n"
   ]
  },
  {
   "cell_type": "code",
   "execution_count": null,
   "id": "c46f3c2c-9006-44d6-8836-77d881f44795",
   "metadata": {},
   "outputs": [],
   "source": []
  }
 ],
 "metadata": {
  "kernelspec": {
   "display_name": "Python 3 (ipykernel)",
   "language": "python",
   "name": "python3"
  },
  "language_info": {
   "codemirror_mode": {
    "name": "ipython",
    "version": 3
   },
   "file_extension": ".py",
   "mimetype": "text/x-python",
   "name": "python",
   "nbconvert_exporter": "python",
   "pygments_lexer": "ipython3",
   "version": "3.10.13"
  }
 },
 "nbformat": 4,
 "nbformat_minor": 5
}
