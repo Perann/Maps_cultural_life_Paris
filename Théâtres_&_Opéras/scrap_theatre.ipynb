{
 "cells": [
  {
   "cell_type": "code",
   "execution_count": null,
   "id": "55d4cbf5-1e73-4942-8ac6-6f7287a6b362",
   "metadata": {},
   "outputs": [],
   "source": [
    "# Recupération de la liste des théâtres et Opéras de paris via Wikipédia"
   ]
  },
  {
   "cell_type": "code",
   "execution_count": null,
   "id": "e02bfc99-62b3-46fa-bf50-2e652c85686a",
   "metadata": {},
   "outputs": [],
   "source": []
  }
 ],
 "metadata": {
  "kernelspec": {
   "display_name": "Python 3 (ipykernel)",
   "language": "python",
   "name": "python3"
  },
  "language_info": {
   "codemirror_mode": {
    "name": "ipython",
    "version": 3
   },
   "file_extension": ".py",
   "mimetype": "text/x-python",
   "name": "python",
   "nbconvert_exporter": "python",
   "pygments_lexer": "ipython3",
   "version": "3.10.13"
  }
 },
 "nbformat": 4,
 "nbformat_minor": 5
}
