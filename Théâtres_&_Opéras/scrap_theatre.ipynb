{
 "cells": [
  {
   "cell_type": "code",
   "execution_count": null,
   "id": "55d4cbf5-1e73-4942-8ac6-6f7287a6b362",
   "metadata": {},
   "outputs": [],
   "source": [
    "# Recupération de la liste des théâtres et Opéras de paris via Wikipédia"
   ]
  },
  {
   "cell_type": "code",
   "execution_count": 37,
   "id": "e02bfc99-62b3-46fa-bf50-2e652c85686a",
   "metadata": {},
   "outputs": [],
   "source": [
    "!pip install -q lxml\n",
    "\n",
    "import bs4\n",
    "import lxml\n",
    "import pandas\n",
    "import urllib\n",
    "\n",
    "from urllib import request\n",
    "\n",
    "url_liste_etablissements = \"https://fr.wikipedia.org/wiki/Liste_des_th%C3%A9%C3%A2tres_et_op%C3%A9ras_de_Paris\"\n",
    "    \n",
    "request_text = request.urlopen(url_liste_etablissements).read()\n",
    "type(request_text)\n",
    "\n",
    "page = bs4.BeautifulSoup(request_text, \"lxml\")\n",
    "\n",
    "tableau_etablissements = page.find(\"table\", {\"class\":\"wikitable sortable\"})\n",
    "\n",
    "table_body = tableau_etablissements.find(\"tbody\")\n",
    "rows = table_body.find_all(\"tr\")\n",
    "\n",
    "for row in rows:\n",
    "    cols = row.find_all('td')\n",
    "    cols = [ele.text.strip() for ele in cols]\n",
    "\n",
    "\n",
    "dico_etablissements = dict()\n",
    "for row in rows:\n",
    "    cols = row.find_all('td')\n",
    "    cols = [ele.text.strip() for ele in cols]\n",
    "    if len(cols) > 0 : \n",
    "        dico_etablissements[cols[0]] = cols[1:]"
   ]
  },
  {
   "cell_type": "code",
   "execution_count": null,
   "id": "5e434ac8-b30f-488c-aeec-06fc678acb7e",
   "metadata": {},
   "outputs": [],
   "source": []
  }
 ],
 "metadata": {
  "kernelspec": {
   "display_name": "Python 3 (ipykernel)",
   "language": "python",
   "name": "python3"
  },
  "language_info": {
   "codemirror_mode": {
    "name": "ipython",
    "version": 3
   },
   "file_extension": ".py",
   "mimetype": "text/x-python",
   "name": "python",
   "nbconvert_exporter": "python",
   "pygments_lexer": "ipython3",
   "version": "3.10.13"
  }
 },
 "nbformat": 4,
 "nbformat_minor": 5
}
