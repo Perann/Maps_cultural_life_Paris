{
 "cells": [
  {
   "cell_type": "markdown",
   "metadata": {},
   "source": [
    "# **Where to hang out in Paris ?**\n",
    "\n",
    "This notebook will provide the main results we obtained through our work. It allows anyone to use the functions without having to use the Interface.\n",
    "It is divided in 3 subsequence:\n",
    "\n",
    "I- Maps\n",
    "\n",
    "II-Statistics\n",
    "\n",
    "III. Scrapping (Optional)\n"
   ]
  },
  {
   "cell_type": "markdown",
   "metadata": {},
   "source": [
    "## **I. Maps**\n",
    "\n",
    "This section will allow you to create the Maps we create through the interface. Each cell is dedicated to a function and an example is always provided.\n",
    "\n",
    "\n",
    " The functions defined below are very similar to those defined in the mapping files of each folder. The mapping.py files are the functions we use in the interface and are programmed to open directly a window in your webbrowser with the map. The only thing we change in the following functions is that we deleted the order to open a new window with the map created. If you want to open the map, you need to go to Output/Maps and to open them in a webbrowser. JupyterLab does it by itself but some code editor as VSCODE may require an additionnal extension.\n",
    "\n",
    " We first import the main modules we are going to use:"
   ]
  },
  {
   "cell_type": "code",
   "execution_count": 15,
   "metadata": {},
   "outputs": [],
   "source": [
    "import folium\n",
    "import pandas as pd \n",
    "from folium.plugins import MarkerCluster\n",
    "from datetime import datetime"
   ]
  },
  {
   "cell_type": "markdown",
   "metadata": {},
   "source": [
    "### Cinema\n",
    "\n",
    "The following sub-section gives you the code to plot the maps of all the movie displayed on a day. This uses the database DataCinema.csv created in the scrapping section. Pay attention that not all the cinemas of Paris are represented on the maps but lots of them are (additional details are provided in the code of the scrapping section). \n",
    "\n",
    "All the more, the database hasn't been uptated since 28 th december 2023, so the movie show on the maps are those streamed this day. If you want to have those of the current day you need to update the database through the codes in the scrapping section.\n"
   ]
  },
  {
   "cell_type": "code",
   "execution_count": 16,
   "metadata": {},
   "outputs": [],
   "source": [
    "\n",
    "def HourConversion(string):                  \n",
    "    return datetime.strptime(string, '%H:%M') \n",
    "\n",
    "def MovieMapping(data,MinHour:'HHhMM',MaxHour:'HHhMM'):     \n",
    "    HeureDebut = datetime.strptime(MinHour, \"%Hh%M\")\n",
    "    HeureFin = datetime.strptime(MaxHour, \"%Hh%M\")\n",
    "    \n",
    "    \n",
    "    data['time'] = data['heure'].apply(lambda x: HourConversion(x))\n",
    "    AdjustedData = data[data['time']>= HeureDebut]\n",
    "    AdjustedData = AdjustedData[AdjustedData['time'] <= HeureFin]\n",
    "    \n",
    "    MovieMap = folium.Map(location=[48.8566, 2.3522], zoom_start=12)\n",
    "    GeoVisited = {}\n",
    "\n",
    "    for index, row in AdjustedData.iterrows():\n",
    "        lat = row['geo'].split(',')[0]\n",
    "        lon = row['geo'].split(',')[1]\n",
    "    \n",
    "        content = \"<h4 style='color:black;'>\" + row['nom'] + \"</h4>\" \\\n",
    "                \"<p style='font-size:16px;'>\" + row['etablissement'] + \"</p>\"\\\n",
    "                \"<p style='font-size:16px;'>\" + row['heure'] + \"</p>\"\n",
    "        \n",
    "        if (lat,lon) not in GeoVisited.keys():\n",
    "            GeoVisited[(lat,lon)] = MarkerCluster().add_to(MovieMap)\n",
    "            folium.Marker(location=(lat,lon), popup = content, max_width=500).add_to(GeoVisited[(lat,lon)])\n",
    "        else:\n",
    "            folium.Marker(location=(lat,lon), popup = content, max_width=500).add_to(GeoVisited[(lat,lon)])\n",
    "    MovieMap.save(\"Outputs/Maps/MovieMap.html\")\n"
   ]
  },
  {
   "cell_type": "markdown",
   "metadata": {},
   "source": [
    "#### *Example*\n",
    "We will use the previous function to create a map showing all the movies streamed in Paris on 28th December 2023 whose cinema sessions begins between 5:30 PM (17h30) and 10:00 PM (22h00). \n",
    "\n",
    "To see the final Map, open the file name MovieMap.html in Outputs/Maps though your webbrowser"
   ]
  },
  {
   "cell_type": "code",
   "execution_count": 18,
   "metadata": {},
   "outputs": [],
   "source": [
    "program = pd.read_csv('Outputs/DataSets/DataCinema.csv')\n",
    "MovieMapping(program,'17h30','22h00') "
   ]
  },
  {
   "cell_type": "markdown",
   "metadata": {},
   "source": [
    "### Theater\n",
    "\n",
    "The following function creates the map of the theater play played on a given day. You can choose the day as an argument of the function. Pay attention that the database had been lastly updated on 28th December of 2023. If you use the function a longtime after this date, don't hesitate to run webscrapping codes again. "
   ]
  },
  {
   "cell_type": "code",
   "execution_count": 20,
   "metadata": {},
   "outputs": [],
   "source": [
    "\n",
    "def TheaterMap(data:'Pandas DataFrame',date:'YYYY-MM-DD'):\n",
    "\n",
    "    user_date = datetime.strptime(date, '%Y-%m-%d')\n",
    "    data['date début'] = pd.to_datetime(data['date début'])\n",
    "    data['date fin'] = pd.to_datetime(data['date fin'])\n",
    "    filtered_data = data[(data['date début'] <= user_date) & (user_date <= data['date fin'])]\n",
    "\n",
    "    paris_coordinates = [48.8566, 2.3522]\n",
    "    my_map = folium.Map(location=paris_coordinates, zoom_start=12)\n",
    "\n",
    "    for index, row in filtered_data.iterrows():\n",
    "        establishment_name = row['etablissement']\n",
    "        address = row['adresse']\n",
    "        show_name = row['nom']\n",
    "        average_price = row['prix moyen']\n",
    "\n",
    "        coordinates = [float(coord.strip('()')) for coord in row['Coordonnees'].split(',')]\n",
    "        popup_text = f\"<b>{establishment_name}</b><br>Adresse: {address}<br>Pièce: {show_name}<br>Prix moyen: {average_price} €\"\n",
    "        folium.Marker(location=coordinates, popup=popup_text).add_to(my_map)\n",
    "    \n",
    "    my_map.save(\"Outputs/Maps/Theatermap.html\")\n"
   ]
  },
  {
   "cell_type": "markdown",
   "metadata": {},
   "source": [
    "#### *Example*\n",
    "We create a Map with all the theaters plays play on 12th January of 2024. If you want to create a map for an other date pay attention to the format of the date that has to be 'YYYY-MM-DD'.\n",
    "To see the map, open TheaterMap.html in the Outputs/Maps section."
   ]
  },
  {
   "cell_type": "code",
   "execution_count": 21,
   "metadata": {},
   "outputs": [],
   "source": [
    "DataTheater = pd.read_csv('Outputs/DataSets/DataTheatre_base_finale.csv', sep=';')\n",
    "TheaterMap(DataTheater,'2024-01-12' )"
   ]
  },
  {
   "cell_type": "markdown",
   "metadata": {},
   "source": [
    "### Concerts\n",
    "\n",
    "Here are provided the functions used to make a map of concerts play on a given day in Paris.\n"
   ]
  },
  {
   "cell_type": "code",
   "execution_count": 22,
   "metadata": {},
   "outputs": [],
   "source": [
    "def ClassicalMap(data:'Pandas DataFrame',date:'YYYY-MM-DD'):\n",
    "    user_date = datetime.strptime(date, '%Y-%m-%d')\n",
    "    data['date datetime'] = pd.to_datetime(data['date datetime'])\n",
    "    \n",
    "    data['date datetime'] = data['date datetime'].apply(lambda x: x.replace(hour=0, minute=0, second=0, microsecond=0))\n",
    "    user_date = user_date.replace(hour=0, minute=0, second=0, microsecond=0)    \n",
    "    filtered_data = data[(data['date datetime'] == user_date)]\n",
    "    paris_coordinates = [48.8566, 2.3522]\n",
    "    my_map = folium.Map(location=paris_coordinates, zoom_start=12)\n",
    "\n",
    "    for index, row in filtered_data.iterrows():\n",
    "        establishment_name = row['etablissement']\n",
    "        address = row['adresse']\n",
    "        show_name = row['nom']\n",
    "        average_price = row['prix moyen']\n",
    "        time = row['heure']\n",
    "        \n",
    "        coordinates = [float(coord.strip('()')) for coord in row['coordonnees'].split(',')]\n",
    "\n",
    "        popup_text = f\"<b>{establishment_name}</b><br>Adresse: {address}<br>Concert: {show_name}<br>Heure: {time}<br>Prix moyen: {average_price} €\"\n",
    "        folium.Marker(location=coordinates, popup=popup_text).add_to(my_map)\n",
    "    \n",
    "    my_map.save(\"Outputs/Maps/Classicmap.html\")"
   ]
  },
  {
   "cell_type": "markdown",
   "metadata": {},
   "source": [
    "#### *Example*\n",
    "\n",
    "We plot a map with all the concert played on 29th december of 2023 in Paris"
   ]
  },
  {
   "cell_type": "code",
   "execution_count": 23,
   "metadata": {},
   "outputs": [],
   "source": [
    "DataClassical = pd.read_csv('Outputs/DataSets/DataMusiqueClassique_v8.csv', sep=',')\n",
    "ClassicalMap(DataClassical,'2023-12-29')"
   ]
  },
  {
   "cell_type": "markdown",
   "metadata": {},
   "source": [
    "## **II. Statistics** \n",
    "\n",
    "In this section we review the main statistics we realised with the databases we produced in the first section.\n",
    "We will go through various topics such as finding the most relevant place for you to hang out in Paris, according to your tastes.\n"
   ]
  },
  {
   "cell_type": "markdown",
   "metadata": {},
   "source": [
    "### Cinema\n",
    "This section will contain statistics made from the databases we created or found. For the cinemas I will use the Open database from the City of Paris about cinemas of the town. The database issued by webscrapping only contains data about one day so it's hard to make statistics from it. \n",
    "\n",
    "The original file is located in Resources/Data and is named ListeCinema.csv.\n",
    "We first read the file trough pandas and import the necessary modules :\n",
    "\n"
   ]
  },
  {
   "cell_type": "code",
   "execution_count": 24,
   "metadata": {},
   "outputs": [],
   "source": [
    "import pandas as pd\n",
    "import seaborn as sns\n",
    "import matplotlib.pyplot as plt\n",
    "from datetime import datetime\n"
   ]
  },
  {
   "cell_type": "code",
   "execution_count": 25,
   "metadata": {},
   "outputs": [
    {
     "data": {
      "text/html": [
       "<div>\n",
       "<style scoped>\n",
       "    .dataframe tbody tr th:only-of-type {\n",
       "        vertical-align: middle;\n",
       "    }\n",
       "\n",
       "    .dataframe tbody tr th {\n",
       "        vertical-align: top;\n",
       "    }\n",
       "\n",
       "    .dataframe thead th {\n",
       "        text-align: right;\n",
       "    }\n",
       "</style>\n",
       "<table border=\"1\" class=\"dataframe\">\n",
       "  <thead>\n",
       "    <tr style=\"text-align: right;\">\n",
       "      <th></th>\n",
       "      <th>ndeg_auto</th>\n",
       "      <th>dep</th>\n",
       "      <th>nom</th>\n",
       "      <th>region_administrative</th>\n",
       "      <th>adresse</th>\n",
       "      <th>code_insee</th>\n",
       "      <th>commune</th>\n",
       "      <th>situation_geographique</th>\n",
       "      <th>ecrans</th>\n",
       "      <th>fauteuils</th>\n",
       "      <th>...</th>\n",
       "      <th>nombre_de_films_inedits_2020</th>\n",
       "      <th>nombre_de_films_en_semaine_1_2020</th>\n",
       "      <th>pdm_en_entrees_des_films_francais_2020</th>\n",
       "      <th>pdm_en_entrees_des_films_americains_2020</th>\n",
       "      <th>pdm_en_entrees_des_films_europeens_2020</th>\n",
       "      <th>pdm_en_entrees_des_autres_films_2020</th>\n",
       "      <th>films_art_et_essai_2020</th>\n",
       "      <th>part_des_seances_de_films_art_et_essai_2020</th>\n",
       "      <th>pdm_en_entrees_des_films_art_et_essai_2020</th>\n",
       "      <th>geo</th>\n",
       "    </tr>\n",
       "  </thead>\n",
       "  <tbody>\n",
       "    <tr>\n",
       "      <th>0</th>\n",
       "      <td>12.0</td>\n",
       "      <td>75</td>\n",
       "      <td>UGC GEORGE V</td>\n",
       "      <td>ILE-DE-FRANCE</td>\n",
       "      <td>146 AVENUE DES CHAMPS ELYSEES</td>\n",
       "      <td>75108</td>\n",
       "      <td>Paris 8e Arrondissement</td>\n",
       "      <td>01-Paris</td>\n",
       "      <td>11</td>\n",
       "      <td>1666</td>\n",
       "      <td>...</td>\n",
       "      <td>44.0</td>\n",
       "      <td>39.0</td>\n",
       "      <td>37.987231</td>\n",
       "      <td>46.459221</td>\n",
       "      <td>13.965355</td>\n",
       "      <td>1.588193</td>\n",
       "      <td>37.0</td>\n",
       "      <td>30.101331</td>\n",
       "      <td>29.111174</td>\n",
       "      <td>48.873073,2.298394</td>\n",
       "    </tr>\n",
       "    <tr>\n",
       "      <th>1</th>\n",
       "      <td>31.0</td>\n",
       "      <td>75</td>\n",
       "      <td>UGC NORMANDIE</td>\n",
       "      <td>ILE-DE-FRANCE</td>\n",
       "      <td>116 AVENUE DES CHAMPS ELYSEES</td>\n",
       "      <td>75108</td>\n",
       "      <td>Paris 8e Arrondissement</td>\n",
       "      <td>01-Paris</td>\n",
       "      <td>4</td>\n",
       "      <td>1610</td>\n",
       "      <td>...</td>\n",
       "      <td>47.0</td>\n",
       "      <td>39.0</td>\n",
       "      <td>41.135925</td>\n",
       "      <td>35.974635</td>\n",
       "      <td>19.163220</td>\n",
       "      <td>3.726220</td>\n",
       "      <td>43.0</td>\n",
       "      <td>57.619048</td>\n",
       "      <td>52.794320</td>\n",
       "      <td>48.872265,2.300938</td>\n",
       "    </tr>\n",
       "    <tr>\n",
       "      <th>2</th>\n",
       "      <td>35.0</td>\n",
       "      <td>75</td>\n",
       "      <td>BALZAC</td>\n",
       "      <td>ILE-DE-FRANCE</td>\n",
       "      <td>1 RUE BALZAC</td>\n",
       "      <td>75108</td>\n",
       "      <td>Paris 8e Arrondissement</td>\n",
       "      <td>01-Paris</td>\n",
       "      <td>3</td>\n",
       "      <td>589</td>\n",
       "      <td>...</td>\n",
       "      <td>43.0</td>\n",
       "      <td>28.0</td>\n",
       "      <td>61.031576</td>\n",
       "      <td>3.964856</td>\n",
       "      <td>19.594595</td>\n",
       "      <td>15.408973</td>\n",
       "      <td>76.0</td>\n",
       "      <td>82.796149</td>\n",
       "      <td>81.268397</td>\n",
       "      <td>48.872431,2.299525</td>\n",
       "    </tr>\n",
       "    <tr>\n",
       "      <th>3</th>\n",
       "      <td>54.0</td>\n",
       "      <td>75</td>\n",
       "      <td>GAUMONT CHAMPS ELYSEES MARIGNAN</td>\n",
       "      <td>ILE-DE-FRANCE</td>\n",
       "      <td>27/33 AVENUE DES CHAMPS ELYSEES</td>\n",
       "      <td>75108</td>\n",
       "      <td>Paris 8e Arrondissement</td>\n",
       "      <td>01-Paris</td>\n",
       "      <td>6</td>\n",
       "      <td>1597</td>\n",
       "      <td>...</td>\n",
       "      <td>65.0</td>\n",
       "      <td>61.0</td>\n",
       "      <td>24.273704</td>\n",
       "      <td>59.361645</td>\n",
       "      <td>14.711067</td>\n",
       "      <td>1.653584</td>\n",
       "      <td>24.0</td>\n",
       "      <td>23.609811</td>\n",
       "      <td>22.008902</td>\n",
       "      <td>48.869654,2.306873</td>\n",
       "    </tr>\n",
       "    <tr>\n",
       "      <th>4</th>\n",
       "      <td>55.0</td>\n",
       "      <td>75</td>\n",
       "      <td>ELYSEES LINCOLN</td>\n",
       "      <td>ILE-DE-FRANCE</td>\n",
       "      <td>14 RUE LINCOLN</td>\n",
       "      <td>75108</td>\n",
       "      <td>Paris 8e Arrondissement</td>\n",
       "      <td>01-Paris</td>\n",
       "      <td>3</td>\n",
       "      <td>448</td>\n",
       "      <td>...</td>\n",
       "      <td>59.0</td>\n",
       "      <td>53.0</td>\n",
       "      <td>48.828477</td>\n",
       "      <td>5.617302</td>\n",
       "      <td>26.364274</td>\n",
       "      <td>19.189947</td>\n",
       "      <td>61.0</td>\n",
       "      <td>88.657914</td>\n",
       "      <td>87.628918</td>\n",
       "      <td>48.870512,2.303157</td>\n",
       "    </tr>\n",
       "  </tbody>\n",
       "</table>\n",
       "<p>5 rows × 37 columns</p>\n",
       "</div>"
      ],
      "text/plain": [
       "   ndeg_auto  dep                              nom region_administrative  \\\n",
       "0       12.0   75                     UGC GEORGE V         ILE-DE-FRANCE   \n",
       "1       31.0   75                    UGC NORMANDIE         ILE-DE-FRANCE   \n",
       "2       35.0   75                           BALZAC         ILE-DE-FRANCE   \n",
       "3       54.0   75  GAUMONT CHAMPS ELYSEES MARIGNAN         ILE-DE-FRANCE   \n",
       "4       55.0   75                  ELYSEES LINCOLN         ILE-DE-FRANCE   \n",
       "\n",
       "                           adresse  code_insee                  commune  \\\n",
       "0    146 AVENUE DES CHAMPS ELYSEES       75108  Paris 8e Arrondissement   \n",
       "1    116 AVENUE DES CHAMPS ELYSEES       75108  Paris 8e Arrondissement   \n",
       "2                     1 RUE BALZAC       75108  Paris 8e Arrondissement   \n",
       "3  27/33 AVENUE DES CHAMPS ELYSEES       75108  Paris 8e Arrondissement   \n",
       "4                   14 RUE LINCOLN       75108  Paris 8e Arrondissement   \n",
       "\n",
       "  situation_geographique  ecrans  fauteuils  ... nombre_de_films_inedits_2020  \\\n",
       "0               01-Paris      11       1666  ...                         44.0   \n",
       "1               01-Paris       4       1610  ...                         47.0   \n",
       "2               01-Paris       3        589  ...                         43.0   \n",
       "3               01-Paris       6       1597  ...                         65.0   \n",
       "4               01-Paris       3        448  ...                         59.0   \n",
       "\n",
       "  nombre_de_films_en_semaine_1_2020 pdm_en_entrees_des_films_francais_2020  \\\n",
       "0                              39.0                              37.987231   \n",
       "1                              39.0                              41.135925   \n",
       "2                              28.0                              61.031576   \n",
       "3                              61.0                              24.273704   \n",
       "4                              53.0                              48.828477   \n",
       "\n",
       "  pdm_en_entrees_des_films_americains_2020  \\\n",
       "0                                46.459221   \n",
       "1                                35.974635   \n",
       "2                                 3.964856   \n",
       "3                                59.361645   \n",
       "4                                 5.617302   \n",
       "\n",
       "  pdm_en_entrees_des_films_europeens_2020  \\\n",
       "0                               13.965355   \n",
       "1                               19.163220   \n",
       "2                               19.594595   \n",
       "3                               14.711067   \n",
       "4                               26.364274   \n",
       "\n",
       "  pdm_en_entrees_des_autres_films_2020 films_art_et_essai_2020  \\\n",
       "0                             1.588193                    37.0   \n",
       "1                             3.726220                    43.0   \n",
       "2                            15.408973                    76.0   \n",
       "3                             1.653584                    24.0   \n",
       "4                            19.189947                    61.0   \n",
       "\n",
       "   part_des_seances_de_films_art_et_essai_2020  \\\n",
       "0                                    30.101331   \n",
       "1                                    57.619048   \n",
       "2                                    82.796149   \n",
       "3                                    23.609811   \n",
       "4                                    88.657914   \n",
       "\n",
       "  pdm_en_entrees_des_films_art_et_essai_2020                 geo  \n",
       "0                                  29.111174  48.873073,2.298394  \n",
       "1                                  52.794320  48.872265,2.300938  \n",
       "2                                  81.268397  48.872431,2.299525  \n",
       "3                                  22.008902  48.869654,2.306873  \n",
       "4                                  87.628918  48.870512,2.303157  \n",
       "\n",
       "[5 rows x 37 columns]"
      ]
     },
     "execution_count": 25,
     "metadata": {},
     "output_type": "execute_result"
    }
   ],
   "source": [
    "DataCinemaParis = pd.read_csv('Ressources/Data/ListeCinema.csv', sep = ';')\n",
    "DataCinemaParis = DataCinemaParis[DataCinemaParis['dep'] == 75]\n",
    "DataCinemaParis.head()"
   ]
  },
  {
   "cell_type": "markdown",
   "metadata": {},
   "source": [
    "#### Wich part of the city has better facilities for Cinema lovers ?\n",
    "This section deals with general statistics on cinemas in Paris such as the nulber of cinema, the number of screen or seat per district. This allows us to find the part of the town that has more facilities on Cinema."
   ]
  },
  {
   "cell_type": "code",
   "execution_count": 26,
   "metadata": {
    "scrolled": true
   },
   "outputs": [
    {
     "data": {
      "text/plain": [
       "(78, 37)"
      ]
     },
     "execution_count": 26,
     "metadata": {},
     "output_type": "execute_result"
    }
   ],
   "source": [
    "DataCinemaParis.shape"
   ]
  },
  {
   "cell_type": "code",
   "execution_count": 27,
   "metadata": {},
   "outputs": [
    {
     "name": "stdout",
     "output_type": "stream",
     "text": [
      "5.128205128205129\n",
      "906.4102564102565\n"
     ]
    }
   ],
   "source": [
    "print(DataCinemaParis['ecrans'].mean())\n",
    "print(DataCinemaParis['fauteuils'].mean())"
   ]
  },
  {
   "cell_type": "code",
   "execution_count": 28,
   "metadata": {},
   "outputs": [
    {
     "name": "stdout",
     "output_type": "stream",
     "text": [
      "commune\n",
      "Paris 10e Arrondissement     299.666667\n",
      "Paris 11e Arrondissement     416.000000\n",
      "Paris 12e Arrondissement    2088.333333\n",
      "Paris 13e Arrondissement    1116.800000\n",
      "Paris 14e Arrondissement     980.333333\n",
      "Paris 15e Arrondissement    1542.750000\n",
      "Paris 16e Arrondissement     617.000000\n",
      "Paris 17e Arrondissement     538.200000\n",
      "Paris 18e Arrondissement    1124.500000\n",
      "Paris 19e Arrondissement    1947.750000\n",
      "Paris 1er Arrondissement    3894.000000\n",
      "Paris 20e Arrondissement    1267.000000\n",
      "Paris 2e Arrondissement     2706.000000\n",
      "Paris 3e Arrondissement      557.000000\n",
      "Paris 4e Arrondissement      238.000000\n",
      "Paris 5e Arrondissement      209.100000\n",
      "Paris 6e Arrondissement      540.133333\n",
      "Paris 8e Arrondissement      946.142857\n",
      "Paris 9e Arrondissement      617.333333\n",
      "Name: fauteuils, dtype: float64 commune\n",
      "Paris 10e Arrondissement     2.333333\n",
      "Paris 11e Arrondissement     3.000000\n",
      "Paris 12e Arrondissement    10.333333\n",
      "Paris 13e Arrondissement     7.600000\n",
      "Paris 14e Arrondissement     6.333333\n",
      "Paris 15e Arrondissement     9.000000\n",
      "Paris 16e Arrondissement     3.000000\n",
      "Paris 17e Arrondissement     3.200000\n",
      "Paris 18e Arrondissement     6.000000\n",
      "Paris 19e Arrondissement    10.500000\n",
      "Paris 1er Arrondissement    27.000000\n",
      "Paris 20e Arrondissement     6.500000\n",
      "Paris 2e Arrondissement      6.500000\n",
      "Paris 3e Arrondissement      6.000000\n",
      "Paris 4e Arrondissement      2.000000\n",
      "Paris 5e Arrondissement      1.800000\n",
      "Paris 6e Arrondissement      3.266667\n",
      "Paris 8e Arrondissement      4.285714\n",
      "Paris 9e Arrondissement      3.333333\n",
      "Name: ecrans, dtype: float64\n"
     ]
    }
   ],
   "source": [
    "MeanSeats = DataCinemaParis.groupby('commune')['fauteuils'].mean()\n",
    "MeanScreen = DataCinemaParis.groupby('commune')['ecrans'].mean()\n",
    "print(MeanSeats, MeanScreen)\n"
   ]
  },
  {
   "cell_type": "code",
   "execution_count": 29,
   "metadata": {},
   "outputs": [
    {
     "data": {
      "image/png": "[encoded data removed]",
      "text/plain": [
       "<Figure size 640x480 with 1 Axes>"
      ]
     },
     "metadata": {},
     "output_type": "display_data"
    }
   ],
   "source": [
    "plt.bar(MeanSeats.index, MeanSeats)\n",
    "plt.xticks(rotation = 45, ha='right')\n",
    "plt.grid()\n",
    "plt.title('Average number of Seats per District')\n",
    "plt.show()"
   ]
  },
  {
   "cell_type": "code",
   "execution_count": 30,
   "metadata": {},
   "outputs": [
    {
     "data": {
      "image/png": "[encoded data removed]",
      "text/plain": [
       "<Figure size 640x480 with 1 Axes>"
      ]
     },
     "metadata": {},
     "output_type": "display_data"
    }
   ],
   "source": [
    "plt.bar(MeanScreen.index, MeanScreen)\n",
    "plt.xticks(rotation = 45, ha='right')\n",
    "plt.grid()\n",
    "plt.title('Average number of Screen per district')\n",
    "plt.show()"
   ]
  },
  {
   "cell_type": "markdown",
   "metadata": {},
   "source": [
    "Those results seem to show us that the first district of Paris is the one with the more facilities if you like big cinemas. However those results are mostly due to the 'UGC Chatelet les halles' that has 27 rooms ! The other cinemas of the Paris 1er Arrondissement are way smaller than this one. The 2nd Arrondissement also has a high number of seats due to 'Le Grand  Rex' and its 14 rooms. If you like huge cinemas with a tremendous number of facilities, those arrondissements are the one you need to get to !"
   ]
  },
  {
   "cell_type": "markdown",
   "metadata": {},
   "source": [
    "#### What kind cinema do you find in different districts ?"
   ]
  },
  {
   "cell_type": "code",
   "execution_count": 31,
   "metadata": {},
   "outputs": [
    {
     "name": "stdout",
     "output_type": "stream",
     "text": [
      "Index(['ndeg_auto', 'dep', 'nom', 'region_administrative', 'adresse',\n",
      "       'code_insee', 'commune', 'situation_geographique', 'ecrans',\n",
      "       'fauteuils', 'tranche_d_entrees', 'proprietaire', 'programmateur',\n",
      "       'categorie_art_et_essai', 'label_art_et_essai', 'genre', 'multiplexe',\n",
      "       'population_de_la_commune_2015', 'unite_urbaine_2010',\n",
      "       'population_unite_urbaine_2015', 'semaines_d_activite_2020',\n",
      "       'seances_2020', 'entrees_2020', 'entrees_2019',\n",
      "       'evolution_entrees_2020_2019', 'art_et_essai',\n",
      "       'nombre_de_films_programmes_2020', 'nombre_de_films_inedits_2020',\n",
      "       'nombre_de_films_en_semaine_1_2020',\n",
      "       'pdm_en_entrees_des_films_francais_2020',\n",
      "       'pdm_en_entrees_des_films_americains_2020',\n",
      "       'pdm_en_entrees_des_films_europeens_2020',\n",
      "       'pdm_en_entrees_des_autres_films_2020', 'films_art_et_essai_2020',\n",
      "       'part_des_seances_de_films_art_et_essai_2020',\n",
      "       'pdm_en_entrees_des_films_art_et_essai_2020', 'geo'],\n",
      "      dtype='object')\n"
     ]
    }
   ],
   "source": [
    "print(DataCinemaParis.keys())"
   ]
  },
  {
   "cell_type": "code",
   "execution_count": 56,
   "metadata": {},
   "outputs": [
    {
     "name": "stdout",
     "output_type": "stream",
     "text": [
      "commune\n",
      "Paris 10e Arrondissement    49.876972\n",
      "Paris 11e Arrondissement    54.494130\n",
      "Paris 12e Arrondissement    46.212740\n",
      "Paris 13e Arrondissement    47.368508\n",
      "Paris 14e Arrondissement    52.299938\n",
      "Paris 15e Arrondissement    43.335309\n",
      "Paris 16e Arrondissement    50.828104\n",
      "Paris 17e Arrondissement    46.203511\n",
      "Paris 18e Arrondissement    45.415024\n",
      "Paris 19e Arrondissement    40.781526\n",
      "Paris 1er Arrondissement    38.955951\n",
      "Paris 20e Arrondissement    43.005345\n",
      "Paris 2e Arrondissement     26.556997\n",
      "Paris 3e Arrondissement     55.864979\n",
      "Paris 4e Arrondissement     38.120070\n",
      "Paris 5e Arrondissement     42.248007\n",
      "Paris 6e Arrondissement     47.158843\n",
      "Paris 8e Arrondissement     46.993894\n",
      "Paris 9e Arrondissement     39.593567\n",
      "Name: pdm_en_entrees_des_films_francais_2020, dtype: float64\n"
     ]
    }
   ],
   "source": [
    "FrenchMovie = DataCinemaParis.groupby('commune')['pdm_en_entrees_des_films_francais_2020'].mean()\n",
    "print(FrenchMovie)"
   ]
  },
  {
   "cell_type": "code",
   "execution_count": 59,
   "metadata": {},
   "outputs": [
    {
     "data": {
      "text/plain": [
       "([0, 1, 2, 3, 4, 5, 6, 7, 8, 9, 10, 11, 12, 13, 14, 15, 16, 17, 18],\n",
       " [Text(0, 0, 'Paris 10e Arrondissement'),\n",
       "  Text(1, 0, 'Paris 11e Arrondissement'),\n",
       "  Text(2, 0, 'Paris 12e Arrondissement'),\n",
       "  Text(3, 0, 'Paris 13e Arrondissement'),\n",
       "  Text(4, 0, 'Paris 14e Arrondissement'),\n",
       "  Text(5, 0, 'Paris 15e Arrondissement'),\n",
       "  Text(6, 0, 'Paris 16e Arrondissement'),\n",
       "  Text(7, 0, 'Paris 17e Arrondissement'),\n",
       "  Text(8, 0, 'Paris 18e Arrondissement'),\n",
       "  Text(9, 0, 'Paris 19e Arrondissement'),\n",
       "  Text(10, 0, 'Paris 1er Arrondissement'),\n",
       "  Text(11, 0, 'Paris 20e Arrondissement'),\n",
       "  Text(12, 0, 'Paris 2e Arrondissement'),\n",
       "  Text(13, 0, 'Paris 3e Arrondissement'),\n",
       "  Text(14, 0, 'Paris 4e Arrondissement'),\n",
       "  Text(15, 0, 'Paris 5e Arrondissement'),\n",
       "  Text(16, 0, 'Paris 6e Arrondissement'),\n",
       "  Text(17, 0, 'Paris 8e Arrondissement'),\n",
       "  Text(18, 0, 'Paris 9e Arrondissement')])"
      ]
     },
     "execution_count": 59,
     "metadata": {},
     "output_type": "execute_result"
    },
    {
     "data": {
      "image/png": "[encoded data removed]",
      "text/plain": [
       "<Figure size 640x480 with 1 Axes>"
      ]
     },
     "metadata": {},
     "output_type": "display_data"
    }
   ],
   "source": [
    "plt.bar(FrenchMovie.index, FrenchMovie)\n",
    "plt.xticks(rotation = 45, ha='right')"
   ]
  },
  {
   "cell_type": "code",
   "execution_count": 57,
   "metadata": {},
   "outputs": [
    {
     "name": "stdout",
     "output_type": "stream",
     "text": [
      "commune\n",
      "Paris 10e Arrondissement    17.842129\n",
      "Paris 11e Arrondissement    19.123246\n",
      "Paris 12e Arrondissement    40.084963\n",
      "Paris 13e Arrondissement    29.139295\n",
      "Paris 14e Arrondissement    27.003941\n",
      "Paris 15e Arrondissement    38.436939\n",
      "Paris 16e Arrondissement    39.261720\n",
      "Paris 17e Arrondissement    29.101714\n",
      "Paris 18e Arrondissement    37.976307\n",
      "Paris 19e Arrondissement    39.588999\n",
      "Paris 1er Arrondissement    37.701346\n",
      "Paris 20e Arrondissement    41.792659\n",
      "Paris 2e Arrondissement     46.763038\n",
      "Paris 3e Arrondissement     13.717768\n",
      "Paris 4e Arrondissement     18.855408\n",
      "Paris 5e Arrondissement     25.535445\n",
      "Paris 6e Arrondissement     26.107333\n",
      "Paris 8e Arrondissement     28.910419\n",
      "Paris 9e Arrondissement     34.993326\n",
      "Name: pdm_en_entrees_des_films_americains_2020, dtype: float64\n"
     ]
    }
   ],
   "source": [
    "b = DataCinemaParis.groupby('commune')['pdm_en_entrees_des_films_americains_2020'].mean()\n",
    "print(b)"
   ]
  },
  {
   "cell_type": "markdown",
   "metadata": {},
   "source": [
    "#### Theater"
   ]
  },
  {
   "cell_type": "code",
   "execution_count": null,
   "metadata": {},
   "outputs": [],
   "source": []
  },
  {
   "cell_type": "code",
   "execution_count": null,
   "metadata": {},
   "outputs": [],
   "source": [
    "df = pd.read_csv('/home/onyxia/work/Maps_cultural_life_Paris/Outputs/DataSets/DataTheatre_base_finale.csv', sep=';')"
   ]
  },
  {
   "cell_type": "markdown",
   "metadata": {},
   "source": [
    "We are looking for the number of plays per district\n",
    "\n",
    "This first step helps us understand the cultural activity you will find in each district of Paris\n"
   ]
  },
  {
   "cell_type": "code",
   "execution_count": null,
   "metadata": {},
   "outputs": [],
   "source": [
    "result_df = df.groupby('commune')['etablissement'].count().reset_index()\n",
    "result_df = result_df.rename(columns={'etablissement': 'nombre_de_pieces'})\n",
    "print(result_df)"
   ]
  },
  {
   "cell_type": "code",
   "execution_count": null,
   "metadata": {},
   "outputs": [],
   "source": [
    "result_df['arrondissement'] = result_df['commune'].str.extract('(\\d+)', expand=False).astype(int)\n",
    "df_classe = result_df.sort_values(by='arrondissement')\n",
    "print(df_classe)"
   ]
  },
  {
   "cell_type": "code",
   "execution_count": null,
   "metadata": {},
   "outputs": [],
   "source": [
    "fig, ax = plt.subplots(figsize=(20, max(6, len(result_df) * 0.3)))\n",
    "ax.bar(result_df['commune'], result_df['nombre_de_pieces'], color='blue')\n",
    "ax.set_title('Nombre de pièces par quartier')\n",
    "plt.tight_layout()\n",
    "plt.show()"
   ]
  },
  {
   "cell_type": "markdown",
   "metadata": {},
   "source": [
    "We are looking for the number of plays per theatre.\n",
    "\n",
    "In this second step, we extract the number of different plays each theater will propose from now on until the end of the season (june) "
   ]
  },
  {
   "cell_type": "code",
   "execution_count": null,
   "metadata": {},
   "outputs": [],
   "source": [
    "df_pieces_par_etablissement = df.groupby('etablissement')['nom'].count().reset_index()\n",
    "df_pieces_par_etablissement = df_pieces_par_etablissement.rename(columns={'nom': 'nombre_de_pieces'})\n",
    "print(df_pieces_par_etablissement)"
   ]
  },
  {
   "cell_type": "markdown",
   "metadata": {},
   "source": [
    "We are looking for the mean price per quarter"
   ]
  },
  {
   "cell_type": "code",
   "execution_count": null,
   "metadata": {},
   "outputs": [],
   "source": [
    "\n",
    "df['prix moyen'] = df['prix moyen'].astype(str)\n",
    "df['prix moyen'] = pd.to_numeric(df['prix moyen'].str.extract('(\\d+)')[0], errors='coerce')\n",
    "df['prix moyen'] = df['prix moyen'].round(1)\n",
    "df_prix_moyen = df.groupby('commune')['prix moyen'].mean().reset_index()\n",
    "print(df_prix_moyen)"
   ]
  },
  {
   "cell_type": "code",
   "execution_count": null,
   "metadata": {},
   "outputs": [],
   "source": [
    "df_prix_moyen['arrondissement'] = df_prix_moyen['commune'].str.extract('(\\d+)', expand=False).astype(int)\n",
    "df_ordonne = df_prix_moyen.sort_values(by='arrondissement')\n",
    "print(df_ordonne)"
   ]
  },
  {
   "cell_type": "code",
   "execution_count": null,
   "metadata": {},
   "outputs": [],
   "source": [
    "from sklearn.model_selection import train_test_split\n",
    "from sklearn.linear_model import LinearRegression\n",
    "from sklearn.metrics import mean_squared_error"
   ]
  },
  {
   "cell_type": "markdown",
   "metadata": {},
   "source": [
    "We will have a closer look at Paris's district to test if their level of wealth has a significant impact on the price of theatre's tickets\n",
    "\n",
    "At first sight, it seems logicial that the more wealthy a quarter is, the higher prices will be. But how to measure it effectively ? In fact, it is difficult to measure quarter's wealth. We decided to use a simple indicator: the price of a square meter in every quarter assuming that the higher it is, the higher the purchasing power of its inhabitant will be.\n",
    "\n",
    "First step: we scraped a website with the 2023-data and saved them in the 'Prixm2' csv file"
   ]
  },
  {
   "cell_type": "code",
   "execution_count": null,
   "metadata": {},
   "outputs": [],
   "source": [
    "import bs4\n",
    "import lxml\n",
    "import pandas as pd\n",
    "import urllib\n",
    "from bs4 import BeautifulSoup\n",
    "from urllib import request\n",
    "import numpy as np"
   ]
  },
  {
   "cell_type": "code",
   "execution_count": null,
   "metadata": {},
   "outputs": [],
   "source": [
    "url = 'https://www.journaldunet.com/patrimoine/prix-immobilier/paris/ville-75056'\n",
    "request_text = request.urlopen(url).read()\n",
    "page = bs4.BeautifulSoup(request_text, 'html.parser')"
   ]
  },
  {
   "cell_type": "code",
   "execution_count": null,
   "metadata": {},
   "outputs": [],
   "source": [
    "rows = page.find_all('tr')\n",
    "informations = []\n",
    "\n",
    "for row in rows:\n",
    "    link = row.find('a')\n",
    "    columns = row.find_all('td')\n",
    "    if link and len(columns) > 1:\n",
    "        arrondissement = link.text.strip()\n",
    "        prix = columns[1].text.strip()\n",
    "        informations.append({'arrondissement': arrondissement, 'prix': prix})\n",
    "\n",
    "df2 = pd.DataFrame(informations)\n",
    "\n",
    "df2['prix'] = df2['prix'].str.replace('\\D', '', regex=True).astype(int) #removes all the non-numerical (but keeps the 2 of the m2) \n",
    "df2['prix'] = df2['prix'].astype(str).str[:-1].astype(int) #removes the last figure of our number (here the 2 from 'm2')\n",
    "\n",
    "df2.to_csv('Prixm2.csv', index = False)"
   ]
  },
  {
   "cell_type": "code",
   "execution_count": null,
   "metadata": {},
   "outputs": [],
   "source": [
    "# Regression of the price of the ticket on the price of the square meter\n"
   ]
  },
  {
   "cell_type": "code",
   "execution_count": null,
   "metadata": {},
   "outputs": [],
   "source": [
    "X=df2['prix']\n",
    "y = df_ordonne['prix moyen']\n",
    "X = X.values.reshape(-1, 1)\n",
    "model1 = LinearRegression()\n",
    "model1.fit(X,y)\n",
    "y_pred = model1.predict(X)\n",
    "plt.scatter(X, y)\n",
    "plt.plot(X, y_pred, color='red', linewidth=1.5)\n",
    "plt.xlabel('Prix du m2 dans l arrondissement')\n",
    "plt.ylabel('Prix du billet')\n",
    "plt.show()"
   ]
  },
  {
   "cell_type": "code",
   "execution_count": null,
   "metadata": {},
   "outputs": [],
   "source": [
    "print(\"Pente :\", model1.coef_)\n",
    "print(\"Fixe :\", model1.intercept_)"
   ]
  },
  {
   "cell_type": "markdown",
   "metadata": {},
   "source": [
    "Some conclusions:\n",
    "\n",
    "1- our initial intuition seems to be right: the higher the square meter costs, the higher the ticket price is. \n",
    "\n",
    "2- Except for one point, results are well shared\n",
    "\n",
    "3- Some biais: our sample of prices is made of approximation or mean + we didn't take into account all the plays for which we didn't have the price + we assume that we are lacking of data for some theatre we decided not to include in this set (theatre for which the website we scrapped had no information)."
   ]
  },
  {
   "cell_type": "code",
   "execution_count": null,
   "metadata": {},
   "outputs": [],
   "source": [
    "A = df_classe['nombre_de_pieces']\n",
    "b = df_ordonne['prix moyen']\n",
    "A= A.values.reshape(-1, 1)\n",
    "model2 = LinearRegression()\n",
    "model2.fit(A,b)\n",
    "b_pred = model2.predict(A)\n",
    "plt.scatter(A, b)\n",
    "plt.plot(A, b_pred, color='yellow', linewidth=1.5)\n",
    "plt.xlabel('Nombre de pieces dans le quartier')\n",
    "plt.ylabel('Prix du billet')\n",
    "plt.show()"
   ]
  },
  {
   "cell_type": "code",
   "execution_count": null,
   "metadata": {},
   "outputs": [],
   "source": [
    "print(\"Pente :\", model2.coef_)\n",
    "print(\"Fixe :\", model2.intercept_)"
   ]
  },
  {
   "cell_type": "markdown",
   "metadata": {},
   "source": [
    "Some conclusions: \n",
    "\n",
    "1- Here we have an interesant result: the higher plays you have in the same quarter, the lower the price of the ticket will be, which means that there is some kind of competition you could take advantage of when choosing your play and the range of price you are willing to pay. "
   ]
  },
  {
   "cell_type": "markdown",
   "metadata": {},
   "source": [
    "### Concerts"
   ]
  },
  {
   "cell_type": "markdown",
   "metadata": {},
   "source": [
    "## **III. Scrapping** \n",
    "\n",
    "We collected most of our Data using webscrapping. We used BeautifulSoup4 to webscrap the most relevant sites for our project. An error may occur while running the algorithm or some cell may take lots of time to run due to long API request. We don't recommend you to run it, except if you want to try to update the Databases that are stored in the Output sections.\n",
    "You can find all our scrapping codes in the folders dedicated to each kind of activities we were looking for. \n",
    "We only used in this project data collected by scrapping and cleaned !\n"
   ]
  }
 ],
 "metadata": {
  "kernelspec": {
   "display_name": "Python 3 (ipykernel)",
   "language": "python",
   "name": "python3"
  },
  "language_info": {
   "codemirror_mode": {
    "name": "ipython",
    "version": 3
   },
   "file_extension": ".py",
   "mimetype": "text/x-python",
   "name": "python",
   "nbconvert_exporter": "python",
   "pygments_lexer": "ipython3",
   "version": "3.10.13"
  }
 },
 "nbformat": 4,
 "nbformat_minor": 4
}
