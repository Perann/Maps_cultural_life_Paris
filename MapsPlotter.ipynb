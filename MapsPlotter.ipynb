{
 "cells": [
  {
   "cell_type": "code",
   "execution_count": null,
   "metadata": {},
   "outputs": [],
   "source": [
    "#This Notebook will be the one that generates map according to the activity you want to do\n",
    "#Different activities are in diffrents cells\n",
    "#Cards are generated in the File Output/Maps/. \n",
    "# You need to open them with a webbrowser. You can either install the 'Open with browser VSCODE extension'ArithmeticError' \n",
    "# or use Jupyterlab."
   ]
  },
  {
   "cell_type": "code",
   "execution_count": null,
   "metadata": {},
   "outputs": [],
   "source": [
    "import folium\n",
    "import pandas as pd \n",
    "from folium.plugins import MarkerCluster\n",
    "import webbrowser\n",
    "from datetime import datetime"
   ]
  },
  {
   "cell_type": "code",
   "execution_count": 4,
   "metadata": {},
   "outputs": [],
   "source": [
    "#Cinema: This code will plot a map giving you all the movie stream the 24 december 2023 in Paris between\n",
    "# two hours that are MinHour and Maxhour\n",
    "\n",
    "def HourConversion(string):                  #Converts the date in the Dataframe in a Datetime object\n",
    "    return datetime.strptime(string, '%H:%M') \n",
    "\n",
    "def MovieMapping(data,MinHour:'HHhMM',MaxHour:'HHhMM'):      #Plots the map\n",
    "    \n",
    "    HeureDebut = datetime.strptime(MinHour, \"%Hh%M\")\n",
    "    HeureFin = datetime.strptime(MaxHour, \"%Hh%M\")\n",
    "    \n",
    "    \n",
    "    data['time'] = data['heure'].apply(lambda x: HourConversion(x))\n",
    "    AdjustedData = data[data['time']>= HeureDebut]\n",
    "    AdjustedData = AdjustedData[AdjustedData['time'] <= HeureFin]\n",
    "    \n",
    "    MovieMap = folium.Map(location=[48.8566, 2.3522], zoom_start=12)\n",
    "    GeoVisited = {}\n",
    "\n",
    "    for index, row in AdjustedData.iterrows():\n",
    "        lat = row['geo'].split(',')[0]\n",
    "        lon = row['geo'].split(',')[1]\n",
    "    \n",
    "        content = \"<h4 style='color:black;'>\" + row['nom'] + \"</h4>\" \\\n",
    "                \"<p style='font-size:16px;'>\" + row['etablissement'] + \"</p>\"\\\n",
    "                \"<p style='font-size:16px;'>\" + row['heure'] + \"</p>\"\n",
    "        \n",
    "        if (lat,lon) not in GeoVisited.keys():\n",
    "            GeoVisited[(lat,lon)] = MarkerCluster().add_to(MovieMap)\n",
    "            folium.Marker(location=(lat,lon), popup = content, max_width=500).add_to(GeoVisited[(lat,lon)])\n",
    "        else:\n",
    "            folium.Marker(location=(lat,lon), popup = content, max_width=500).add_to(GeoVisited[(lat,lon)])\n",
    "    MovieMap.save(\"/home/onyxia/work/Maps_cultural_life_Paris/Outputs/Maps/MovieMap.html\")\n",
    "    \n",
    "\n",
    "#Example: Display all the projections that begin between 17h30 and 20h00 on the 28 th of December (ref Date for the Dataset)\n",
    "    \n",
    "program = pd.read_csv('/home/onyxia/work/Maps_cultural_life_Paris/Outputs/DataSets/DataCinema.csv')\n",
    "MovieMapping(program,'17h30','20h00')       # We find all the movie streamed between 17h30 and 20h00\n",
    "                                            # You can change the times as you want\n",
    "\n"
   ]
  },
  {
   "cell_type": "code",
   "execution_count": 7,
   "metadata": {},
   "outputs": [],
   "source": [
    "#Theater: This code will plot a map giving you all theater pieces played on a precise date in Paris.\n",
    "\n",
    "def TheaterMap(data:'Pandas DataFrame',date:'YYYY-MM-DD'):\n",
    "\n",
    "    user_date = datetime.strptime(date, '%Y-%m-%d')\n",
    "    data['date début'] = pd.to_datetime(data['date début'])\n",
    "    data['date fin'] = pd.to_datetime(data['date fin'])\n",
    "    filtered_data = data[(data['date début'] <= user_date) & (user_date <= data['date fin'])]\n",
    "\n",
    "    paris_coordinates = [48.8566, 2.3522]\n",
    "    my_map = folium.Map(location=paris_coordinates, zoom_start=12)\n",
    "\n",
    "    for index, row in filtered_data.iterrows():\n",
    "        establishment_name = row['etablissement']\n",
    "        address = row['adresse']\n",
    "        show_name = row['nom']\n",
    "        average_price = row['prix moyen']\n",
    "\n",
    "        coordinates = [float(coord.strip('()')) for coord in row['Coordonnees'].split(',')]\n",
    "        popup_text = f\"<b>{establishment_name}</b><br>Adresse: {address}<br>Pièce: {show_name}<br>Prix moyen: {average_price} €\"\n",
    "        folium.Marker(location=coordinates, popup=popup_text).add_to(my_map)\n",
    "    \n",
    "    my_map.save(\"/home/onyxia/work/Maps_cultural_life_Paris/Outputs/Maps/Theatermap.html\")\n",
    "\n",
    "#Example: Display all theater pieces played the 12th january 2024 in Paris\n",
    "DataTheater = pd.read_csv('/home/onyxia/work/Maps_cultural_life_Paris/Outputs/DataSets/DataTheatre_base_finale.csv', sep=';')\n",
    "TheaterMap(DataTheater,'2024-01-12' )"
   ]
  },
  {
   "cell_type": "code",
   "execution_count": null,
   "metadata": {},
   "outputs": [],
   "source": [
    "#Concert: "
   ]
  }
 ],
 "metadata": {
  "kernelspec": {
   "display_name": "base",
   "language": "python",
   "name": "python3"
  },
  "language_info": {
   "codemirror_mode": {
    "name": "ipython",
    "version": 3
   },
   "file_extension": ".py",
   "mimetype": "text/x-python",
   "name": "python",
   "nbconvert_exporter": "python",
   "pygments_lexer": "ipython3",
   "version": "3.10.13"
  }
 },
 "nbformat": 4,
 "nbformat_minor": 2
}
