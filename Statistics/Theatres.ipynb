{
 "cells": [
  {
   "cell_type": "code",
   "execution_count": 1,
   "id": "a64470e1-08f1-4826-8f40-54ac33da2237",
   "metadata": {},
   "outputs": [
    {
     "name": "stdout",
     "output_type": "stream",
     "text": [
      "Collecting xlrd\n",
      "  Downloading xlrd-2.0.1-py2.py3-none-any.whl (96 kB)\n",
      "\u001b[2K     \u001b[90m━━━━━━━━━━━━━━━━━━━━━━━━━━━━━━━━━━━━━━━━\u001b[0m \u001b[32m96.5/96.5 kB\u001b[0m \u001b[31m12.9 MB/s\u001b[0m eta \u001b[36m0:00:00\u001b[0m\n",
      "\u001b[?25hInstalling collected packages: xlrd\n",
      "Successfully installed xlrd-2.0.1\n",
      "Requirement already satisfied: geopandas in /opt/mamba/lib/python3.10/site-packages (0.14.1)\n",
      "Requirement already satisfied: fiona>=1.8.21 in /opt/mamba/lib/python3.10/site-packages (from geopandas) (1.9.3)\n",
      "Requirement already satisfied: packaging in /opt/mamba/lib/python3.10/site-packages (from geopandas) (23.1)\n",
      "Requirement already satisfied: pandas>=1.4.0 in /opt/mamba/lib/python3.10/site-packages (from geopandas) (2.1.4)\n",
      "Requirement already satisfied: pyproj>=3.3.0 in /opt/mamba/lib/python3.10/site-packages (from geopandas) (3.6.1)\n",
      "Requirement already satisfied: shapely>=1.8.0 in /opt/mamba/lib/python3.10/site-packages (from geopandas) (2.0.2)\n",
      "Requirement already satisfied: attrs>=19.2.0 in /opt/mamba/lib/python3.10/site-packages (from fiona>=1.8.21->geopandas) (23.1.0)\n",
      "Requirement already satisfied: certifi in /opt/mamba/lib/python3.10/site-packages (from fiona>=1.8.21->geopandas) (2023.11.17)\n",
      "Requirement already satisfied: click~=8.0 in /opt/mamba/lib/python3.10/site-packages (from fiona>=1.8.21->geopandas) (8.1.7)\n",
      "Requirement already satisfied: click-plugins>=1.0 in /opt/mamba/lib/python3.10/site-packages (from fiona>=1.8.21->geopandas) (1.1.1)\n",
      "Requirement already satisfied: cligj>=0.5 in /opt/mamba/lib/python3.10/site-packages (from fiona>=1.8.21->geopandas) (0.7.2)\n",
      "Requirement already satisfied: munch>=2.3.2 in /opt/mamba/lib/python3.10/site-packages (from fiona>=1.8.21->geopandas) (4.0.0)\n",
      "Requirement already satisfied: numpy<2,>=1.22.4 in /opt/mamba/lib/python3.10/site-packages (from pandas>=1.4.0->geopandas) (1.26.2)\n",
      "Requirement already satisfied: python-dateutil>=2.8.2 in /opt/mamba/lib/python3.10/site-packages (from pandas>=1.4.0->geopandas) (2.8.2)\n",
      "Requirement already satisfied: pytz>=2020.1 in /opt/mamba/lib/python3.10/site-packages (from pandas>=1.4.0->geopandas) (2023.3.post1)\n",
      "Requirement already satisfied: tzdata>=2022.1 in /opt/mamba/lib/python3.10/site-packages (from pandas>=1.4.0->geopandas) (2023.3)\n",
      "Requirement already satisfied: six>=1.5 in /opt/mamba/lib/python3.10/site-packages (from python-dateutil>=2.8.2->pandas>=1.4.0->geopandas) (1.16.0)\n"
     ]
    }
   ],
   "source": [
    "!pip install --upgrade xlrd\n",
    "!pip install geopandas"
   ]
  },
  {
   "cell_type": "code",
   "execution_count": 15,
   "id": "36aac781-2a3f-4dfd-b75d-d152bed4aa38",
   "metadata": {},
   "outputs": [],
   "source": [
    "import requests\n",
    "import pandas as pd\n",
    "import matplotlib.pyplot as plt"
   ]
  },
  {
   "cell_type": "code",
   "execution_count": 123,
   "id": "c9e255d1-36e8-4ca5-bc0b-da1f33840d99",
   "metadata": {},
   "outputs": [],
   "source": [
    "df = pd.read_csv('/home/onyxia/work/Maps_cultural_life_Paris/Outputs/DataSets/DataTheatre_base_finale.csv', sep=';')"
   ]
  },
  {
   "cell_type": "code",
   "execution_count": null,
   "id": "9f781ec4-38da-4802-aa02-21ab5dd69ce0",
   "metadata": {},
   "outputs": [],
   "source": [
    "# We are looking for the number of plays per quarter"
   ]
  },
  {
   "cell_type": "code",
   "execution_count": 124,
   "id": "68e6c790-e2f6-47e3-aaad-9c4c2badc88f",
   "metadata": {},
   "outputs": [
    {
     "name": "stdout",
     "output_type": "stream",
     "text": [
      "      commune  nombre_de_pieces\n",
      "0   Paris 10e                52\n",
      "1   Paris 11e                49\n",
      "2   Paris 12e                38\n",
      "3   Paris 13e                14\n",
      "4   Paris 14e                31\n",
      "5   Paris 15e                26\n",
      "6   Paris 16e                13\n",
      "7   Paris 17e                13\n",
      "8   Paris 18e                79\n",
      "9   Paris 19e                37\n",
      "10  Paris 1er                10\n",
      "11  Paris 20e                19\n",
      "12   Paris 2e                18\n",
      "13   Paris 3e                 4\n",
      "14   Paris 4e                46\n",
      "15   Paris 5e                25\n",
      "16   Paris 6e                29\n",
      "17   Paris 7e                 1\n",
      "18   Paris 8e                37\n",
      "19   Paris 9e                44\n"
     ]
    }
   ],
   "source": [
    "result_df = df.groupby('commune')['etablissement'].count().reset_index()\n",
    "\n",
    "result_df = result_df.rename(columns={'etablissement': 'nombre_de_pieces'})\n",
    "\n",
    "print(result_df)"
   ]
  },
  {
   "cell_type": "code",
   "execution_count": 125,
   "id": "f74b2d8d-f841-4778-8f10-2a416917b700",
   "metadata": {},
   "outputs": [
    {
     "name": "stdout",
     "output_type": "stream",
     "text": [
      "      commune  nombre_de_pieces  arrondissement\n",
      "10  Paris 1er                10               1\n",
      "12   Paris 2e                18               2\n",
      "13   Paris 3e                 4               3\n",
      "14   Paris 4e                46               4\n",
      "15   Paris 5e                25               5\n",
      "16   Paris 6e                29               6\n",
      "17   Paris 7e                 1               7\n",
      "18   Paris 8e                37               8\n",
      "19   Paris 9e                44               9\n",
      "0   Paris 10e                52              10\n",
      "1   Paris 11e                49              11\n",
      "2   Paris 12e                38              12\n",
      "3   Paris 13e                14              13\n",
      "4   Paris 14e                31              14\n",
      "5   Paris 15e                26              15\n",
      "6   Paris 16e                13              16\n",
      "7   Paris 17e                13              17\n",
      "8   Paris 18e                79              18\n",
      "9   Paris 19e                37              19\n",
      "11  Paris 20e                19              20\n"
     ]
    }
   ],
   "source": [
    "result_df['arrondissement'] = result_df['commune'].str.extract('(\\d+)', expand=False).astype(int)\n",
    "\n",
    "df_classe = result_df.sort_values(by='arrondissement')\n",
    "\n",
    "print(df_classe)"
   ]
  },
  {
   "cell_type": "code",
   "execution_count": 126,
   "id": "c5f68c33-1194-4818-82b9-c5dff193aee0",
   "metadata": {},
   "outputs": [
    {
     "data": {
      "image/png": "[encoded data removed]",
      "text/plain": [
       "<Figure size 2000x600 with 1 Axes>"
      ]
     },
     "metadata": {},
     "output_type": "display_data"
    }
   ],
   "source": [
    "fig, ax = plt.subplots(figsize=(20, max(6, len(result_df) * 0.3)))\n",
    "ax.bar(result_df['commune'], result_df['nombre_de_pieces'], color='blue')\n",
    "ax.set_title('Nombre de pièces par quartier')\n",
    "plt.tight_layout()\n",
    "plt.show()"
   ]
  },
  {
   "cell_type": "code",
   "execution_count": null,
   "id": "8a8901f1-24a7-4c10-b0e3-fc71d3812a35",
   "metadata": {},
   "outputs": [],
   "source": [
    "# We are looking for the number of plays per theatre"
   ]
  },
  {
   "cell_type": "code",
   "execution_count": 127,
   "id": "a7a57c8d-2a1e-46b1-bb8c-c3c5563db461",
   "metadata": {},
   "outputs": [],
   "source": [
    "df_pieces_par_etablissement = df.groupby('etablissement')['nom'].count().reset_index()\n",
    "df_pieces_par_etablissement = df_pieces_par_etablissement.rename(columns={'nom': 'nombre_de_pieces'})"
   ]
  },
  {
   "cell_type": "code",
   "execution_count": 128,
   "id": "3cbd70a1-fefb-44bd-8bd7-1ee43dd224dd",
   "metadata": {},
   "outputs": [
    {
     "name": "stdout",
     "output_type": "stream",
     "text": [
      "                        etablissement  nombre_de_pieces\n",
      "0                            Alhambra                 2\n",
      "1                      Apollo Théâtre                 1\n",
      "2                    Artistic Théâtre                 1\n",
      "3        Athénée Théâtre Louis-Jouvet                 3\n",
      "4                    Au Port du Salut                 1\n",
      "..                                ...               ...\n",
      "120             Théâtre du Rond-Point                15\n",
      "121  Théâtre du Soleil - Cartoucherie                 3\n",
      "122               Théâtre Édouard VII                 2\n",
      "123                À la Folie Théâtre                 5\n",
      "124             Église Saint-Augustin                 1\n",
      "\n",
      "[125 rows x 2 columns]\n"
     ]
    }
   ],
   "source": [
    "print(df_pieces_par_etablissement)"
   ]
  },
  {
   "cell_type": "code",
   "execution_count": null,
   "id": "274a9eab-fc16-4c6f-b82d-c3088443bd32",
   "metadata": {},
   "outputs": [],
   "source": [
    "# We are looking for the mean price per quarter"
   ]
  },
  {
   "cell_type": "code",
   "execution_count": 146,
   "id": "57e40957-c183-44a8-9828-e2aee1f7ceb5",
   "metadata": {},
   "outputs": [
    {
     "ename": "AttributeError",
     "evalue": "Can only use .str accessor with string values!",
     "output_type": "error",
     "traceback": [
      "\u001b[0;31m---------------------------------------------------------------------------\u001b[0m",
      "\u001b[0;31mAttributeError\u001b[0m                            Traceback (most recent call last)",
      "Cell \u001b[0;32mIn[146], line 1\u001b[0m\n\u001b[0;32m----> 1\u001b[0m df[\u001b[38;5;124m'\u001b[39m\u001b[38;5;124mprix moyen\u001b[39m\u001b[38;5;124m'\u001b[39m] \u001b[38;5;241m=\u001b[39m pd\u001b[38;5;241m.\u001b[39mto_numeric(\u001b[43mdf\u001b[49m\u001b[43m[\u001b[49m\u001b[38;5;124;43m'\u001b[39;49m\u001b[38;5;124;43mprix moyen\u001b[39;49m\u001b[38;5;124;43m'\u001b[39;49m\u001b[43m]\u001b[49m\u001b[38;5;241;43m.\u001b[39;49m\u001b[43mstr\u001b[49m\u001b[38;5;241m.\u001b[39mreplace(\u001b[38;5;124mr\u001b[39m\u001b[38;5;124m'\u001b[39m\u001b[38;5;124m\\\u001b[39m\u001b[38;5;124mD\u001b[39m\u001b[38;5;124m'\u001b[39m, \u001b[38;5;124m'\u001b[39m\u001b[38;5;124m'\u001b[39m), errors\u001b[38;5;241m=\u001b[39m\u001b[38;5;124m'\u001b[39m\u001b[38;5;124mcoerce\u001b[39m\u001b[38;5;124m'\u001b[39m)\n\u001b[1;32m      3\u001b[0m df_cleaned \u001b[38;5;241m=\u001b[39m df\u001b[38;5;241m.\u001b[39mdropna(subset\u001b[38;5;241m=\u001b[39m[\u001b[38;5;124m'\u001b[39m\u001b[38;5;124mprix moyen\u001b[39m\u001b[38;5;124m'\u001b[39m]) \u001b[38;5;66;03m# We drop the 'unkwon' lines in the columns 'prix moyen'\u001b[39;00m\n\u001b[1;32m      5\u001b[0m df_prix_moyen \u001b[38;5;241m=\u001b[39m df_cleaned\u001b[38;5;241m.\u001b[39mgroupby(\u001b[38;5;124m'\u001b[39m\u001b[38;5;124mcommune\u001b[39m\u001b[38;5;124m'\u001b[39m)[\u001b[38;5;124m'\u001b[39m\u001b[38;5;124mprix moyen\u001b[39m\u001b[38;5;124m'\u001b[39m]\u001b[38;5;241m.\u001b[39mmean()\u001b[38;5;241m.\u001b[39mreset_index()\n",
      "File \u001b[0;32m/opt/mamba/lib/python3.10/site-packages/pandas/core/generic.py:6204\u001b[0m, in \u001b[0;36mNDFrame.__getattr__\u001b[0;34m(self, name)\u001b[0m\n\u001b[1;32m   6197\u001b[0m \u001b[38;5;28;01mif\u001b[39;00m (\n\u001b[1;32m   6198\u001b[0m     name \u001b[38;5;129;01mnot\u001b[39;00m \u001b[38;5;129;01min\u001b[39;00m \u001b[38;5;28mself\u001b[39m\u001b[38;5;241m.\u001b[39m_internal_names_set\n\u001b[1;32m   6199\u001b[0m     \u001b[38;5;129;01mand\u001b[39;00m name \u001b[38;5;129;01mnot\u001b[39;00m \u001b[38;5;129;01min\u001b[39;00m \u001b[38;5;28mself\u001b[39m\u001b[38;5;241m.\u001b[39m_metadata\n\u001b[1;32m   6200\u001b[0m     \u001b[38;5;129;01mand\u001b[39;00m name \u001b[38;5;129;01mnot\u001b[39;00m \u001b[38;5;129;01min\u001b[39;00m \u001b[38;5;28mself\u001b[39m\u001b[38;5;241m.\u001b[39m_accessors\n\u001b[1;32m   6201\u001b[0m     \u001b[38;5;129;01mand\u001b[39;00m \u001b[38;5;28mself\u001b[39m\u001b[38;5;241m.\u001b[39m_info_axis\u001b[38;5;241m.\u001b[39m_can_hold_identifiers_and_holds_name(name)\n\u001b[1;32m   6202\u001b[0m ):\n\u001b[1;32m   6203\u001b[0m     \u001b[38;5;28;01mreturn\u001b[39;00m \u001b[38;5;28mself\u001b[39m[name]\n\u001b[0;32m-> 6204\u001b[0m \u001b[38;5;28;01mreturn\u001b[39;00m \u001b[38;5;28;43mobject\u001b[39;49m\u001b[38;5;241;43m.\u001b[39;49m\u001b[38;5;21;43m__getattribute__\u001b[39;49m\u001b[43m(\u001b[49m\u001b[38;5;28;43mself\u001b[39;49m\u001b[43m,\u001b[49m\u001b[43m \u001b[49m\u001b[43mname\u001b[49m\u001b[43m)\u001b[49m\n",
      "File \u001b[0;32m/opt/mamba/lib/python3.10/site-packages/pandas/core/accessor.py:224\u001b[0m, in \u001b[0;36mCachedAccessor.__get__\u001b[0;34m(self, obj, cls)\u001b[0m\n\u001b[1;32m    221\u001b[0m \u001b[38;5;28;01mif\u001b[39;00m obj \u001b[38;5;129;01mis\u001b[39;00m \u001b[38;5;28;01mNone\u001b[39;00m:\n\u001b[1;32m    222\u001b[0m     \u001b[38;5;66;03m# we're accessing the attribute of the class, i.e., Dataset.geo\u001b[39;00m\n\u001b[1;32m    223\u001b[0m     \u001b[38;5;28;01mreturn\u001b[39;00m \u001b[38;5;28mself\u001b[39m\u001b[38;5;241m.\u001b[39m_accessor\n\u001b[0;32m--> 224\u001b[0m accessor_obj \u001b[38;5;241m=\u001b[39m \u001b[38;5;28;43mself\u001b[39;49m\u001b[38;5;241;43m.\u001b[39;49m\u001b[43m_accessor\u001b[49m\u001b[43m(\u001b[49m\u001b[43mobj\u001b[49m\u001b[43m)\u001b[49m\n\u001b[1;32m    225\u001b[0m \u001b[38;5;66;03m# Replace the property with the accessor object. Inspired by:\u001b[39;00m\n\u001b[1;32m    226\u001b[0m \u001b[38;5;66;03m# https://www.pydanny.com/cached-property.html\u001b[39;00m\n\u001b[1;32m    227\u001b[0m \u001b[38;5;66;03m# We need to use object.__setattr__ because we overwrite __setattr__ on\u001b[39;00m\n\u001b[1;32m    228\u001b[0m \u001b[38;5;66;03m# NDFrame\u001b[39;00m\n\u001b[1;32m    229\u001b[0m \u001b[38;5;28mobject\u001b[39m\u001b[38;5;241m.\u001b[39m\u001b[38;5;21m__setattr__\u001b[39m(obj, \u001b[38;5;28mself\u001b[39m\u001b[38;5;241m.\u001b[39m_name, accessor_obj)\n",
      "File \u001b[0;32m/opt/mamba/lib/python3.10/site-packages/pandas/core/strings/accessor.py:190\u001b[0m, in \u001b[0;36mStringMethods.__init__\u001b[0;34m(self, data)\u001b[0m\n\u001b[1;32m    187\u001b[0m \u001b[38;5;28;01mdef\u001b[39;00m \u001b[38;5;21m__init__\u001b[39m(\u001b[38;5;28mself\u001b[39m, data) \u001b[38;5;241m-\u001b[39m\u001b[38;5;241m>\u001b[39m \u001b[38;5;28;01mNone\u001b[39;00m:\n\u001b[1;32m    188\u001b[0m     \u001b[38;5;28;01mfrom\u001b[39;00m \u001b[38;5;21;01mpandas\u001b[39;00m\u001b[38;5;21;01m.\u001b[39;00m\u001b[38;5;21;01mcore\u001b[39;00m\u001b[38;5;21;01m.\u001b[39;00m\u001b[38;5;21;01marrays\u001b[39;00m\u001b[38;5;21;01m.\u001b[39;00m\u001b[38;5;21;01mstring_\u001b[39;00m \u001b[38;5;28;01mimport\u001b[39;00m StringDtype\n\u001b[0;32m--> 190\u001b[0m     \u001b[38;5;28mself\u001b[39m\u001b[38;5;241m.\u001b[39m_inferred_dtype \u001b[38;5;241m=\u001b[39m \u001b[38;5;28;43mself\u001b[39;49m\u001b[38;5;241;43m.\u001b[39;49m\u001b[43m_validate\u001b[49m\u001b[43m(\u001b[49m\u001b[43mdata\u001b[49m\u001b[43m)\u001b[49m\n\u001b[1;32m    191\u001b[0m     \u001b[38;5;28mself\u001b[39m\u001b[38;5;241m.\u001b[39m_is_categorical \u001b[38;5;241m=\u001b[39m \u001b[38;5;28misinstance\u001b[39m(data\u001b[38;5;241m.\u001b[39mdtype, CategoricalDtype)\n\u001b[1;32m    192\u001b[0m     \u001b[38;5;28mself\u001b[39m\u001b[38;5;241m.\u001b[39m_is_string \u001b[38;5;241m=\u001b[39m \u001b[38;5;28misinstance\u001b[39m(data\u001b[38;5;241m.\u001b[39mdtype, StringDtype)\n",
      "File \u001b[0;32m/opt/mamba/lib/python3.10/site-packages/pandas/core/strings/accessor.py:244\u001b[0m, in \u001b[0;36mStringMethods._validate\u001b[0;34m(data)\u001b[0m\n\u001b[1;32m    241\u001b[0m inferred_dtype \u001b[38;5;241m=\u001b[39m lib\u001b[38;5;241m.\u001b[39minfer_dtype(values, skipna\u001b[38;5;241m=\u001b[39m\u001b[38;5;28;01mTrue\u001b[39;00m)\n\u001b[1;32m    243\u001b[0m \u001b[38;5;28;01mif\u001b[39;00m inferred_dtype \u001b[38;5;129;01mnot\u001b[39;00m \u001b[38;5;129;01min\u001b[39;00m allowed_types:\n\u001b[0;32m--> 244\u001b[0m     \u001b[38;5;28;01mraise\u001b[39;00m \u001b[38;5;167;01mAttributeError\u001b[39;00m(\u001b[38;5;124m\"\u001b[39m\u001b[38;5;124mCan only use .str accessor with string values!\u001b[39m\u001b[38;5;124m\"\u001b[39m)\n\u001b[1;32m    245\u001b[0m \u001b[38;5;28;01mreturn\u001b[39;00m inferred_dtype\n",
      "\u001b[0;31mAttributeError\u001b[0m: Can only use .str accessor with string values!"
     ]
    }
   ],
   "source": [
    "df['prix moyen'] = pd.to_numeric(df['prix moyen'].str.replace(r'\\D', ''), errors='coerce')\n",
    "\n",
    "df_cleaned = df.dropna(subset=['prix moyen']) # We drop the 'unkwon' lines in the columns 'prix moyen'\n",
    "\n",
    "df_prix_moyen = df_cleaned.groupby('commune')['prix moyen'].mean().reset_index()\n",
    "\n",
    "print(df_prix_moyen)"
   ]
  },
  {
   "cell_type": "code",
   "execution_count": 144,
   "id": "a1625cdc-c40d-4a7a-ba40-40ef950e688f",
   "metadata": {},
   "outputs": [
    {
     "name": "stdout",
     "output_type": "stream",
     "text": [
      "      commune  prix moyen  arrondissement\n",
      "10  Paris 1er   55.250000               1\n",
      "12   Paris 2e   31.941176               2\n",
      "13   Paris 3e   32.125000               3\n",
      "14   Paris 4e   24.785714               4\n",
      "15   Paris 5e   24.979167               5\n",
      "16   Paris 6e   27.000000               6\n",
      "17   Paris 7e   27.500000               7\n",
      "18   Paris 8e   34.257576               8\n",
      "19   Paris 9e   30.808824               9\n",
      "0   Paris 10e   31.140000              10\n",
      "1   Paris 11e   23.891304              11\n",
      "2   Paris 12e   18.065789              12\n",
      "3   Paris 13e   29.107143              13\n",
      "4   Paris 14e   26.107143              14\n",
      "5   Paris 15e   22.375000              15\n",
      "6   Paris 16e   27.583333              16\n",
      "7   Paris 17e   27.550000              17\n",
      "8   Paris 18e   22.130435              18\n",
      "9   Paris 19e   16.410714              19\n",
      "11  Paris 20e   19.777778              20\n"
     ]
    }
   ],
   "source": [
    "df_prix_moyen['arrondissement'] = df_prix_moyen['commune'].str.extract('(\\d+)', expand=False).astype(int)\n",
    "\n",
    "df_ordonne = df_prix_moyen.sort_values(by='arrondissement')\n",
    "\n",
    "print(df_ordonne)"
   ]
  },
  {
   "cell_type": "code",
   "execution_count": 132,
   "id": "967a01e7-bbaa-4c7a-9460-7e8e8f0154d8",
   "metadata": {},
   "outputs": [],
   "source": [
    "from sklearn.model_selection import train_test_split\n",
    "from sklearn.linear_model import LinearRegression\n",
    "from sklearn.metrics import mean_squared_error"
   ]
  },
  {
   "cell_type": "code",
   "execution_count": 133,
   "id": "9b157458-7522-4488-8e9c-a7d7bee47d47",
   "metadata": {},
   "outputs": [],
   "source": [
    "# We will have a closer look at Paris's district to test if their level of wealth has a significant impact on the price of theatre's tickets"
   ]
  },
  {
   "cell_type": "code",
   "execution_count": 134,
   "id": "6eba071c-741c-4a9b-b4a3-1be54f739148",
   "metadata": {},
   "outputs": [],
   "source": [
    "# We use the price of the square meter in each quarter to approximate the wealth level"
   ]
  },
  {
   "cell_type": "code",
   "execution_count": 135,
   "id": "da89d0b7-6791-42c7-8537-5ce5a2ac1195",
   "metadata": {},
   "outputs": [],
   "source": [
    "!pip install -q lxml\n",
    "\n",
    "import bs4\n",
    "import lxml\n",
    "import pandas as pd\n",
    "import urllib\n",
    "from bs4 import BeautifulSoup\n",
    "from urllib import request"
   ]
  },
  {
   "cell_type": "code",
   "execution_count": 136,
   "id": "eec9179e-2f1a-4aa9-80fe-8836d7ded1c2",
   "metadata": {},
   "outputs": [],
   "source": [
    "url = 'https://www.journaldunet.com/patrimoine/prix-immobilier/paris/ville-75056'\n",
    "request_text = request.urlopen(url).read()\n",
    "page = bs4.BeautifulSoup(request_text, 'html.parser')"
   ]
  },
  {
   "cell_type": "code",
   "execution_count": 138,
   "id": "ff202768-fbb8-4753-ab82-94ecea9319e4",
   "metadata": {},
   "outputs": [],
   "source": [
    "rows = page.find_all('tr')\n",
    "informations = []\n",
    "\n",
    "for row in rows:\n",
    "    link = row.find('a')\n",
    "    columns = row.find_all('td')\n",
    "    if link and len(columns) > 1:\n",
    "        arrondissement = link.text.strip()\n",
    "        prix = columns[1].text.strip()\n",
    "        informations.append({'arrondissement': arrondissement, 'prix': prix})\n",
    "\n",
    "df2 = pd.DataFrame(informations)\n",
    "\n",
    "df2['prix'] = df2['prix'].str.replace('\\D', '', regex=True).astype(int) #removes all the non-numerical (but keeps the 2 of the m2) \n",
    "df2['prix'] = df2['prix'].astype(str).str[:-1].astype(int) #removes the last figure of our number (here the 2 from 'm2')\n"
   ]
  },
  {
   "cell_type": "code",
   "execution_count": 139,
   "id": "24e85a8a-6693-4e9c-9ef2-698a57f70faf",
   "metadata": {},
   "outputs": [],
   "source": [
    "df2.to_csv('Prixm2.csv', index = False)"
   ]
  },
  {
   "cell_type": "code",
   "execution_count": 140,
   "id": "300df34a-565a-4e56-913f-cca16cac6a34",
   "metadata": {},
   "outputs": [],
   "source": [
    "#Regression of the price of the ticket on the price of the square meter"
   ]
  },
  {
   "cell_type": "code",
   "execution_count": 110,
   "id": "f5fa50c8-02f8-4f9e-bd5d-5c09ad4199c4",
   "metadata": {},
   "outputs": [],
   "source": [
    "X=df2['prix']\n",
    "y = df_ordonne['prix moyen']"
   ]
  },
  {
   "cell_type": "code",
   "execution_count": 111,
   "id": "59ecc7bf-c8ab-4b66-b91c-82799160a6fd",
   "metadata": {},
   "outputs": [],
   "source": [
    "import numpy as np"
   ]
  },
  {
   "cell_type": "code",
   "execution_count": 112,
   "id": "9a205208-9e9b-47c3-ab5e-c8a2ddcfebe3",
   "metadata": {},
   "outputs": [],
   "source": [
    "X = X.values.reshape(-1, 1)"
   ]
  },
  {
   "cell_type": "code",
   "execution_count": 113,
   "id": "585a25fd-8436-4ca4-9f47-21e61be84933",
   "metadata": {},
   "outputs": [],
   "source": [
    "model = LinearRegression()\n",
    "model.fit(X,y)\n",
    "y_pred = model.predict(X)"
   ]
  },
  {
   "cell_type": "code",
   "execution_count": 115,
   "id": "52923a9b-a5f2-4593-a1cc-77e0fb5d90b4",
   "metadata": {},
   "outputs": [
    {
     "data": {
      "image/png": "[encoded data removed]",
      "text/plain": [
       "<Figure size 640x480 with 1 Axes>"
      ]
     },
     "metadata": {},
     "output_type": "display_data"
    }
   ],
   "source": [
    "plt.scatter(X, y)\n",
    "plt.plot(X, y_pred, color='red', linewidth=1.5)\n",
    "plt.xlabel('Prix du m2 dans l arrondissement')\n",
    "plt.ylabel('Prix du billet')\n",
    "plt.show()"
   ]
  },
  {
   "cell_type": "code",
   "execution_count": null,
   "id": "ed89cd34-9947-4463-a5a6-504b69d56520",
   "metadata": {},
   "outputs": [],
   "source": [
    "# We have a closer look at the link between the number of estblishments in a quarter and the price of the ticket"
   ]
  },
  {
   "cell_type": "code",
   "execution_count": 118,
   "id": "bdb58b5b-13c9-4607-9426-1010aae89278",
   "metadata": {},
   "outputs": [],
   "source": [
    "A = df_classe['nombre_de_pieces']\n",
    "b = df_ordonne['prix moyen']\n",
    "A= A.values.reshape(-1, 1)"
   ]
  },
  {
   "cell_type": "code",
   "execution_count": 119,
   "id": "7c5ef3e6-ba90-400d-8d9d-54c2f9b07332",
   "metadata": {},
   "outputs": [],
   "source": [
    "model.fit(A,b)\n",
    "b_pred = model.predict(A)"
   ]
  },
  {
   "cell_type": "code",
   "execution_count": 120,
   "id": "564c6782-0380-4427-9e4f-ce633ba95c98",
   "metadata": {},
   "outputs": [
    {
     "data": {
      "image/png": "[encoded data removed]",
      "text/plain": [
       "<Figure size 640x480 with 1 Axes>"
      ]
     },
     "metadata": {},
     "output_type": "display_data"
    }
   ],
   "source": [
    "plt.scatter(A, b)\n",
    "plt.plot(A, b_pred, color='yellow', linewidth=1.5)\n",
    "plt.xlabel('Nombre de pieces dans le quartier')\n",
    "plt.ylabel('Prix du billet')\n",
    "plt.show()"
   ]
  },
  {
   "cell_type": "code",
   "execution_count": null,
   "id": "296859b0-eab3-4c9e-88aa-2fdd913e3c32",
   "metadata": {},
   "outputs": [],
   "source": []
  }
 ],
 "metadata": {
  "kernelspec": {
   "display_name": "Python 3 (ipykernel)",
   "language": "python",
   "name": "python3"
  },
  "language_info": {
   "codemirror_mode": {
    "name": "ipython",
    "version": 3
   },
   "file_extension": ".py",
   "mimetype": "text/x-python",
   "name": "python",
   "nbconvert_exporter": "python",
   "pygments_lexer": "ipython3",
   "version": "3.10.13"
  }
 },
 "nbformat": 4,
 "nbformat_minor": 5
}
